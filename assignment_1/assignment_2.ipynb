{
  "cells": [
    {
      "cell_type": "markdown",
      "id": "0aff21fc",
      "metadata": {},
      "source": [
        "---\n",
        "title: \"Sexism Detection\"\n",
        "author:\n",
        "  - Francesco Baiocchi\n",
        "  - Christian Di Buò\n",
        "  - Leonardo Petrilli\n",
        "date: \"2025-01-14\"\n",
        "format:\n",
        "  html:\n",
        "    theme: cosmo\n",
        "---"
      ]
    },
    {
      "cell_type": "markdown",
      "id": "3f64a6ef",
      "metadata": {
        "id": "3f64a6ef",
        "papermill": {
          "duration": 0.063366,
          "end_time": "2025-01-03T22:19:18.752550",
          "exception": false,
          "start_time": "2025-01-03T22:19:18.689184",
          "status": "completed"
        },
        "tags": []
      },
      "source": [
        "# Assignment 2\n",
        "\n",
        "\n",
        "\n",
        "\n",
        "\n",
        "\n",
        "\n",
        "**Credits**: Federico Ruggeri, Eleonora Mancini, Paolo Torroni\n",
        "\n",
        "\n",
        "\n",
        "\n",
        "\n",
        "\n",
        "\n",
        "**Keywords**: Sexism Detection, Multi-class Classification, LLMs, Prompting"
      ]
    },
    {
      "cell_type": "markdown",
      "id": "c157a7d7",
      "metadata": {
        "id": "c157a7d7",
        "papermill": {
          "duration": 0.06327,
          "end_time": "2025-01-03T22:19:18.879075",
          "exception": false,
          "start_time": "2025-01-03T22:19:18.815805",
          "status": "completed"
        },
        "tags": []
      },
      "source": [
        "\n",
        "\n",
        "\n",
        "\n",
        "# Contact\n",
        "\n",
        "\n",
        "\n",
        "\n",
        "\n",
        "\n",
        "\n",
        "For any doubt, question, issue or help, you can always contact us at the following email addresses:\n",
        "\n",
        "\n",
        "\n",
        "\n",
        "\n",
        "\n",
        "\n",
        "Teaching Assistants:\n",
        "\n",
        "\n",
        "\n",
        "\n",
        "\n",
        "\n",
        "\n",
        "* Federico Ruggeri -> federico.ruggeri6@unibo.it\n",
        "\n",
        "\n",
        "\n",
        "* Eleonora Mancini -> e.mancini@unibo.it\n",
        "\n",
        "\n",
        "\n",
        "\n",
        "\n",
        "\n",
        "\n",
        "Professor:\n",
        "\n",
        "\n",
        "\n",
        "\n",
        "\n",
        "\n",
        "\n",
        "* Paolo Torroni -> p.torroni@unibo.it"
      ]
    },
    {
      "cell_type": "markdown",
      "id": "16d53a2d",
      "metadata": {
        "id": "16d53a2d",
        "papermill": {
          "duration": 0.062426,
          "end_time": "2025-01-03T22:19:19.003663",
          "exception": false,
          "start_time": "2025-01-03T22:19:18.941237",
          "status": "completed"
        },
        "tags": []
      },
      "source": [
        "# Relevant Material\n",
        "\n",
        "\n",
        "\n",
        "\n",
        "\n",
        "\n",
        "\n",
        "- Tutorial 3\n",
        "\n",
        "\n",
        "\n",
        "- Huggingface documentation\n",
        "\n",
        "\n",
        "\n",
        "- Huggingface hub"
      ]
    },
    {
      "cell_type": "markdown",
      "id": "b3c84958",
      "metadata": {
        "id": "b3c84958",
        "papermill": {
          "duration": 0.098658,
          "end_time": "2025-01-03T22:19:19.165519",
          "exception": false,
          "start_time": "2025-01-03T22:19:19.066861",
          "status": "completed"
        },
        "tags": []
      },
      "source": [
        "# Introduction\n",
        "\n",
        "\n",
        "\n",
        "\n",
        "\n",
        "\n",
        "\n",
        "You are tasked to address the [EDOS Task A](https://github.com/rewire-online/edos) on sexism detection."
      ]
    },
    {
      "cell_type": "markdown",
      "id": "2fcd8ca8",
      "metadata": {
        "id": "2fcd8ca8",
        "papermill": {
          "duration": 0.062837,
          "end_time": "2025-01-03T22:19:19.292361",
          "exception": false,
          "start_time": "2025-01-03T22:19:19.229524",
          "status": "completed"
        },
        "tags": []
      },
      "source": [
        "## Problem definition\n",
        "\n",
        "\n",
        "\n",
        "\n",
        "\n",
        "\n",
        "\n",
        "Given an input text sentence, the task is to label the sentence as sexist or not sexist (binary classification).\n",
        "\n",
        "\n",
        "\n",
        "\n",
        "\n",
        "\n",
        "\n",
        "### Examples:\n",
        "\n",
        "\n",
        "\n",
        "\n",
        "\n",
        "\n",
        "\n",
        "**Text**: *``Schedule a date with her, then don't show up. Then text her \"GOTCHA B___H\".''*\n",
        "\n",
        "\n",
        "\n",
        "\n",
        "\n",
        "\n",
        "\n",
        "**Label**: Sexist\n",
        "\n",
        "\n",
        "\n",
        "\n",
        "\n",
        "\n",
        "\n",
        "**Text**: *``That’s completely ridiculous a woman flashing her boobs is not sexual assault in the slightest.''*\n",
        "\n",
        "\n",
        "\n",
        "\n",
        "\n",
        "\n",
        "\n",
        "**Label**: Not sexist\n",
        "\n",
        "\n",
        "\n",
        "\n"
      ]
    },
    {
      "cell_type": "markdown",
      "id": "8fd4a26d",
      "metadata": {
        "id": "8fd4a26d",
        "papermill": {
          "duration": 0.065253,
          "end_time": "2025-01-03T22:19:19.420962",
          "exception": false,
          "start_time": "2025-01-03T22:19:19.355709",
          "status": "completed"
        },
        "tags": []
      },
      "source": [
        "## Approach\n",
        "\n",
        "\n",
        "\n",
        "\n",
        "\n",
        "\n",
        "\n",
        "We will tackle the binary classification task with LLMs.\n",
        "\n",
        "\n",
        "\n",
        "\n",
        "\n",
        "\n",
        "\n",
        "In particular, we'll consider zero-/few-shot prompting approaches to assess the capability of some popular open-source LLMs on this task."
      ]
    },
    {
      "cell_type": "markdown",
      "id": "83c0ca14",
      "metadata": {
        "id": "83c0ca14",
        "papermill": {
          "duration": 0.062804,
          "end_time": "2025-01-03T22:19:19.547218",
          "exception": false,
          "start_time": "2025-01-03T22:19:19.484414",
          "status": "completed"
        },
        "tags": []
      },
      "source": [
        "## Preliminaries\n",
        "\n",
        "\n",
        "\n",
        "\n",
        "\n",
        "\n",
        "\n",
        "We are going to download LLMs from [Huggingface](https://huggingface.co/).\n",
        "\n",
        "\n",
        "\n",
        "\n",
        "\n",
        "\n",
        "\n",
        "Many of these open-source LLMs require you to accept their \"Community License Agreement\" to download them.\n",
        "\n",
        "\n",
        "\n",
        "\n",
        "\n",
        "\n",
        "\n",
        "In summary:\n",
        "\n",
        "\n",
        "\n",
        "\n",
        "\n",
        "\n",
        "\n",
        "- If not already, create an account of Huggingface (~2 mins)\n",
        "\n",
        "\n",
        "\n",
        "- Check a LLM model card page (e.g., [Mistral v3](https://huggingface.co/mistralai/Mistral-7B-Instruct-v0.3)) and accept its \"Community License Agreement\".\n",
        "\n",
        "\n",
        "\n",
        "- Go to your account -> Settings -> Access Tokens -> Create new token -> \"Repositories permissions\" -> add the LLM model card you want to use.\n",
        "\n",
        "\n",
        "\n",
        "- Save the token (we'll need it later)"
      ]
    },
    {
      "cell_type": "markdown",
      "id": "56be4c9f",
      "metadata": {
        "id": "56be4c9f",
        "papermill": {
          "duration": 0.06266,
          "end_time": "2025-01-03T22:19:19.672408",
          "exception": false,
          "start_time": "2025-01-03T22:19:19.609748",
          "status": "completed"
        },
        "tags": []
      },
      "source": [
        "### Huggingface Login\n",
        "\n",
        "\n",
        "\n",
        "\n",
        "\n",
        "\n",
        "\n",
        "Once we have created an account and an access token, we need to login to Huggingface via code.\n",
        "\n",
        "\n",
        "\n",
        "\n",
        "\n",
        "\n",
        "\n",
        "- Type your token and press Enter\n",
        "\n",
        "\n",
        "\n",
        "- You can say No to Github linking"
      ]
    },
    {
      "cell_type": "code",
      "execution_count": null,
      "id": "65aac10f",
      "metadata": {
        "execution": {
          "iopub.execute_input": "2025-01-03T22:19:19.800820Z",
          "iopub.status.busy": "2025-01-03T22:19:19.800449Z",
          "iopub.status.idle": "2025-01-03T22:19:21.384604Z",
          "shell.execute_reply": "2025-01-03T22:19:21.383445Z"
        },
        "id": "65aac10f",
        "outputId": "0d56b4f1-7982-49a2-e198-f384a649b742",
        "papermill": {
          "duration": 1.650813,
          "end_time": "2025-01-03T22:19:21.386771",
          "exception": false,
          "start_time": "2025-01-03T22:19:19.735958",
          "status": "completed"
        },
        "tags": []
      },
      "outputs": [
        {
          "name": "stdout",
          "output_type": "stream",
          "text": [
            "The token has not been saved to the git credentials helper. Pass `add_to_git_credential=True` in this function directly or `--add-to-git-credential` if using via `huggingface-cli` if you want to set the git credential as well.\r\n",
            "Token is valid (permission: fineGrained).\r\n",
            "The token `nlp_assignment2` has been saved to /root/.cache/huggingface/stored_tokens\r\n",
            "Your token has been saved to /root/.cache/huggingface/token\r\n",
            "Login successful.\r\n",
            "The current active token is: `nlp_assignment2`\r\n"
          ]
        }
      ],
      "source": [
        "!huggingface-cli login"
      ]
    },
    {
      "cell_type": "markdown",
      "id": "bf2e9c8b",
      "metadata": {
        "id": "bf2e9c8b",
        "papermill": {
          "duration": 0.062653,
          "end_time": "2025-01-03T22:19:21.513969",
          "exception": false,
          "start_time": "2025-01-03T22:19:21.451316",
          "status": "completed"
        },
        "tags": []
      },
      "source": [
        "After login, you can download all models associated with your access token in addition to those that are not protected by an access token."
      ]
    },
    {
      "cell_type": "markdown",
      "id": "5f0f1e5a",
      "metadata": {
        "id": "5f0f1e5a",
        "papermill": {
          "duration": 0.06344,
          "end_time": "2025-01-03T22:19:21.640288",
          "exception": false,
          "start_time": "2025-01-03T22:19:21.576848",
          "status": "completed"
        },
        "tags": []
      },
      "source": [
        "### Data Loading\n",
        "\n",
        "\n",
        "\n",
        "\n",
        "\n",
        "\n",
        "\n",
        "Since we are only interested in prompting, we do not require a train dataset.\n",
        "\n",
        "\n",
        "\n",
        "\n",
        "\n",
        "\n",
        "\n",
        "We have preparared a small test set version of EDOS in our dedicated [Github repository](https://github.com/lt-nlp-lab-unibo/nlp-course-material).\n",
        "\n",
        "\n",
        "\n",
        "\n",
        "\n",
        "\n",
        "\n",
        "Check the ``Assignment 2/data`` folder.\n",
        "\n",
        "\n",
        "\n",
        "It contains:\n",
        "\n",
        "\n",
        "\n",
        "\n",
        "\n",
        "\n",
        "\n",
        "- ``a2_test.csv`` → a small test set of 300 samples.\n",
        "\n",
        "\n",
        "\n",
        "- ``demonstrations.csv`` -> a batch of 1000 samples for few-shot prompting.\n",
        "\n",
        "\n",
        "\n",
        "\n",
        "\n",
        "\n",
        "\n",
        "Both datasets contain a balanced number of sexist and not sexist samples.\n"
      ]
    },
    {
      "cell_type": "markdown",
      "id": "31ef34bd",
      "metadata": {
        "id": "31ef34bd",
        "papermill": {
          "duration": 0.062883,
          "end_time": "2025-01-03T22:19:21.766748",
          "exception": false,
          "start_time": "2025-01-03T22:19:21.703865",
          "status": "completed"
        },
        "tags": []
      },
      "source": [
        "### Instructions\n",
        "\n",
        "\n",
        "\n",
        "\n",
        "\n",
        "\n",
        "\n",
        "We require you to:\n",
        "\n",
        "\n",
        "\n",
        "\n",
        "\n",
        "\n",
        "\n",
        "* **Download** the ``A2/data`` folder.\n",
        "\n",
        "\n",
        "\n",
        "* **Encode** ``a2_test.csv`` into a ``pandas.DataFrame`` object."
      ]
    },
    {
      "cell_type": "code",
      "execution_count": null,
      "id": "42cbcb3f",
      "metadata": {
        "execution": {
          "iopub.execute_input": "2025-01-03T22:19:21.894918Z",
          "iopub.status.busy": "2025-01-03T22:19:21.894548Z",
          "iopub.status.idle": "2025-01-03T22:20:06.816924Z",
          "shell.execute_reply": "2025-01-03T22:20:06.815906Z"
        },
        "id": "42cbcb3f",
        "papermill": {
          "duration": 44.989399,
          "end_time": "2025-01-03T22:20:06.819107",
          "exception": false,
          "start_time": "2025-01-03T22:19:21.829708",
          "status": "completed"
        },
        "tags": []
      },
      "outputs": [],
      "source": [
        "!pip install transformers --quiet\n",
        "!pip install datasets --quiet\n",
        "!pip install accelerate --quiet\n",
        "!pip install evaluate --quiet\n",
        "!pip install bitsandbytes --quiet"
      ]
    },
    {
      "cell_type": "code",
      "execution_count": null,
      "id": "ebd901e6",
      "metadata": {
        "execution": {
          "iopub.execute_input": "2025-01-03T22:20:08.376228Z",
          "iopub.status.busy": "2025-01-03T22:20:08.375872Z",
          "iopub.status.idle": "2025-01-03T22:20:11.487793Z",
          "shell.execute_reply": "2025-01-03T22:20:11.486810Z"
        },
        "id": "ebd901e6",
        "outputId": "c93c0ef9-7083-46dd-85be-4e717e884ec1",
        "papermill": {
          "duration": 3.179804,
          "end_time": "2025-01-03T22:20:11.489423",
          "exception": false,
          "start_time": "2025-01-03T22:20:08.309619",
          "status": "completed"
        },
        "tags": []
      },
      "outputs": [
        {
          "data": {
            "text/plain": [
              "True"
            ]
          },
          "execution_count": 4,
          "metadata": {},
          "output_type": "execute_result"
        }
      ],
      "source": [
        "import torch\n",
        "torch.cuda.is_available()"
      ]
    },
    {
      "cell_type": "code",
      "execution_count": null,
      "id": "241a7731",
      "metadata": {
        "execution": {
          "iopub.execute_input": "2025-01-03T22:20:11.620684Z",
          "iopub.status.busy": "2025-01-03T22:20:11.619939Z",
          "iopub.status.idle": "2025-01-03T22:20:15.178671Z",
          "shell.execute_reply": "2025-01-03T22:20:15.177776Z"
        },
        "id": "241a7731",
        "papermill": {
          "duration": 3.624803,
          "end_time": "2025-01-03T22:20:15.180711",
          "exception": false,
          "start_time": "2025-01-03T22:20:11.555908",
          "status": "completed"
        },
        "tags": []
      },
      "outputs": [],
      "source": [
        "# system packages\n",
        "import os\n",
        "import json\n",
        "import requests\n",
        "import re\n",
        "from IPython.utils.io import capture_output\n",
        "\n",
        "# data and numerical management packages\n",
        "import pandas as pd\n",
        "import numpy as np\n",
        "import random\n",
        "\n",
        "from tqdm import tqdm\n",
        "import torch\n",
        "import datasets\n",
        "from torch.utils.data import DataLoader\n",
        "from datasets import Dataset\n",
        "from sklearn.metrics import accuracy_score, classification_report, confusion_matrix, ConfusionMatrixDisplay\n",
        "import matplotlib\n",
        "import matplotlib.pyplot as plt\n",
        "from matplotlib import pyplot as plt\n",
        "from collections import Counter\n",
        "from matplotlib.ticker import MaxNLocator\n",
        "from tabulate import tabulate\n",
        "\n",
        "import transformers\n",
        "from transformers import AutoModelForCausalLM, AutoTokenizer, BitsAndBytesConfig\n",
        "\n",
        "from typing import Optional"
      ]
    },
    {
      "cell_type": "code",
      "execution_count": null,
      "id": "ed33c251",
      "metadata": {
        "execution": {
          "iopub.execute_input": "2025-01-03T22:20:15.311550Z",
          "iopub.status.busy": "2025-01-03T22:20:15.310504Z",
          "iopub.status.idle": "2025-01-03T22:20:16.221927Z",
          "shell.execute_reply": "2025-01-03T22:20:16.221027Z"
        },
        "id": "ed33c251",
        "outputId": "bf2345a5-866f-493e-ac25-0d842200afd0",
        "papermill": {
          "duration": 0.978585,
          "end_time": "2025-01-03T22:20:16.223748",
          "exception": false,
          "start_time": "2025-01-03T22:20:15.245163",
          "status": "completed"
        },
        "tags": []
      },
      "outputs": [
        {
          "name": "stdout",
          "output_type": "stream",
          "text": [
            "[nltk_data] Downloading package punkt_tab to /usr/share/nltk_data...\n",
            "[nltk_data]   Unzipping tokenizers/punkt_tab.zip.\n",
            "[nltk_data] Downloading package wordnet to /usr/share/nltk_data...\n",
            "[nltk_data]   Package wordnet is already up-to-date!\n",
            "[nltk_data] Downloading package averaged_perceptron_tagger_eng to\n",
            "[nltk_data]     /usr/share/nltk_data...\n",
            "[nltk_data]   Unzipping taggers/averaged_perceptron_tagger_eng.zip.\n",
            "[nltk_data] Downloading package stopwords to /usr/share/nltk_data...\n",
            "[nltk_data]   Package stopwords is already up-to-date!\n"
          ]
        },
        {
          "data": {
            "text/plain": [
              "True"
            ]
          },
          "execution_count": 6,
          "metadata": {},
          "output_type": "execute_result"
        }
      ],
      "source": [
        "import nltk\n",
        "from nltk.corpus import stopwords\n",
        "nltk.download(\"punkt_tab\")\n",
        "nltk.download(\"wordnet\")\n",
        "nltk.download(\"averaged_perceptron_tagger_eng\")\n",
        "nltk.download(\"stopwords\")"
      ]
    },
    {
      "cell_type": "code",
      "execution_count": null,
      "id": "00ba0fbd",
      "metadata": {
        "execution": {
          "iopub.execute_input": "2025-01-03T22:20:16.354296Z",
          "iopub.status.busy": "2025-01-03T22:20:16.353952Z",
          "iopub.status.idle": "2025-01-03T22:20:16.364075Z",
          "shell.execute_reply": "2025-01-03T22:20:16.363450Z"
        },
        "id": "00ba0fbd",
        "papermill": {
          "duration": 0.077315,
          "end_time": "2025-01-03T22:20:16.365776",
          "exception": false,
          "start_time": "2025-01-03T22:20:16.288461",
          "status": "completed"
        },
        "tags": []
      },
      "outputs": [],
      "source": [
        "def set_reproducibility(seed : int) -> None:\n",
        "\n",
        "    \"\"\"\n",
        "    Sets a reproducible environment\n",
        "\n",
        "    Input:\n",
        "    seed: an integer used as seed\n",
        "    \"\"\"\n",
        "\n",
        "    random.seed(seed)\n",
        "    np.random.seed(seed)\n",
        "    torch.manual_seed(seed)\n",
        "    torch.random.manual_seed(seed)\n",
        "    if torch.cuda.is_available():\n",
        "        torch.cuda.manual_seed(seed)\n",
        "        torch.cuda.manual_seed_all(seed)\n",
        "\n",
        "    # Ensure reproducibility for PyTorch\n",
        "    torch.backends.cudnn.deterministic = True\n",
        "    torch.backends.cudnn.benchmark = False\n",
        "\n",
        "set_reproducibility(seed=42)"
      ]
    },
    {
      "cell_type": "code",
      "execution_count": null,
      "id": "3107e630",
      "metadata": {
        "execution": {
          "iopub.execute_input": "2025-01-03T22:20:16.496079Z",
          "iopub.status.busy": "2025-01-03T22:20:16.495734Z",
          "iopub.status.idle": "2025-01-03T22:20:16.502725Z",
          "shell.execute_reply": "2025-01-03T22:20:16.501794Z"
        },
        "id": "3107e630",
        "papermill": {
          "duration": 0.074182,
          "end_time": "2025-01-03T22:20:16.504352",
          "exception": false,
          "start_time": "2025-01-03T22:20:16.430170",
          "status": "completed"
        },
        "tags": []
      },
      "outputs": [],
      "source": [
        "class DownloadProgressBar(tqdm):\n",
        "\n",
        "    def update_to(self, b=1, bsize=1, tsize=None):\n",
        "\n",
        "        if tsize is not None:\n",
        "            self.total = tsize\n",
        "        self.update(b * bsize - self.n)\n",
        "\n",
        "def download_dataset(url: str, file_name: str, directory: str) -> None:\n",
        "\n",
        "    \"\"\"\n",
        "    Download and store a file inside the directory\n",
        "\n",
        "    Input:\n",
        "    url: the url of the file to download\n",
        "    file_name: the name to save the file with\n",
        "    directory: the name in which save the file\n",
        "    \"\"\"\n",
        "\n",
        "    local_file_path = os.path.join(directory, file_name)\n",
        "\n",
        "    print(\"Downloading dataset...\")\n",
        "    with DownloadProgressBar(unit='B', unit_scale=True,\n",
        "                             miniters=1, desc=url.split('/')[-1]) as t:\n",
        "        response = requests.get(url)\n",
        "    print(\"Download complete!\")\n",
        "\n",
        "    print(f\"Saving the Dataset {file_name}.csv into local environment...\")\n",
        "    if response.status_code == 200:\n",
        "        with open(local_file_path, 'wb') as file:\n",
        "            file.write(response.content)\n",
        "        print(f\"File saved successfully\")\n",
        "    else:\n",
        "        print(f\"Failed to download the file. Status code: {response.status_code}\")"
      ]
    },
    {
      "cell_type": "markdown",
      "id": "de260c85",
      "metadata": {
        "id": "de260c85",
        "papermill": {
          "duration": 0.064049,
          "end_time": "2025-01-03T22:20:16.634877",
          "exception": false,
          "start_time": "2025-01-03T22:20:16.570828",
          "status": "completed"
        },
        "tags": []
      },
      "source": [
        "We downloaded the files a2_test.csv and demonstration.csv inside the new dirctory Dataset."
      ]
    },
    {
      "cell_type": "code",
      "execution_count": null,
      "id": "2ea73de9",
      "metadata": {
        "execution": {
          "iopub.execute_input": "2025-01-03T22:20:16.764620Z",
          "iopub.status.busy": "2025-01-03T22:20:16.764279Z",
          "iopub.status.idle": "2025-01-03T22:20:17.123807Z",
          "shell.execute_reply": "2025-01-03T22:20:17.122805Z"
        },
        "id": "2ea73de9",
        "outputId": "702189db-d5f3-4ade-d168-bbff609c877b",
        "papermill": {
          "duration": 0.42647,
          "end_time": "2025-01-03T22:20:17.125594",
          "exception": false,
          "start_time": "2025-01-03T22:20:16.699124",
          "status": "completed"
        },
        "tags": []
      },
      "outputs": [
        {
          "name": "stdout",
          "output_type": "stream",
          "text": [
            "Creating the directory Dataset...\n",
            "Downloading dataset...\n"
          ]
        },
        {
          "name": "stderr",
          "output_type": "stream",
          "text": [
            "a2_test.csv: 0.00B [00:00, ?B/s]\n"
          ]
        },
        {
          "name": "stdout",
          "output_type": "stream",
          "text": [
            "Download complete!\n",
            "Saving the Dataset a2_test.csv into local environment...\n",
            "File saved successfully\n",
            "Downloading dataset...\n"
          ]
        },
        {
          "name": "stderr",
          "output_type": "stream",
          "text": [
            "demonstrations.csv: 0.00B [00:00, ?B/s]"
          ]
        },
        {
          "name": "stdout",
          "output_type": "stream",
          "text": [
            "Download complete!\n",
            "Saving the Dataset demonstrations.csv into local environment...\n",
            "File saved successfully\n"
          ]
        },
        {
          "name": "stderr",
          "output_type": "stream",
          "text": [
            "\n"
          ]
        }
      ],
      "source": [
        "url = \"https://raw.githubusercontent.com/nlp-unibo/nlp-course-material/main/2024-2025/Assignment%202/data/\"\n",
        "\n",
        "directory = 'Dataset'\n",
        "print(f\"Creating the directory {directory}...\")\n",
        "if not os.path.exists(directory):\n",
        "    os.makedirs(directory)\n",
        "\n",
        "file_name = ['a2_test', 'demonstrations']\n",
        "directory = 'Dataset'\n",
        "for name in file_name:\n",
        "    download_dataset(url+name+'.csv', name, directory)"
      ]
    },
    {
      "cell_type": "markdown",
      "id": "53f8b6ea",
      "metadata": {
        "id": "53f8b6ea",
        "papermill": {
          "duration": 0.063741,
          "end_time": "2025-01-03T22:20:17.255092",
          "exception": false,
          "start_time": "2025-01-03T22:20:17.191351",
          "status": "completed"
        },
        "tags": []
      },
      "source": [
        "We stored the file a2_test.csv in the variable a2_test mapping the target feature from categorical to numerical."
      ]
    },
    {
      "cell_type": "code",
      "execution_count": null,
      "id": "1412bc12",
      "metadata": {
        "execution": {
          "iopub.execute_input": "2025-01-03T22:20:17.387629Z",
          "iopub.status.busy": "2025-01-03T22:20:17.386970Z",
          "iopub.status.idle": "2025-01-03T22:20:17.407105Z",
          "shell.execute_reply": "2025-01-03T22:20:17.406381Z"
        },
        "id": "1412bc12",
        "outputId": "3af09642-4bc5-4053-a570-f4b9878fcb15",
        "papermill": {
          "duration": 0.087855,
          "end_time": "2025-01-03T22:20:17.408617",
          "exception": false,
          "start_time": "2025-01-03T22:20:17.320762",
          "status": "completed"
        },
        "tags": []
      },
      "outputs": [
        {
          "data": {
            "text/html": [
              "<div>\n",
              "<style scoped>\n",
              "    .dataframe tbody tr th:only-of-type {\n",
              "        vertical-align: middle;\n",
              "    }\n",
              "\n",
              "    .dataframe tbody tr th {\n",
              "        vertical-align: top;\n",
              "    }\n",
              "\n",
              "    .dataframe thead th {\n",
              "        text-align: right;\n",
              "    }\n",
              "</style>\n",
              "<table border=\"1\" class=\"dataframe\">\n",
              "  <thead>\n",
              "    <tr style=\"text-align: right;\">\n",
              "      <th></th>\n",
              "      <th>rewire_id</th>\n",
              "      <th>text</th>\n",
              "      <th>label_sexist</th>\n",
              "    </tr>\n",
              "  </thead>\n",
              "  <tbody>\n",
              "    <tr>\n",
              "      <th>0</th>\n",
              "      <td>sexism2022_english-17133</td>\n",
              "      <td>The boys must be gaming because there goes the...</td>\n",
              "      <td>0</td>\n",
              "    </tr>\n",
              "    <tr>\n",
              "      <th>1</th>\n",
              "      <td>sexism2022_english-14197</td>\n",
              "      <td>Look at those eyes. Either someone unexpectedl...</td>\n",
              "      <td>1</td>\n",
              "    </tr>\n",
              "    <tr>\n",
              "      <th>2</th>\n",
              "      <td>sexism2022_english-3018</td>\n",
              "      <td>Old man mogs everyone in this sub</td>\n",
              "      <td>0</td>\n",
              "    </tr>\n",
              "    <tr>\n",
              "      <th>3</th>\n",
              "      <td>sexism2022_english-5301</td>\n",
              "      <td>Excellent, I was just looking at another post ...</td>\n",
              "      <td>0</td>\n",
              "    </tr>\n",
              "    <tr>\n",
              "      <th>4</th>\n",
              "      <td>sexism2022_english-17796</td>\n",
              "      <td>So you run back to daddy whenever you need hel...</td>\n",
              "      <td>1</td>\n",
              "    </tr>\n",
              "  </tbody>\n",
              "</table>\n",
              "</div>"
            ],
            "text/plain": [
              "                  rewire_id  \\\n",
              "0  sexism2022_english-17133   \n",
              "1  sexism2022_english-14197   \n",
              "2   sexism2022_english-3018   \n",
              "3   sexism2022_english-5301   \n",
              "4  sexism2022_english-17796   \n",
              "\n",
              "                                                text  label_sexist  \n",
              "0  The boys must be gaming because there goes the...             0  \n",
              "1  Look at those eyes. Either someone unexpectedl...             1  \n",
              "2                  Old man mogs everyone in this sub             0  \n",
              "3  Excellent, I was just looking at another post ...             0  \n",
              "4  So you run back to daddy whenever you need hel...             1  "
            ]
          },
          "execution_count": 10,
          "metadata": {},
          "output_type": "execute_result"
        }
      ],
      "source": [
        "label_mapping = {'sexist': 1, 'not sexist': 0}\n",
        "local_file_path = os.path.join(directory, 'a2_test')\n",
        "a2_test = pd.read_csv(local_file_path, converters={'label_sexist' : lambda x: label_mapping[x]})\n",
        "a2_test.head()"
      ]
    },
    {
      "cell_type": "markdown",
      "id": "c8c1ea56",
      "metadata": {
        "id": "c8c1ea56",
        "papermill": {
          "duration": 0.067311,
          "end_time": "2025-01-03T22:20:17.547165",
          "exception": false,
          "start_time": "2025-01-03T22:20:17.479854",
          "status": "completed"
        },
        "tags": []
      },
      "source": [
        "Let's explore the data, to understand whether there are some imbalances in the data distributions."
      ]
    },
    {
      "cell_type": "code",
      "execution_count": null,
      "id": "871033b0",
      "metadata": {
        "execution": {
          "iopub.execute_input": "2025-01-03T22:20:17.683571Z",
          "iopub.status.busy": "2025-01-03T22:20:17.683229Z",
          "iopub.status.idle": "2025-01-03T22:20:17.921955Z",
          "shell.execute_reply": "2025-01-03T22:20:17.921144Z"
        },
        "id": "871033b0",
        "outputId": "5a564070-7664-467d-ff92-79fc99fb0bcc",
        "papermill": {
          "duration": 0.307087,
          "end_time": "2025-01-03T22:20:17.923832",
          "exception": false,
          "start_time": "2025-01-03T22:20:17.616745",
          "status": "completed"
        },
        "tags": []
      },
      "outputs": [
        {
          "data": {
            "image/png": "[encoded data removed]",
            "text/plain": [
              "<Figure size 640x480 with 1 Axes>"
            ]
          },
          "metadata": {},
          "output_type": "display_data"
        }
      ],
      "source": [
        "def plot_data_distribution(df: pd.DataFrame) -> None:\n",
        "\n",
        "    \"\"\"\n",
        "    Shows the distribution of a dataset split.\n",
        "\n",
        "    Input:\n",
        "    df: split of the dataset (pd.DataFrame)\n",
        "    \"\"\"\n",
        "\n",
        "    label_1 = len(df[df[\"label_sexist\"] == 1])\n",
        "    label_0 = len(df[df[\"label_sexist\"] == 0])\n",
        "    bar_colors = [\"#6baed6\", \"#2171b5\"]\n",
        "    bars = plt.bar([\"label 1\", \"label 0\"], [label_1, label_0], color=bar_colors)\n",
        "    percentages = [label_1 / len(df)*100, label_0 / len(df)*100]\n",
        "    for bar, percentage in zip(bars, percentages):\n",
        "        plt.text(\n",
        "            bar.get_x() + bar.get_width() / 2,\n",
        "            bar.get_height(),\n",
        "            f\"{percentage:.2f}%\",\n",
        "            ha=\"center\",\n",
        "            va=\"bottom\",\n",
        "        )\n",
        "    plt.title('Test data distribution')\n",
        "    plt.ylabel(\"label count\")\n",
        "    plt.show()\n",
        "\n",
        "plot_data_distribution(a2_test)"
      ]
    },
    {
      "cell_type": "markdown",
      "id": "82d1b5da",
      "metadata": {
        "id": "82d1b5da",
        "papermill": {
          "duration": 0.065029,
          "end_time": "2025-01-03T22:20:18.054511",
          "exception": false,
          "start_time": "2025-01-03T22:20:17.989482",
          "status": "completed"
        },
        "tags": []
      },
      "source": [
        "As we can see from the plot the test set is perfectly balanced between the sexism (label 1) and not sexism (label 0)."
      ]
    },
    {
      "cell_type": "code",
      "execution_count": null,
      "id": "03734aff",
      "metadata": {
        "execution": {
          "iopub.execute_input": "2025-01-03T22:20:18.185224Z",
          "iopub.status.busy": "2025-01-03T22:20:18.184588Z",
          "iopub.status.idle": "2025-01-03T22:20:18.211229Z",
          "shell.execute_reply": "2025-01-03T22:20:18.210587Z"
        },
        "id": "03734aff",
        "papermill": {
          "duration": 0.094014,
          "end_time": "2025-01-03T22:20:18.213094",
          "exception": false,
          "start_time": "2025-01-03T22:20:18.119080",
          "status": "completed"
        },
        "tags": []
      },
      "outputs": [],
      "source": [
        "test_data = Dataset.from_pandas(a2_test)\n",
        "ground_truth = np.array(test_data['label_sexist'])"
      ]
    },
    {
      "cell_type": "markdown",
      "id": "77c5e204",
      "metadata": {
        "id": "77c5e204",
        "papermill": {
          "duration": 0.063938,
          "end_time": "2025-01-03T22:20:18.342546",
          "exception": false,
          "start_time": "2025-01-03T22:20:18.278608",
          "status": "completed"
        },
        "tags": []
      },
      "source": [
        "# [Task 1 - 0.5 points] Model setup\n",
        "\n",
        "\n",
        "\n",
        "\n",
        "\n",
        "\n",
        "\n",
        "Once the test data has been loaded, we have to setup the model pipeline for inference.\n",
        "\n",
        "\n",
        "\n",
        "\n",
        "\n",
        "\n",
        "\n",
        "In particular, we have to:\n",
        "\n",
        "\n",
        "\n",
        "- Load the model weights from Huggingface\n",
        "\n",
        "\n",
        "\n",
        "- Quantize the model to fit into a single-GPU limited hardware"
      ]
    },
    {
      "cell_type": "markdown",
      "id": "b3d3c0e4",
      "metadata": {
        "id": "b3d3c0e4",
        "papermill": {
          "duration": 0.06437,
          "end_time": "2025-01-03T22:20:18.472546",
          "exception": false,
          "start_time": "2025-01-03T22:20:18.408176",
          "status": "completed"
        },
        "tags": []
      },
      "source": [
        "## Which LLMs?\n",
        "\n",
        "\n",
        "\n",
        "\n",
        "\n",
        "\n",
        "\n",
        "The pool of LLMs is ever increasing and it's impossible to keep track of all new entries.\n",
        "\n",
        "\n",
        "\n",
        "\n",
        "\n",
        "\n",
        "\n",
        "We focus on popular open-source models.\n",
        "\n",
        "\n",
        "\n",
        "\n",
        "\n",
        "\n",
        "\n",
        "- [Mistral v2](mistralai/Mistral-7B-Instruct-v0.2)\n",
        "\n",
        "\n",
        "\n",
        "- [Mistral v3](mistralai/Mistral-7B-Instruct-v0.3)\n",
        "\n",
        "\n",
        "\n",
        "- [Llama v3.1](https://huggingface.co/meta-llama/Llama-3.1-8B-Instruct)\n",
        "\n",
        "\n",
        "\n",
        "- [Phi3-mini](https://huggingface.co/microsoft/Phi-3-mini-4k-instruct)\n",
        "\n",
        "\n",
        "\n",
        "\n",
        "\n",
        "\n",
        "\n",
        "Other open-source models are more than welcome!"
      ]
    },
    {
      "cell_type": "markdown",
      "id": "34032f31",
      "metadata": {
        "id": "34032f31",
        "papermill": {
          "duration": 0.065053,
          "end_time": "2025-01-03T22:20:18.642471",
          "exception": false,
          "start_time": "2025-01-03T22:20:18.577418",
          "status": "completed"
        },
        "tags": []
      },
      "source": [
        "### Instructions\n",
        "\n",
        "\n",
        "\n",
        "\n",
        "\n",
        "\n",
        "\n",
        "In order to get Task 1 points, we require you to:\n",
        "\n",
        "\n",
        "\n",
        "\n",
        "\n",
        "\n",
        "\n",
        "* Pick 2 model cards from the provided list.\n",
        "\n",
        "\n",
        "\n",
        "* For each model:\n",
        "\n",
        "\n",
        "\n",
        "  - Define a separate section of your notebook for the model.\n",
        "\n",
        "\n",
        "\n",
        "  - Setup a quantization configuration for the model.\n",
        "\n",
        "\n",
        "\n",
        "  - Load the model via HuggingFace APIs.\n"
      ]
    },
    {
      "cell_type": "markdown",
      "id": "7d4411d5",
      "metadata": {
        "id": "7d4411d5",
        "papermill": {
          "duration": 0.063845,
          "end_time": "2025-01-03T22:20:18.770922",
          "exception": false,
          "start_time": "2025-01-03T22:20:18.707077",
          "status": "completed"
        },
        "tags": []
      },
      "source": [
        "### Notes\n",
        "\n",
        "\n",
        "\n",
        "\n",
        "\n",
        "\n",
        "\n",
        "1. There's a popular library integrated with Huggingface's ``transformers`` to perform quantization.\n",
        "\n",
        "\n",
        "\n",
        "\n",
        "\n",
        "\n",
        "\n",
        "2. Define two separate sections of your notebook to show that you have implemented the prompting pipeline for each selected model card."
      ]
    },
    {
      "cell_type": "code",
      "execution_count": null,
      "id": "2ac97546",
      "metadata": {
        "execution": {
          "iopub.execute_input": "2025-01-03T22:20:18.902071Z",
          "iopub.status.busy": "2025-01-03T22:20:18.901726Z",
          "iopub.status.idle": "2025-01-03T22:20:18.907031Z",
          "shell.execute_reply": "2025-01-03T22:20:18.906360Z"
        },
        "id": "2ac97546",
        "papermill": {
          "duration": 0.072885,
          "end_time": "2025-01-03T22:20:18.908577",
          "exception": false,
          "start_time": "2025-01-03T22:20:18.835692",
          "status": "completed"
        },
        "tags": []
      },
      "outputs": [],
      "source": [
        "bnb_config = BitsAndBytesConfig(\n",
        "    load_in_4bit=True,\n",
        "    bnb_4bit_use_double_quant=True,\n",
        "    bnb_4bit_quant_type=\"nf4\",\n",
        "    bnb_4bit_compute_dtype=torch.bfloat16,\n",
        ")"
      ]
    },
    {
      "cell_type": "code",
      "execution_count": null,
      "id": "3d0bba22",
      "metadata": {
        "execution": {
          "iopub.execute_input": "2025-01-03T22:20:19.042052Z",
          "iopub.status.busy": "2025-01-03T22:20:19.041435Z",
          "iopub.status.idle": "2025-01-03T22:20:19.046920Z",
          "shell.execute_reply": "2025-01-03T22:20:19.046059Z"
        },
        "id": "3d0bba22",
        "papermill": {
          "duration": 0.072769,
          "end_time": "2025-01-03T22:20:19.048540",
          "exception": false,
          "start_time": "2025-01-03T22:20:18.975771",
          "status": "completed"
        },
        "tags": []
      },
      "outputs": [],
      "source": [
        "def get_model(model_card : str) -> tuple:\n",
        "\n",
        "    \"\"\"\n",
        "    Download the model and its tokenizer from Hugging Face and set the configuratons\n",
        "\n",
        "    Input:\n",
        "    model_card: name of the model to dowload\n",
        "\n",
        "    Output:\n",
        "    model: the downloaded model\n",
        "    tokenizer: the tokenizer associated with the model\n",
        "    \"\"\"\n",
        "    tokenizer = AutoTokenizer.from_pretrained(model_card)\n",
        "    tokenizer.pad_token = tokenizer.eos_token\n",
        "\n",
        "    model = AutoModelForCausalLM.from_pretrained(\n",
        "        model_card,\n",
        "        return_dict=True,\n",
        "        quantization_config=bnb_config,\n",
        "        device_map='auto'\n",
        "    )\n",
        "\n",
        "    generation_config = model.generation_config\n",
        "    generation_config.max_new_tokens = 100\n",
        "    generation_config.eos_token_id = tokenizer.eos_token_id\n",
        "    generation_config.pad_token_id = tokenizer.eos_token_id\n",
        "    generation_config.temperature = None\n",
        "    generation_config.num_return_sequences = 1\n",
        "\n",
        "    return model, tokenizer"
      ]
    },
    {
      "cell_type": "markdown",
      "id": "ff0183d3",
      "metadata": {
        "id": "ff0183d3",
        "papermill": {
          "duration": 0.064426,
          "end_time": "2025-01-03T22:20:19.178728",
          "exception": false,
          "start_time": "2025-01-03T22:20:19.114302",
          "status": "completed"
        },
        "tags": []
      },
      "source": [
        "We decide to use Phi3-mini, a model with 3.8 billions parameters developed by Microsoft.  "
      ]
    },
    {
      "cell_type": "code",
      "execution_count": null,
      "id": "c392c13a",
      "metadata": {
        "colab": {
          "referenced_widgets": [
            "ed14bbe9d11a4b01b276ca9c5f5980d0",
            "65f88c80bf3b4292969517428baf316a",
            "109549b9308c4eef807502efb27a67ab",
            "d231067260a443ce98462148624c42cd",
            "6f263d0e0490482a9f4aff5deac5a959",
            "bd83868af760498eb57a600042b24602",
            "db60294e53294a109f918f814f7ab675",
            "65647434ca894ee1a7ee2d9595435ab4",
            "610c8c06951a497ebe462ef5b582da8e",
            "3a030261e91e4f529c008bd3dff2fa04",
            "f17920ae6545485686b711c2b5c840b6",
            "fb23594a55c94289a9166dca88559db5"
          ]
        },
        "execution": {
          "iopub.execute_input": "2025-01-03T22:20:19.309850Z",
          "iopub.status.busy": "2025-01-03T22:20:19.309199Z",
          "iopub.status.idle": "2025-01-03T22:23:45.320568Z",
          "shell.execute_reply": "2025-01-03T22:23:45.319872Z"
        },
        "id": "c392c13a",
        "outputId": "0a15d2ea-6cdd-40fe-bf63-880ae464a003",
        "papermill": {
          "duration": 206.079073,
          "end_time": "2025-01-03T22:23:45.322492",
          "exception": false,
          "start_time": "2025-01-03T22:20:19.243419",
          "status": "completed"
        },
        "tags": []
      },
      "outputs": [
        {
          "data": {
            "application/vnd.jupyter.widget-view+json": {
              "model_id": "ed14bbe9d11a4b01b276ca9c5f5980d0",
              "version_major": 2,
              "version_minor": 0
            },
            "text/plain": [
              "tokenizer_config.json:   0%|          | 0.00/3.44k [00:00<?, ?B/s]"
            ]
          },
          "metadata": {},
          "output_type": "display_data"
        },
        {
          "data": {
            "application/vnd.jupyter.widget-view+json": {
              "model_id": "65f88c80bf3b4292969517428baf316a",
              "version_major": 2,
              "version_minor": 0
            },
            "text/plain": [
              "tokenizer.model:   0%|          | 0.00/500k [00:00<?, ?B/s]"
            ]
          },
          "metadata": {},
          "output_type": "display_data"
        },
        {
          "data": {
            "application/vnd.jupyter.widget-view+json": {
              "model_id": "109549b9308c4eef807502efb27a67ab",
              "version_major": 2,
              "version_minor": 0
            },
            "text/plain": [
              "tokenizer.json:   0%|          | 0.00/1.94M [00:00<?, ?B/s]"
            ]
          },
          "metadata": {},
          "output_type": "display_data"
        },
        {
          "data": {
            "application/vnd.jupyter.widget-view+json": {
              "model_id": "d231067260a443ce98462148624c42cd",
              "version_major": 2,
              "version_minor": 0
            },
            "text/plain": [
              "added_tokens.json:   0%|          | 0.00/306 [00:00<?, ?B/s]"
            ]
          },
          "metadata": {},
          "output_type": "display_data"
        },
        {
          "data": {
            "application/vnd.jupyter.widget-view+json": {
              "model_id": "6f263d0e0490482a9f4aff5deac5a959",
              "version_major": 2,
              "version_minor": 0
            },
            "text/plain": [
              "special_tokens_map.json:   0%|          | 0.00/599 [00:00<?, ?B/s]"
            ]
          },
          "metadata": {},
          "output_type": "display_data"
        },
        {
          "data": {
            "application/vnd.jupyter.widget-view+json": {
              "model_id": "bd83868af760498eb57a600042b24602",
              "version_major": 2,
              "version_minor": 0
            },
            "text/plain": [
              "config.json:   0%|          | 0.00/967 [00:00<?, ?B/s]"
            ]
          },
          "metadata": {},
          "output_type": "display_data"
        },
        {
          "data": {
            "application/vnd.jupyter.widget-view+json": {
              "model_id": "db60294e53294a109f918f814f7ab675",
              "version_major": 2,
              "version_minor": 0
            },
            "text/plain": [
              "model.safetensors.index.json:   0%|          | 0.00/16.5k [00:00<?, ?B/s]"
            ]
          },
          "metadata": {},
          "output_type": "display_data"
        },
        {
          "data": {
            "application/vnd.jupyter.widget-view+json": {
              "model_id": "65647434ca894ee1a7ee2d9595435ab4",
              "version_major": 2,
              "version_minor": 0
            },
            "text/plain": [
              "Downloading shards:   0%|          | 0/2 [00:00<?, ?it/s]"
            ]
          },
          "metadata": {},
          "output_type": "display_data"
        },
        {
          "data": {
            "application/vnd.jupyter.widget-view+json": {
              "model_id": "610c8c06951a497ebe462ef5b582da8e",
              "version_major": 2,
              "version_minor": 0
            },
            "text/plain": [
              "model-00001-of-00002.safetensors:   0%|          | 0.00/4.97G [00:00<?, ?B/s]"
            ]
          },
          "metadata": {},
          "output_type": "display_data"
        },
        {
          "data": {
            "application/vnd.jupyter.widget-view+json": {
              "model_id": "3a030261e91e4f529c008bd3dff2fa04",
              "version_major": 2,
              "version_minor": 0
            },
            "text/plain": [
              "model-00002-of-00002.safetensors:   0%|          | 0.00/2.67G [00:00<?, ?B/s]"
            ]
          },
          "metadata": {},
          "output_type": "display_data"
        },
        {
          "data": {
            "application/vnd.jupyter.widget-view+json": {
              "model_id": "f17920ae6545485686b711c2b5c840b6",
              "version_major": 2,
              "version_minor": 0
            },
            "text/plain": [
              "Loading checkpoint shards:   0%|          | 0/2 [00:00<?, ?it/s]"
            ]
          },
          "metadata": {},
          "output_type": "display_data"
        },
        {
          "data": {
            "application/vnd.jupyter.widget-view+json": {
              "model_id": "fb23594a55c94289a9166dca88559db5",
              "version_major": 2,
              "version_minor": 0
            },
            "text/plain": [
              "generation_config.json:   0%|          | 0.00/181 [00:00<?, ?B/s]"
            ]
          },
          "metadata": {},
          "output_type": "display_data"
        }
      ],
      "source": [
        "model_card = \"microsoft/Phi-3-mini-4k-instruct\"\n",
        "\n",
        "model_1, tokenizer_1 = get_model(model_card)"
      ]
    },
    {
      "cell_type": "markdown",
      "id": "d1fcb765",
      "metadata": {
        "id": "d1fcb765",
        "papermill": {
          "duration": 0.065832,
          "end_time": "2025-01-03T22:23:45.455994",
          "exception": false,
          "start_time": "2025-01-03T22:23:45.390162",
          "status": "completed"
        },
        "tags": []
      },
      "source": [
        "# [Task 2 - 1.0 points] Prompt setup\n",
        "\n",
        "\n",
        "\n",
        "\n",
        "\n",
        "\n",
        "\n",
        "Prompting requires an input pre-processing phase where we convert each input example into a specific instruction prompt.\n"
      ]
    },
    {
      "cell_type": "markdown",
      "id": "f8c707ba",
      "metadata": {
        "id": "f8c707ba",
        "papermill": {
          "duration": 0.06542,
          "end_time": "2025-01-03T22:23:45.587598",
          "exception": false,
          "start_time": "2025-01-03T22:23:45.522178",
          "status": "completed"
        },
        "tags": []
      },
      "source": [
        "## Prompt Template\n",
        "\n",
        "\n",
        "\n",
        "\n",
        "\n",
        "\n",
        "\n",
        "Use the following prompt template to process input texts."
      ]
    },
    {
      "cell_type": "code",
      "execution_count": null,
      "id": "d8993f5f",
      "metadata": {
        "execution": {
          "iopub.execute_input": "2025-01-03T22:23:45.720270Z",
          "iopub.status.busy": "2025-01-03T22:23:45.719205Z",
          "iopub.status.idle": "2025-01-03T22:23:45.723898Z",
          "shell.execute_reply": "2025-01-03T22:23:45.723096Z"
        },
        "id": "d8993f5f",
        "papermill": {
          "duration": 0.072772,
          "end_time": "2025-01-03T22:23:45.725493",
          "exception": false,
          "start_time": "2025-01-03T22:23:45.652721",
          "status": "completed"
        },
        "tags": []
      },
      "outputs": [],
      "source": [
        "zero_shot_prompt = [\n",
        "    {\n",
        "\n",
        "        'role': 'system',\n",
        "        'content': 'You are an annotator for sexism detection.'\n",
        "\n",
        "    },\n",
        "\n",
        "    {\n",
        "\n",
        "        'role': 'user',\n",
        "        'content': \"\"\"Your task is to classify input text as containing sexism or not. Respond only YES or NO.\n",
        "\n",
        "        TEXT:\n",
        "        {text}\n",
        "\n",
        "        ANSWER:\n",
        "        \"\"\"\n",
        "\n",
        "    }\n",
        "\n",
        "]"
      ]
    },
    {
      "cell_type": "markdown",
      "id": "645300f8",
      "metadata": {
        "id": "645300f8",
        "papermill": {
          "duration": 0.064144,
          "end_time": "2025-01-03T22:23:45.854746",
          "exception": false,
          "start_time": "2025-01-03T22:23:45.790602",
          "status": "completed"
        },
        "tags": []
      },
      "source": [
        "### Instructions\n",
        "\n",
        "\n",
        "\n",
        "\n",
        "\n",
        "\n",
        "\n",
        "In order to get Task 2 points, we require you to:\n",
        "\n",
        "\n",
        "\n",
        "\n",
        "\n",
        "\n",
        "\n",
        "* Write a ``prepare_prompts`` function as the one reported below."
      ]
    },
    {
      "cell_type": "code",
      "execution_count": null,
      "id": "5de3ab0f",
      "metadata": {
        "execution": {
          "iopub.execute_input": "2025-01-03T22:23:45.992931Z",
          "iopub.status.busy": "2025-01-03T22:23:45.992543Z",
          "iopub.status.idle": "2025-01-03T22:23:45.999720Z",
          "shell.execute_reply": "2025-01-03T22:23:45.998880Z"
        },
        "id": "5de3ab0f",
        "papermill": {
          "duration": 0.081409,
          "end_time": "2025-01-03T22:23:46.001503",
          "exception": false,
          "start_time": "2025-01-03T22:23:45.920094",
          "status": "completed"
        },
        "tags": []
      },
      "outputs": [],
      "source": [
        "def prepare_prompts(texts: Dataset, prompt_template: list, tokenizer: transformers.AutoTokenizer) -> DataLoader:\n",
        "\n",
        "    \"\"\"\n",
        "     Formats input text samples into instructions prompts.\n",
        "\n",
        "    Inputs:\n",
        "      texts: input texts to classify via prompting\n",
        "      prompt_template: the prompt template provided in this assignment\n",
        "      tokenizer: the transformers Tokenizer object instance associated with the chosen model card\n",
        "\n",
        "    Outputs:\n",
        "      input texts to classify in the form of instruction prompts\n",
        "    \"\"\"\n",
        "\n",
        "    def collate_fn(batch):\n",
        "        texts = tokenizer.batch_encode_plus([it['text'] for it in batch], return_tensors='pt', padding=True, truncation=True)\n",
        "        sentiment = torch.tensor([it['label_sexist'] for it in batch])\n",
        "        return texts, sentiment\n",
        "\n",
        "    def format_text(text):\n",
        "        prompt = tokenizer.apply_chat_template(prompt_template, tokenize=False, add_generation_prompt=True)\n",
        "        text['text'] = prompt.format(text=text['text'])\n",
        "        return text\n",
        "\n",
        "    zero_shot_data = texts.map(lambda x: format_text(x))\n",
        "    zero_shot_data = zero_shot_data.select_columns(['text', 'label_sexist'])\n",
        "\n",
        "    print(zero_shot_data['text'][0])\n",
        "    data_loader = DataLoader(zero_shot_data,\n",
        "                             batch_size=1,\n",
        "                             shuffle=False,\n",
        "                             collate_fn=collate_fn)\n",
        "\n",
        "    return data_loader"
      ]
    },
    {
      "cell_type": "code",
      "execution_count": null,
      "id": "634deb9a",
      "metadata": {
        "colab": {
          "referenced_widgets": [
            "6a03033becf14129b270aae90fc4d3d0"
          ]
        },
        "execution": {
          "iopub.execute_input": "2025-01-03T22:23:46.142607Z",
          "iopub.status.busy": "2025-01-03T22:23:46.141900Z",
          "iopub.status.idle": "2025-01-03T22:23:46.231595Z",
          "shell.execute_reply": "2025-01-03T22:23:46.230683Z"
        },
        "id": "634deb9a",
        "outputId": "c0033bcc-20d9-4f43-c901-5433b92a0f0a",
        "papermill": {
          "duration": 0.159461,
          "end_time": "2025-01-03T22:23:46.233888",
          "exception": false,
          "start_time": "2025-01-03T22:23:46.074427",
          "status": "completed"
        },
        "tags": []
      },
      "outputs": [
        {
          "data": {
            "application/vnd.jupyter.widget-view+json": {
              "model_id": "6a03033becf14129b270aae90fc4d3d0",
              "version_major": 2,
              "version_minor": 0
            },
            "text/plain": [
              "Map:   0%|          | 0/300 [00:00<?, ? examples/s]"
            ]
          },
          "metadata": {},
          "output_type": "display_data"
        },
        {
          "name": "stdout",
          "output_type": "stream",
          "text": [
            "<|system|>\n",
            "You are an annotator for sexism detection.<|end|>\n",
            "<|user|>\n",
            "Your task is to classify input text as containing sexism or not. Respond only YES or NO.\n",
            "\n",
            "        TEXT:\n",
            "        The boys must be gaming because there goes the wifi.\n",
            "\n",
            "        ANSWER:\n",
            "        <|end|>\n",
            "<|assistant|>\n",
            "\n"
          ]
        }
      ],
      "source": [
        "data_loader = prepare_prompts(test_data, zero_shot_prompt, tokenizer_1)"
      ]
    },
    {
      "cell_type": "markdown",
      "id": "43da06c7",
      "metadata": {
        "id": "43da06c7",
        "papermill": {
          "duration": 0.065317,
          "end_time": "2025-01-03T22:23:46.365721",
          "exception": false,
          "start_time": "2025-01-03T22:23:46.300404",
          "status": "completed"
        },
        "tags": []
      },
      "source": [
        "### Notes\n",
        "\n",
        "\n",
        "\n",
        "\n",
        "\n",
        "\n",
        "\n",
        "1. You are free to modify the prompt format (**not its content**) as you like depending on your code implementation.\n",
        "\n",
        "\n",
        "\n",
        "\n",
        "\n",
        "\n",
        "\n",
        "2. Note that the provided prompt has placeholders. You need to format the string to replace placeholders. Huggingface might have dedicated APIs for this."
      ]
    },
    {
      "cell_type": "markdown",
      "id": "47ca0796",
      "metadata": {
        "id": "47ca0796",
        "papermill": {
          "duration": 0.065553,
          "end_time": "2025-01-03T22:23:46.496206",
          "exception": false,
          "start_time": "2025-01-03T22:23:46.430653",
          "status": "completed"
        },
        "tags": []
      },
      "source": [
        "# [Task 3 - 1.0 points] Inference\n",
        "\n",
        "\n",
        "\n",
        "\n",
        "\n",
        "\n",
        "\n",
        "We are now ready to define the inference loop where we prompt the model with each pre-processed sample."
      ]
    },
    {
      "cell_type": "markdown",
      "id": "054894a7",
      "metadata": {
        "id": "054894a7",
        "papermill": {
          "duration": 0.064849,
          "end_time": "2025-01-03T22:23:46.626608",
          "exception": false,
          "start_time": "2025-01-03T22:23:46.561759",
          "status": "completed"
        },
        "tags": []
      },
      "source": [
        "### Instructions\n",
        "\n",
        "\n",
        "\n",
        "\n",
        "\n",
        "\n",
        "\n",
        "In order to get Task 3 points, we require you to:\n",
        "\n",
        "\n",
        "\n",
        "\n",
        "\n",
        "\n",
        "\n",
        "* Write a ``generate_responses`` function as the one reported below.\n",
        "\n",
        "\n",
        "\n",
        "* Write a ``process_response`` function as the one reported below."
      ]
    },
    {
      "cell_type": "code",
      "execution_count": null,
      "id": "16bdfda5",
      "metadata": {
        "execution": {
          "iopub.execute_input": "2025-01-03T22:23:46.758693Z",
          "iopub.status.busy": "2025-01-03T22:23:46.758324Z",
          "iopub.status.idle": "2025-01-03T22:23:46.764386Z",
          "shell.execute_reply": "2025-01-03T22:23:46.763510Z"
        },
        "id": "16bdfda5",
        "papermill": {
          "duration": 0.074166,
          "end_time": "2025-01-03T22:23:46.766035",
          "exception": false,
          "start_time": "2025-01-03T22:23:46.691869",
          "status": "completed"
        },
        "tags": []
      },
      "outputs": [],
      "source": [
        "def generate_responses(model: transformers.AutoModel, prompt_examples: DataLoader) -> list:\n",
        "\n",
        "    \"\"\"\n",
        "    This function implements the inference loop for a LLM model.\n",
        "    Given a set of examples, the model is tasked to generate a response.\n",
        "\n",
        "    Inputs:\n",
        "      model: LLM model instance for prompting\n",
        "      prompt_examples: pre-processed text samples\n",
        "\n",
        "    Outputs:\n",
        "      generated responses\n",
        "    \"\"\"\n",
        "\n",
        "    model_responses = []\n",
        "    with torch.inference_mode():\n",
        "        for batch_x, batch_y in tqdm(prompt_examples, desc=\"Generating responses\"):\n",
        "            response = model.generate(\n",
        "\n",
        "                input_ids=batch_x['input_ids'].to(model.device),\n",
        "                attention_mask=batch_x['attention_mask'].to(model.device),\n",
        "                generation_config=model.generation_config,\n",
        "                do_sample=False,\n",
        "                use_cache=True\n",
        "\n",
        "            )\n",
        "\n",
        "            model_responses.extend(response)\n",
        "\n",
        "    return model_responses"
      ]
    },
    {
      "cell_type": "code",
      "execution_count": null,
      "id": "1c568c9b",
      "metadata": {
        "execution": {
          "iopub.execute_input": "2025-01-03T22:23:46.899141Z",
          "iopub.status.busy": "2025-01-03T22:23:46.898548Z",
          "iopub.status.idle": "2025-01-03T22:23:46.902828Z",
          "shell.execute_reply": "2025-01-03T22:23:46.902095Z"
        },
        "id": "1c568c9b",
        "papermill": {
          "duration": 0.072309,
          "end_time": "2025-01-03T22:23:46.904321",
          "exception": false,
          "start_time": "2025-01-03T22:23:46.832012",
          "status": "completed"
        },
        "tags": []
      },
      "outputs": [],
      "source": [
        "def process_response(response: str) -> int:\n",
        "\n",
        "    \"\"\"\n",
        "    This function takes a textual response generated by the LLM\n",
        "    and processes it to map the response to a binary label.\n",
        "\n",
        "    Inputs:\n",
        "      response: generated response from LLM\n",
        "\n",
        "    Outputs:\n",
        "      parsed binary response: return 1 if YES and 0 if NO\n",
        "    \"\"\"\n",
        "\n",
        "    return 1 if response.split()[0] == 'YES' else 0"
      ]
    },
    {
      "cell_type": "code",
      "execution_count": null,
      "id": "6b7248c3",
      "metadata": {
        "execution": {
          "iopub.execute_input": "2025-01-03T22:23:47.036848Z",
          "iopub.status.busy": "2025-01-03T22:23:47.036304Z",
          "iopub.status.idle": "2025-01-03T22:23:47.040827Z",
          "shell.execute_reply": "2025-01-03T22:23:47.039999Z"
        },
        "id": "6b7248c3",
        "papermill": {
          "duration": 0.072368,
          "end_time": "2025-01-03T22:23:47.042430",
          "exception": false,
          "start_time": "2025-01-03T22:23:46.970062",
          "status": "completed"
        },
        "tags": []
      },
      "outputs": [],
      "source": [
        "def extract_response(response: str) -> str:\n",
        "\n",
        "    \"\"\"\n",
        "    Extracts the answer of the model.\n",
        "\n",
        "    Input:\n",
        "    respose: the whole prompt given by the model\n",
        "    \"\"\"\n",
        "\n",
        "    match = [m for m in re.finditer(f'ANSWER:', response)][-1]\n",
        "    parsed = response[match.end():].strip()\n",
        "    return parsed"
      ]
    },
    {
      "cell_type": "code",
      "execution_count": null,
      "id": "988069b8",
      "metadata": {
        "execution": {
          "iopub.execute_input": "2025-01-03T22:23:47.177911Z",
          "iopub.status.busy": "2025-01-03T22:23:47.177190Z",
          "iopub.status.idle": "2025-01-03T22:26:03.645478Z",
          "shell.execute_reply": "2025-01-03T22:26:03.644509Z"
        },
        "id": "988069b8",
        "outputId": "90e9d3d1-ec7c-4852-f139-c97193ed8766",
        "papermill": {
          "duration": 136.536696,
          "end_time": "2025-01-03T22:26:03.647320",
          "exception": false,
          "start_time": "2025-01-03T22:23:47.110624",
          "status": "completed"
        },
        "tags": []
      },
      "outputs": [
        {
          "name": "stderr",
          "output_type": "stream",
          "text": [
            "Generating responses: 100%|██████████| 300/300 [02:16<00:00,  2.20it/s]\n"
          ]
        }
      ],
      "source": [
        "phi_pred = generate_responses(model_1, data_loader)"
      ]
    },
    {
      "cell_type": "code",
      "execution_count": null,
      "id": "f1e97c05",
      "metadata": {
        "execution": {
          "iopub.execute_input": "2025-01-03T22:26:03.846583Z",
          "iopub.status.busy": "2025-01-03T22:26:03.846228Z",
          "iopub.status.idle": "2025-01-03T22:26:03.880085Z",
          "shell.execute_reply": "2025-01-03T22:26:03.879436Z"
        },
        "id": "f1e97c05",
        "papermill": {
          "duration": 0.15487,
          "end_time": "2025-01-03T22:26:03.881704",
          "exception": false,
          "start_time": "2025-01-03T22:26:03.726834",
          "status": "completed"
        },
        "tags": []
      },
      "outputs": [],
      "source": [
        "response = tokenizer_1.batch_decode(phi_pred, skip_special_tokens=True)\n",
        "raw_response = np.array([extract_response(item) for item in response])"
      ]
    },
    {
      "cell_type": "markdown",
      "id": "baf0926d",
      "metadata": {
        "id": "baf0926d",
        "papermill": {
          "duration": 0.078565,
          "end_time": "2025-01-03T22:26:04.040349",
          "exception": false,
          "start_time": "2025-01-03T22:26:03.961784",
          "status": "completed"
        },
        "tags": []
      },
      "source": [
        "Let's create a Dataframe which will be used after to address the error of the models"
      ]
    },
    {
      "cell_type": "code",
      "execution_count": null,
      "id": "b85374bf",
      "metadata": {
        "execution": {
          "iopub.execute_input": "2025-01-03T22:26:04.198233Z",
          "iopub.status.busy": "2025-01-03T22:26:04.197882Z",
          "iopub.status.idle": "2025-01-03T22:26:04.206967Z",
          "shell.execute_reply": "2025-01-03T22:26:04.206088Z"
        },
        "id": "b85374bf",
        "papermill": {
          "duration": 0.090576,
          "end_time": "2025-01-03T22:26:04.208626",
          "exception": false,
          "start_time": "2025-01-03T22:26:04.118050",
          "status": "completed"
        },
        "tags": []
      },
      "outputs": [],
      "source": [
        "responses_df = a2_test.copy()\n",
        "responses_df = responses_df.drop('rewire_id', axis=1)\n",
        "responses_df['phi3_zero_shot'] = raw_response"
      ]
    },
    {
      "cell_type": "markdown",
      "id": "4aa1849e",
      "metadata": {
        "id": "4aa1849e",
        "papermill": {
          "duration": 0.079709,
          "end_time": "2025-01-03T22:26:04.366901",
          "exception": false,
          "start_time": "2025-01-03T22:26:04.287192",
          "status": "completed"
        },
        "tags": []
      },
      "source": [
        "## Notes\n",
        "\n",
        "\n",
        "\n",
        "\n",
        "\n",
        "\n",
        "\n",
        "1. According to our tests, it should take you ~10 mins to perform full inference on 300 samples."
      ]
    },
    {
      "cell_type": "markdown",
      "id": "8bc7ce1d",
      "metadata": {
        "id": "8bc7ce1d",
        "papermill": {
          "duration": 0.078389,
          "end_time": "2025-01-03T22:26:04.525592",
          "exception": false,
          "start_time": "2025-01-03T22:26:04.447203",
          "status": "completed"
        },
        "tags": []
      },
      "source": [
        "# [Task 4 - 0.5 points] Metrics\n",
        "\n",
        "\n",
        "\n",
        "\n",
        "\n",
        "\n",
        "\n",
        "In order to evaluate selected LLMs, we need to compute performance metrics.\n",
        "\n",
        "\n",
        "\n",
        "\n",
        "\n",
        "\n",
        "\n",
        "In particular, we are interested in computing **accuracy** since the provided data is balanced with respect to classification classes.\n",
        "\n",
        "\n",
        "\n",
        "\n",
        "\n",
        "\n",
        "\n",
        "Moreover, we want to compute the ratio of failed responses generated by models.\n",
        "\n",
        "\n",
        "\n",
        "\n",
        "\n",
        "\n",
        "\n",
        "That is, how frequent the LLM fails to follow instructions and provides incorrect responses that do not address the classification task.\n",
        "\n",
        "\n",
        "\n",
        "\n",
        "\n",
        "\n",
        "\n",
        "We denote this metric as **fail-ratio**.\n",
        "\n",
        "\n",
        "\n",
        "\n",
        "\n",
        "\n",
        "\n",
        "In summary, we parse generated responses as follows:\n",
        "\n",
        "\n",
        "\n",
        "- 1 if the model says YES\n",
        "\n",
        "\n",
        "\n",
        "- 0 if the model says NO\n",
        "\n",
        "\n",
        "\n",
        "- 0 if the model does not answer in either way"
      ]
    },
    {
      "cell_type": "markdown",
      "id": "a4bd5c26",
      "metadata": {
        "id": "a4bd5c26",
        "papermill": {
          "duration": 0.079862,
          "end_time": "2025-01-03T22:26:04.685990",
          "exception": false,
          "start_time": "2025-01-03T22:26:04.606128",
          "status": "completed"
        },
        "tags": []
      },
      "source": [
        "### Instructions\n",
        "\n",
        "\n",
        "\n",
        "\n",
        "\n",
        "\n",
        "\n",
        "In order to get Task 4 points, we require you to:\n",
        "\n",
        "\n",
        "\n",
        "\n",
        "\n",
        "\n",
        "\n",
        "* Write a ``compute_metrics`` function as the one reported below.\n",
        "\n",
        "\n",
        "\n",
        "* Compute metrics for the two selected LLMs."
      ]
    },
    {
      "cell_type": "markdown",
      "id": "bbbd8cf4",
      "metadata": {
        "id": "bbbd8cf4",
        "papermill": {
          "duration": 0.077691,
          "end_time": "2025-01-03T22:26:04.842034",
          "exception": false,
          "start_time": "2025-01-03T22:26:04.764343",
          "status": "completed"
        },
        "tags": []
      },
      "source": [
        "We considered wrong answers all those who do not contain either yes or no (case unsensitive) in the answer; an answer of the form: yes (or no) + explanation will be considered corrected. This allowed us to define the fail ratio as the ratio of the wrong answers."
      ]
    },
    {
      "cell_type": "code",
      "execution_count": null,
      "id": "022d99f0",
      "metadata": {
        "execution": {
          "iopub.execute_input": "2025-01-03T22:26:05.001670Z",
          "iopub.status.busy": "2025-01-03T22:26:05.000815Z",
          "iopub.status.idle": "2025-01-03T22:26:05.005980Z",
          "shell.execute_reply": "2025-01-03T22:26:05.005133Z"
        },
        "id": "022d99f0",
        "papermill": {
          "duration": 0.087001,
          "end_time": "2025-01-03T22:26:05.007516",
          "exception": false,
          "start_time": "2025-01-03T22:26:04.920515",
          "status": "completed"
        },
        "tags": []
      },
      "outputs": [],
      "source": [
        "def fail_ratio(textual_response : list) -> float:\n",
        "\n",
        "    \"\"\"\n",
        "    Computes the fail-ratio metrics\n",
        "    Input:\n",
        "    textual_response:  the responses generated by the model\n",
        "\n",
        "    Output:\n",
        "    fail_ratio: the fail ratio metrics\n",
        "    \"\"\"\n",
        "    wrong_answer = [answer for answer in textual_response if ('YES' not in answer.upper() and 'NO' not in answer.upper())]\n",
        "    n_wrong = len(wrong_answer)\n",
        "    n_total = len(textual_response)\n",
        "    fail_ratio = n_wrong/n_total\n",
        "    return fail_ratio"
      ]
    },
    {
      "cell_type": "code",
      "execution_count": null,
      "id": "76c5a94d",
      "metadata": {
        "execution": {
          "iopub.execute_input": "2025-01-03T22:26:05.169665Z",
          "iopub.status.busy": "2025-01-03T22:26:05.169295Z",
          "iopub.status.idle": "2025-01-03T22:26:05.174997Z",
          "shell.execute_reply": "2025-01-03T22:26:05.174156Z"
        },
        "id": "76c5a94d",
        "papermill": {
          "duration": 0.089007,
          "end_time": "2025-01-03T22:26:05.176607",
          "exception": false,
          "start_time": "2025-01-03T22:26:05.087600",
          "status": "completed"
        },
        "tags": []
      },
      "outputs": [],
      "source": [
        "def compute_metrics(responses: np.ndarray, y_true: np.ndarray) -> dict:\n",
        "\n",
        "    \"\"\"\n",
        "    This function takes predicted and ground-truth labels and compute metrics.\n",
        "    In particular, this function computes accuracy and fail-ratio metrics.\n",
        "    This function internally invokes `process_response` to compute metrics.\n",
        "\n",
        "    Inputs:\n",
        "      responses: generated LLM responses\n",
        "      y_true: ground-truth binary labels\n",
        "\n",
        "    Outputs:\n",
        "      dictionary containing desired metrics\n",
        "    \"\"\"\n",
        "\n",
        "    fail = fail_ratio(responses)\n",
        "    binary_prediction = [process_response(item) for item in responses]\n",
        "    predictions = np.array(binary_prediction)\n",
        "    acc = accuracy_score(y_pred=predictions, y_true=y_true)\n",
        "    cm = confusion_matrix(y_pred=predictions, y_true=y_true)\n",
        "    cr = classification_report(y_pred=predictions, y_true=y_true, output_dict = True)\n",
        "\n",
        "    return {'fail_ratio' : fail, 'accuracy_score' : acc, 'cr': cr, 'cm': cm}"
      ]
    },
    {
      "cell_type": "code",
      "execution_count": null,
      "id": "96c4067c",
      "metadata": {
        "execution": {
          "iopub.execute_input": "2025-01-03T22:26:05.334568Z",
          "iopub.status.busy": "2025-01-03T22:26:05.334212Z",
          "iopub.status.idle": "2025-01-03T22:26:05.348379Z",
          "shell.execute_reply": "2025-01-03T22:26:05.347507Z"
        },
        "id": "96c4067c",
        "outputId": "a86f6306-9f87-48e6-c900-84e41eb17662",
        "papermill": {
          "duration": 0.095559,
          "end_time": "2025-01-03T22:26:05.349974",
          "exception": false,
          "start_time": "2025-01-03T22:26:05.254415",
          "status": "completed"
        },
        "tags": []
      },
      "outputs": [
        {
          "name": "stdout",
          "output_type": "stream",
          "text": [
            "fail_ratio: 0.0000,\n",
            "accuracy: 0.6433\n",
            "\n"
          ]
        }
      ],
      "source": [
        "metrics_zero_shot_phi = compute_metrics(raw_response, ground_truth)\n",
        "print(f\"\"\"fail_ratio: {metrics_zero_shot_phi[\"fail_ratio\"]:.4f},\n",
        "accuracy: {metrics_zero_shot_phi[\"accuracy_score\"]:.4f}\n",
        "\"\"\")\n",
        "metrics = {'phi3_zero_shot': metrics_zero_shot_phi}"
      ]
    },
    {
      "cell_type": "markdown",
      "id": "b3c8ec45",
      "metadata": {
        "id": "b3c8ec45",
        "papermill": {
          "duration": 0.078253,
          "end_time": "2025-01-03T22:26:05.507883",
          "exception": false,
          "start_time": "2025-01-03T22:26:05.429630",
          "status": "completed"
        },
        "tags": []
      },
      "source": [
        "# [Task 5 - 1.0 points] Few-shot Inference\n",
        "\n",
        "\n",
        "\n",
        "\n",
        "\n",
        "\n",
        "\n",
        "So far, we have tested models in a zero-shot fashion: we provide the input text to classify and instruct the model to generate a response.\n",
        "\n",
        "\n",
        "\n",
        "\n",
        "\n",
        "\n",
        "\n",
        "We are now interested in performing few-shot prompting to see the impact of providing demonstration examples.\n",
        "\n",
        "\n",
        "\n",
        "\n",
        "\n",
        "\n",
        "\n",
        "To do so, we slightly change the prompt template as follows."
      ]
    },
    {
      "cell_type": "code",
      "execution_count": null,
      "id": "5f39cc78",
      "metadata": {
        "execution": {
          "iopub.execute_input": "2025-01-03T22:26:05.667884Z",
          "iopub.status.busy": "2025-01-03T22:26:05.667065Z",
          "iopub.status.idle": "2025-01-03T22:26:05.671542Z",
          "shell.execute_reply": "2025-01-03T22:26:05.670695Z"
        },
        "id": "5f39cc78",
        "papermill": {
          "duration": 0.08632,
          "end_time": "2025-01-03T22:26:05.673214",
          "exception": false,
          "start_time": "2025-01-03T22:26:05.586894",
          "status": "completed"
        },
        "tags": []
      },
      "outputs": [],
      "source": [
        "few_shot_prompt = [\n",
        "    {\n",
        "        'role': 'system',\n",
        "        'content': 'You are an annotator for sexism detection.'\n",
        "    },\n",
        "    {\n",
        "        'role': 'user',\n",
        "        'content': \"\"\"Your task is to classify input text as containing sexism or not. Respond only YES or NO.\n",
        "\n",
        "        EXAMPLES:\n",
        "        {examples}\n",
        "\n",
        "        TEXT:\n",
        "        {text}\n",
        "\n",
        "        ANSWER:\n",
        "        \"\"\"\n",
        "    }\n",
        "]"
      ]
    },
    {
      "cell_type": "markdown",
      "id": "3f56840f",
      "metadata": {
        "id": "3f56840f",
        "papermill": {
          "duration": 0.078035,
          "end_time": "2025-01-03T22:26:05.830471",
          "exception": false,
          "start_time": "2025-01-03T22:26:05.752436",
          "status": "completed"
        },
        "tags": []
      },
      "source": [
        "The new prompt template reports some demonstration examples to instruct the model.\n",
        "\n",
        "\n",
        "\n",
        "\n",
        "\n",
        "\n",
        "\n",
        "Generally, we provide an equal number of demonstrations per class as shown in the example below."
      ]
    },
    {
      "cell_type": "code",
      "execution_count": null,
      "id": "fa81c1a4",
      "metadata": {
        "execution": {
          "iopub.execute_input": "2025-01-03T22:26:05.988128Z",
          "iopub.status.busy": "2025-01-03T22:26:05.987444Z",
          "iopub.status.idle": "2025-01-03T22:26:05.991549Z",
          "shell.execute_reply": "2025-01-03T22:26:05.990785Z"
        },
        "id": "fa81c1a4",
        "papermill": {
          "duration": 0.084404,
          "end_time": "2025-01-03T22:26:05.993109",
          "exception": false,
          "start_time": "2025-01-03T22:26:05.908705",
          "status": "completed"
        },
        "tags": []
      },
      "outputs": [],
      "source": [
        "prompt = [\n",
        "    {\n",
        "        'role': 'system',\n",
        "        'content': 'You are an annotator for sexism detection.'\n",
        "    },\n",
        "    {\n",
        "        'role': 'user',\n",
        "        'content': \"\"\"Your task is to classify input text as containing sexism or not. Respond only YES or NO.\n",
        "\n",
        "        EXAMPLES:\n",
        "        TEXT: **example 1**\n",
        "        ANSWER: YES\n",
        "        TEXT: **example 2**\n",
        "        ANSWER: NO\n",
        "\n",
        "        TEXT:\n",
        "        {text}\n",
        "\n",
        "        ANSWER:\n",
        "        \"\"\"\n",
        "    }\n",
        "]"
      ]
    },
    {
      "cell_type": "markdown",
      "id": "71ecfb71",
      "metadata": {
        "id": "71ecfb71",
        "papermill": {
          "duration": 0.079468,
          "end_time": "2025-01-03T22:26:06.152389",
          "exception": false,
          "start_time": "2025-01-03T22:26:06.072921",
          "status": "completed"
        },
        "tags": []
      },
      "source": [
        "## Instructions\n",
        "\n",
        "\n",
        "\n",
        "\n",
        "\n",
        "\n",
        "\n",
        "In order to get Task 5 points, we require you to:\n",
        "\n",
        "\n",
        "\n",
        "\n",
        "\n",
        "\n",
        "\n",
        "- Load ``demonstrations.csv`` and encode it into a ``pandas.DataFrame`` object.\n",
        "\n",
        "\n",
        "\n",
        "- Define a ``build_few_shot_demonstrations`` function as the one reported below.\n",
        "\n",
        "\n",
        "\n",
        "- Perform few-shot inference as in Task 3.\n",
        "\n",
        "\n",
        "\n",
        "- Compute metrics as in Task 4."
      ]
    },
    {
      "cell_type": "markdown",
      "id": "1a4dcf8c",
      "metadata": {
        "id": "1a4dcf8c",
        "papermill": {
          "duration": 0.080924,
          "end_time": "2025-01-03T22:26:06.312205",
          "exception": false,
          "start_time": "2025-01-03T22:26:06.231281",
          "status": "completed"
        },
        "tags": []
      },
      "source": [
        "Load demonstrations.csv and encode it into a pandas.DataFrame object, mapping the taget feature in YES and NO."
      ]
    },
    {
      "cell_type": "code",
      "execution_count": null,
      "id": "79186c4e",
      "metadata": {
        "execution": {
          "iopub.execute_input": "2025-01-03T22:26:06.508726Z",
          "iopub.status.busy": "2025-01-03T22:26:06.508023Z",
          "iopub.status.idle": "2025-01-03T22:26:06.522700Z",
          "shell.execute_reply": "2025-01-03T22:26:06.521911Z"
        },
        "id": "79186c4e",
        "outputId": "f9d5b7d4-9aba-45d0-e892-577294007437",
        "papermill": {
          "duration": 0.132368,
          "end_time": "2025-01-03T22:26:06.524307",
          "exception": false,
          "start_time": "2025-01-03T22:26:06.391939",
          "status": "completed"
        },
        "tags": []
      },
      "outputs": [
        {
          "data": {
            "text/html": [
              "<div>\n",
              "<style scoped>\n",
              "    .dataframe tbody tr th:only-of-type {\n",
              "        vertical-align: middle;\n",
              "    }\n",
              "\n",
              "    .dataframe tbody tr th {\n",
              "        vertical-align: top;\n",
              "    }\n",
              "\n",
              "    .dataframe thead th {\n",
              "        text-align: right;\n",
              "    }\n",
              "</style>\n",
              "<table border=\"1\" class=\"dataframe\">\n",
              "  <thead>\n",
              "    <tr style=\"text-align: right;\">\n",
              "      <th></th>\n",
              "      <th>rewire_id</th>\n",
              "      <th>text</th>\n",
              "      <th>label_sexist</th>\n",
              "    </tr>\n",
              "  </thead>\n",
              "  <tbody>\n",
              "    <tr>\n",
              "      <th>0</th>\n",
              "      <td>sexism2022_english-10348</td>\n",
              "      <td>I would never have my kid go to a daycare with...</td>\n",
              "      <td>NO</td>\n",
              "    </tr>\n",
              "    <tr>\n",
              "      <th>1</th>\n",
              "      <td>sexism2022_english-7950</td>\n",
              "      <td>Democrat women are so butt fucking ugly.</td>\n",
              "      <td>YES</td>\n",
              "    </tr>\n",
              "    <tr>\n",
              "      <th>2</th>\n",
              "      <td>sexism2022_english-7742</td>\n",
              "      <td>If you really wanted to twist the knife you’d ...</td>\n",
              "      <td>NO</td>\n",
              "    </tr>\n",
              "    <tr>\n",
              "      <th>3</th>\n",
              "      <td>sexism2022_english-16170</td>\n",
              "      <td>Those women are pro-rape. They didn’t care abo...</td>\n",
              "      <td>YES</td>\n",
              "    </tr>\n",
              "    <tr>\n",
              "      <th>4</th>\n",
              "      <td>sexism2022_english-9857</td>\n",
              "      <td>Married a bitch... Is it the standard scenario...</td>\n",
              "      <td>YES</td>\n",
              "    </tr>\n",
              "  </tbody>\n",
              "</table>\n",
              "</div>"
            ],
            "text/plain": [
              "                  rewire_id  \\\n",
              "0  sexism2022_english-10348   \n",
              "1   sexism2022_english-7950   \n",
              "2   sexism2022_english-7742   \n",
              "3  sexism2022_english-16170   \n",
              "4   sexism2022_english-9857   \n",
              "\n",
              "                                                text label_sexist  \n",
              "0  I would never have my kid go to a daycare with...           NO  \n",
              "1           Democrat women are so butt fucking ugly.          YES  \n",
              "2  If you really wanted to twist the knife you’d ...           NO  \n",
              "3  Those women are pro-rape. They didn’t care abo...          YES  \n",
              "4  Married a bitch... Is it the standard scenario...          YES  "
            ]
          },
          "execution_count": 30,
          "metadata": {},
          "output_type": "execute_result"
        }
      ],
      "source": [
        "local_file_path = os.path.join(directory, 'demonstrations')\n",
        "label_mapping = {'sexist': 'YES', 'not sexist': 'NO'}\n",
        "demonstrations = pd.read_csv(local_file_path, converters={'label_sexist' : lambda x: label_mapping[x]})\n",
        "demonstrations.head()"
      ]
    },
    {
      "cell_type": "markdown",
      "id": "835838b4",
      "metadata": {
        "id": "835838b4",
        "papermill": {
          "duration": 0.079898,
          "end_time": "2025-01-03T22:26:06.686047",
          "exception": false,
          "start_time": "2025-01-03T22:26:06.606149",
          "status": "completed"
        },
        "tags": []
      },
      "source": [
        "Define a build_few_shot_demonstrations function as the one reported below"
      ]
    },
    {
      "cell_type": "code",
      "execution_count": null,
      "id": "0d5001af",
      "metadata": {
        "execution": {
          "iopub.execute_input": "2025-01-03T22:26:06.845577Z",
          "iopub.status.busy": "2025-01-03T22:26:06.844759Z",
          "iopub.status.idle": "2025-01-03T22:26:06.850755Z",
          "shell.execute_reply": "2025-01-03T22:26:06.849984Z"
        },
        "id": "0d5001af",
        "papermill": {
          "duration": 0.087914,
          "end_time": "2025-01-03T22:26:06.852247",
          "exception": false,
          "start_time": "2025-01-03T22:26:06.764333",
          "status": "completed"
        },
        "tags": []
      },
      "outputs": [],
      "source": [
        "def build_few_shot_demonstrations(demonstrations: pd.DataFrame, num_per_class: int=2) -> str:\n",
        "\n",
        "    \"\"\"\n",
        "    This function extracts random examples from the demonstrations.\n",
        "\n",
        "    Inputs:\n",
        "\n",
        "      demonstrations: the pandas.DataFrame object wrapping demonstrations.csv\n",
        "      num_per_class: number of demonstrations per class\n",
        "\n",
        "    Outputs:\n",
        "      a string of textual demonstrations to inject into the prompt template.\n",
        "    \"\"\"\n",
        "\n",
        "    demonstration_list = []\n",
        "    for i in range(num_per_class):\n",
        "        demonstration_list.append((demonstrations[demonstrations['label_sexist'] == 'YES'].sample(1, axis = 0)['text'].values[0], 'YES'))\n",
        "        demonstration_list.append((demonstrations[demonstrations['label_sexist'] == 'NO'].sample(1, axis = 0)['text'].values[0], 'NO'))\n",
        "\n",
        "    demonstration_samples = '\\n'.join([f'TEXT: {text}\\nANSWER: {answer}' for (text, answer) in demonstration_list])\n",
        "    return demonstration_samples"
      ]
    },
    {
      "cell_type": "code",
      "execution_count": null,
      "id": "75e33485",
      "metadata": {
        "execution": {
          "iopub.execute_input": "2025-01-03T22:26:07.012418Z",
          "iopub.status.busy": "2025-01-03T22:26:07.011587Z",
          "iopub.status.idle": "2025-01-03T22:26:07.019082Z",
          "shell.execute_reply": "2025-01-03T22:26:07.018369Z"
        },
        "id": "75e33485",
        "papermill": {
          "duration": 0.089438,
          "end_time": "2025-01-03T22:26:07.020561",
          "exception": false,
          "start_time": "2025-01-03T22:26:06.931123",
          "status": "completed"
        },
        "tags": []
      },
      "outputs": [],
      "source": [
        "def prepare_prompts_few_shot(texts: Dataset,\n",
        "                             prompt_template: list,\n",
        "                             tokenizer: transformers.AutoTokenizer,\n",
        "                             demonstration_samples: Optional[str] = None,\n",
        "                             num_per_class: int = 2) -> DataLoader:\n",
        "\n",
        "    \"\"\"\n",
        "    This function formats input text samples into instructions prompts with examples.\n",
        "\n",
        "    Inputs:\n",
        "      texts: input texts to classify via prompting\n",
        "      prompt_template: the prompt template provided in this assignment\n",
        "      tokenizer: the transformers Tokenizer object instance associated with the chosen model card\n",
        "      demonstration_samples: the examples used to format the prompt\n",
        "\n",
        "    Outputs:\n",
        "      input texts to classify in the form of instruction prompts\n",
        "    \"\"\"\n",
        "\n",
        "    def format_text(text):\n",
        "        prompt = tokenizer.apply_chat_template(prompt_template, tokenize=False, add_generation_prompt=True)\n",
        "        if demonstration_samples is None:\n",
        "          text['text'] = prompt.format(text=text['text'], examples= build_few_shot_demonstrations(demonstrations, num_per_class = num_per_class))\n",
        "        else:\n",
        "          text['text'] = prompt.format(text=text['text'], examples= demonstration_samples)\n",
        "        return text\n",
        "\n",
        "    def collate_fn(batch):\n",
        "        texts = tokenizer.batch_encode_plus([it['text'] for it in batch], return_tensors='pt', padding=True, truncation=True)\n",
        "        sentiment = torch.tensor([it['label_sexist'] for it in batch])\n",
        "        return texts, sentiment\n",
        "\n",
        "    few_shot_data = texts.map(lambda x: format_text(x))\n",
        "    few_shot_data = few_shot_data.select_columns(['text', 'label_sexist'])\n",
        "\n",
        "    print(few_shot_data['text'][0])\n",
        "    data_loader = DataLoader(few_shot_data,\n",
        "                             batch_size=1,\n",
        "                             shuffle=False,\n",
        "                             collate_fn=collate_fn)\n",
        "\n",
        "\n",
        "    return data_loader"
      ]
    },
    {
      "cell_type": "markdown",
      "id": "29d4e69e",
      "metadata": {
        "id": "29d4e69e",
        "papermill": {
          "duration": 0.080171,
          "end_time": "2025-01-03T22:26:07.179871",
          "exception": false,
          "start_time": "2025-01-03T22:26:07.099700",
          "status": "completed"
        },
        "tags": []
      },
      "source": [
        "To ensure reproducibility and a fair comparison between the models, we limited the demonstrations to two examples per class, randomly extracted from the demonstrations file. All prompt templates are then formatted using the extracted sentences from the dataset and the same fixed set of demonstrations for consistency across all experiments."
      ]
    },
    {
      "cell_type": "code",
      "execution_count": null,
      "id": "8b987fa3",
      "metadata": {
        "execution": {
          "iopub.execute_input": "2025-01-03T22:26:07.342068Z",
          "iopub.status.busy": "2025-01-03T22:26:07.341363Z",
          "iopub.status.idle": "2025-01-03T22:26:07.350369Z",
          "shell.execute_reply": "2025-01-03T22:26:07.349457Z"
        },
        "id": "8b987fa3",
        "outputId": "ca8f2cbd-f013-41bd-e640-dd2c2e0b8c61",
        "papermill": {
          "duration": 0.093641,
          "end_time": "2025-01-03T22:26:07.352503",
          "exception": false,
          "start_time": "2025-01-03T22:26:07.258862",
          "status": "completed"
        },
        "tags": []
      },
      "outputs": [
        {
          "name": "stdout",
          "output_type": "stream",
          "text": [
            "TEXT: nothing irks a left wing feminist worse than seeing a beautiful virtuous woman who is conservative they HATE her H-A-T-E so they try to suppress her next it will be illegal to be born beautiful they'll call it \"Hate Birth\"\n",
            "ANSWER: YES\n",
            "TEXT: Reposting this since all the mailboxes were full over the weekend. Please everybody call! #ReleaseTheMemo\n",
            "ANSWER: NO\n",
            "TEXT: It's not old. The women that are 35+ are far more mature, know what they want, and go for it. They don't play the same games and I appreciate them far more for it. Also, they fuck you so much better... no joke.\n",
            "ANSWER: YES\n",
            "TEXT: Greece, African and moslems first stop to the UK.\n",
            "ANSWER: NO\n"
          ]
        }
      ],
      "source": [
        "demonstration_samples = build_few_shot_demonstrations(demonstrations, num_per_class=2)\n",
        "print(demonstration_samples)"
      ]
    },
    {
      "cell_type": "code",
      "execution_count": null,
      "id": "91db02e7",
      "metadata": {
        "colab": {
          "referenced_widgets": [
            "f04ca029abcf450990dbdafeb5ea0290"
          ]
        },
        "execution": {
          "iopub.execute_input": "2025-01-03T22:26:07.516340Z",
          "iopub.status.busy": "2025-01-03T22:26:07.515516Z",
          "iopub.status.idle": "2025-01-03T22:26:07.602237Z",
          "shell.execute_reply": "2025-01-03T22:26:07.601411Z"
        },
        "id": "91db02e7",
        "outputId": "c55b22b0-0008-4573-ffd7-f3aecc90b874",
        "papermill": {
          "duration": 0.171365,
          "end_time": "2025-01-03T22:26:07.605070",
          "exception": false,
          "start_time": "2025-01-03T22:26:07.433705",
          "status": "completed"
        },
        "tags": []
      },
      "outputs": [
        {
          "data": {
            "application/vnd.jupyter.widget-view+json": {
              "model_id": "f04ca029abcf450990dbdafeb5ea0290",
              "version_major": 2,
              "version_minor": 0
            },
            "text/plain": [
              "Map:   0%|          | 0/300 [00:00<?, ? examples/s]"
            ]
          },
          "metadata": {},
          "output_type": "display_data"
        },
        {
          "name": "stdout",
          "output_type": "stream",
          "text": [
            "<|system|>\n",
            "You are an annotator for sexism detection.<|end|>\n",
            "<|user|>\n",
            "Your task is to classify input text as containing sexism or not. Respond only YES or NO.\n",
            "\n",
            "        EXAMPLES:\n",
            "        TEXT: nothing irks a left wing feminist worse than seeing a beautiful virtuous woman who is conservative they HATE her H-A-T-E so they try to suppress her next it will be illegal to be born beautiful they'll call it \"Hate Birth\"\n",
            "ANSWER: YES\n",
            "TEXT: Reposting this since all the mailboxes were full over the weekend. Please everybody call! #ReleaseTheMemo\n",
            "ANSWER: NO\n",
            "TEXT: It's not old. The women that are 35+ are far more mature, know what they want, and go for it. They don't play the same games and I appreciate them far more for it. Also, they fuck you so much better... no joke.\n",
            "ANSWER: YES\n",
            "TEXT: Greece, African and moslems first stop to the UK.\n",
            "ANSWER: NO\n",
            "\n",
            "        TEXT:\n",
            "        The boys must be gaming because there goes the wifi.\n",
            "\n",
            "        ANSWER:\n",
            "        <|end|>\n",
            "<|assistant|>\n",
            "\n"
          ]
        }
      ],
      "source": [
        "data_loader_fs = prepare_prompts_few_shot(test_data, prompt_template= few_shot_prompt, tokenizer= tokenizer_1, demonstration_samples= demonstration_samples)"
      ]
    },
    {
      "cell_type": "markdown",
      "id": "dc25895b",
      "metadata": {
        "id": "dc25895b",
        "papermill": {
          "duration": 0.078764,
          "end_time": "2025-01-03T22:26:07.931450",
          "exception": false,
          "start_time": "2025-01-03T22:26:07.852686",
          "status": "completed"
        },
        "tags": []
      },
      "source": [
        "Perform few-shot inference as in Task 3."
      ]
    },
    {
      "cell_type": "code",
      "execution_count": null,
      "id": "fdcef81b",
      "metadata": {
        "execution": {
          "iopub.execute_input": "2025-01-03T22:26:08.093323Z",
          "iopub.status.busy": "2025-01-03T22:26:08.092977Z",
          "iopub.status.idle": "2025-01-03T22:29:46.903549Z",
          "shell.execute_reply": "2025-01-03T22:29:46.902653Z"
        },
        "id": "fdcef81b",
        "outputId": "32dd114a-b25e-4fb8-a2e3-fc0d1a165308",
        "papermill": {
          "duration": 218.893749,
          "end_time": "2025-01-03T22:29:46.905437",
          "exception": false,
          "start_time": "2025-01-03T22:26:08.011688",
          "status": "completed"
        },
        "tags": []
      },
      "outputs": [
        {
          "name": "stderr",
          "output_type": "stream",
          "text": [
            "Generating responses: 100%|██████████| 300/300 [03:38<00:00,  1.37it/s]\n"
          ]
        }
      ],
      "source": [
        "phi_pred_fs = generate_responses(model_1, data_loader_fs)"
      ]
    },
    {
      "cell_type": "code",
      "execution_count": null,
      "id": "374d31b2",
      "metadata": {
        "execution": {
          "iopub.execute_input": "2025-01-03T22:29:47.132360Z",
          "iopub.status.busy": "2025-01-03T22:29:47.132015Z",
          "iopub.status.idle": "2025-01-03T22:29:47.205669Z",
          "shell.execute_reply": "2025-01-03T22:29:47.204983Z"
        },
        "id": "374d31b2",
        "papermill": {
          "duration": 0.208952,
          "end_time": "2025-01-03T22:29:47.207434",
          "exception": false,
          "start_time": "2025-01-03T22:29:46.998482",
          "status": "completed"
        },
        "tags": []
      },
      "outputs": [],
      "source": [
        "response = tokenizer_1.batch_decode(phi_pred_fs, skip_special_tokens=True)\n",
        "raw_response = np.array([extract_response(item) for item in response])\n",
        "responses_df['phi3_few_shot'] = raw_response"
      ]
    },
    {
      "cell_type": "markdown",
      "id": "d1fcc664",
      "metadata": {
        "id": "d1fcc664",
        "papermill": {
          "duration": 0.092717,
          "end_time": "2025-01-03T22:29:47.394262",
          "exception": false,
          "start_time": "2025-01-03T22:29:47.301545",
          "status": "completed"
        },
        "tags": []
      },
      "source": [
        "Compute metrics as in Task 4."
      ]
    },
    {
      "cell_type": "code",
      "execution_count": null,
      "id": "256a0e70",
      "metadata": {
        "execution": {
          "iopub.execute_input": "2025-01-03T22:29:47.581695Z",
          "iopub.status.busy": "2025-01-03T22:29:47.581324Z",
          "iopub.status.idle": "2025-01-03T22:29:47.594098Z",
          "shell.execute_reply": "2025-01-03T22:29:47.593141Z"
        },
        "id": "256a0e70",
        "outputId": "a2ad6d6a-5cec-4986-937d-0020edbd14fd",
        "papermill": {
          "duration": 0.108016,
          "end_time": "2025-01-03T22:29:47.595776",
          "exception": false,
          "start_time": "2025-01-03T22:29:47.487760",
          "status": "completed"
        },
        "tags": []
      },
      "outputs": [
        {
          "name": "stdout",
          "output_type": "stream",
          "text": [
            "fail_ratio: 0.0000,\n",
            "accuracy: 0.6700\n",
            "\n"
          ]
        }
      ],
      "source": [
        "metrics_few_shot_phi = compute_metrics(raw_response, ground_truth)\n",
        "metrics['phi3_few_shot'] = metrics_few_shot_phi\n",
        "\n",
        "print(f\"\"\"fail_ratio: {metrics_few_shot_phi[\"fail_ratio\"]:.4f},\n",
        "accuracy: {metrics_few_shot_phi[\"accuracy_score\"]:.4f}\n",
        "\"\"\"\n",
        ")"
      ]
    },
    {
      "cell_type": "markdown",
      "id": "1a2f2990",
      "metadata": {
        "id": "1a2f2990",
        "papermill": {
          "duration": 0.093042,
          "end_time": "2025-01-03T22:29:47.781777",
          "exception": false,
          "start_time": "2025-01-03T22:29:47.688735",
          "status": "completed"
        },
        "tags": []
      },
      "source": [
        "## Notes\n",
        "\n",
        "\n",
        "\n",
        "\n",
        "\n",
        "\n",
        "\n",
        "1. You are free to pick any value for ``num_per_class``.\n",
        "\n",
        "\n",
        "\n",
        "\n",
        "\n",
        "\n",
        "\n",
        "2. According to our tests, few-shot prompting increases inference time by some minutes (we experimented with ``num_per_class`` $\\in [2, 4]$)."
      ]
    },
    {
      "cell_type": "markdown",
      "id": "61d9db20",
      "metadata": {
        "id": "61d9db20",
        "papermill": {
          "duration": 0.093402,
          "end_time": "2025-01-03T22:29:47.966736",
          "exception": false,
          "start_time": "2025-01-03T22:29:47.873334",
          "status": "completed"
        },
        "tags": []
      },
      "source": [
        "# Model 2 - Mistral 7B v0.3"
      ]
    },
    {
      "cell_type": "markdown",
      "id": "9b4fe52b",
      "metadata": {
        "id": "9b4fe52b",
        "papermill": {
          "duration": 0.093222,
          "end_time": "2025-01-03T22:29:48.153728",
          "exception": false,
          "start_time": "2025-01-03T22:29:48.060506",
          "status": "completed"
        },
        "tags": []
      },
      "source": [
        "In this section we performed zero shot and few shot techniques on the model **Mistral 7B instruct v0.3** of MistralAI."
      ]
    },
    {
      "cell_type": "code",
      "execution_count": null,
      "id": "f3646a56",
      "metadata": {
        "colab": {
          "referenced_widgets": [
            "99f3c7763f3a44879452039acb4d8701",
            "70ebefbac3ab44928527ec11b56d2622",
            "dc0e30e6fbf2490fb067a9de4d0fc08b",
            "7423cc44bb2940138ed2af09ed2e90b8",
            "6f5aa0807bb046889b7e52322491bc76",
            "152d76260dd6483ab5dc942c9e84426e",
            "a8e6c4dd08404586b206b62380a5fd3e",
            "e16442020f1e40349d3779fcb6dceb5d",
            "2c6f11685a324f7c85f530c8bbf7c6c4",
            "8da70603ede74a5fa39878bc52cdc8e2",
            "8da85c45c13e4b07ad5f756b3b44cf85",
            "7d0103df727d4130889bc2ff59d0077a"
          ]
        },
        "execution": {
          "iopub.execute_input": "2025-01-03T22:29:48.341014Z",
          "iopub.status.busy": "2025-01-03T22:29:48.340268Z",
          "iopub.status.idle": "2025-01-03T22:36:11.573312Z",
          "shell.execute_reply": "2025-01-03T22:36:11.572548Z"
        },
        "id": "f3646a56",
        "outputId": "a92eb391-6f88-4669-8b97-35994a037e2e",
        "papermill": {
          "duration": 383.329298,
          "end_time": "2025-01-03T22:36:11.575339",
          "exception": false,
          "start_time": "2025-01-03T22:29:48.246041",
          "status": "completed"
        },
        "tags": []
      },
      "outputs": [
        {
          "data": {
            "application/vnd.jupyter.widget-view+json": {
              "model_id": "99f3c7763f3a44879452039acb4d8701",
              "version_major": 2,
              "version_minor": 0
            },
            "text/plain": [
              "tokenizer_config.json:   0%|          | 0.00/141k [00:00<?, ?B/s]"
            ]
          },
          "metadata": {},
          "output_type": "display_data"
        },
        {
          "data": {
            "application/vnd.jupyter.widget-view+json": {
              "model_id": "70ebefbac3ab44928527ec11b56d2622",
              "version_major": 2,
              "version_minor": 0
            },
            "text/plain": [
              "tokenizer.model:   0%|          | 0.00/587k [00:00<?, ?B/s]"
            ]
          },
          "metadata": {},
          "output_type": "display_data"
        },
        {
          "data": {
            "application/vnd.jupyter.widget-view+json": {
              "model_id": "dc0e30e6fbf2490fb067a9de4d0fc08b",
              "version_major": 2,
              "version_minor": 0
            },
            "text/plain": [
              "tokenizer.json:   0%|          | 0.00/1.96M [00:00<?, ?B/s]"
            ]
          },
          "metadata": {},
          "output_type": "display_data"
        },
        {
          "data": {
            "application/vnd.jupyter.widget-view+json": {
              "model_id": "7423cc44bb2940138ed2af09ed2e90b8",
              "version_major": 2,
              "version_minor": 0
            },
            "text/plain": [
              "special_tokens_map.json:   0%|          | 0.00/414 [00:00<?, ?B/s]"
            ]
          },
          "metadata": {},
          "output_type": "display_data"
        },
        {
          "data": {
            "application/vnd.jupyter.widget-view+json": {
              "model_id": "6f5aa0807bb046889b7e52322491bc76",
              "version_major": 2,
              "version_minor": 0
            },
            "text/plain": [
              "config.json:   0%|          | 0.00/601 [00:00<?, ?B/s]"
            ]
          },
          "metadata": {},
          "output_type": "display_data"
        },
        {
          "data": {
            "application/vnd.jupyter.widget-view+json": {
              "model_id": "152d76260dd6483ab5dc942c9e84426e",
              "version_major": 2,
              "version_minor": 0
            },
            "text/plain": [
              "model.safetensors.index.json:   0%|          | 0.00/23.9k [00:00<?, ?B/s]"
            ]
          },
          "metadata": {},
          "output_type": "display_data"
        },
        {
          "data": {
            "application/vnd.jupyter.widget-view+json": {
              "model_id": "a8e6c4dd08404586b206b62380a5fd3e",
              "version_major": 2,
              "version_minor": 0
            },
            "text/plain": [
              "Downloading shards:   0%|          | 0/3 [00:00<?, ?it/s]"
            ]
          },
          "metadata": {},
          "output_type": "display_data"
        },
        {
          "data": {
            "application/vnd.jupyter.widget-view+json": {
              "model_id": "e16442020f1e40349d3779fcb6dceb5d",
              "version_major": 2,
              "version_minor": 0
            },
            "text/plain": [
              "model-00001-of-00003.safetensors:   0%|          | 0.00/4.95G [00:00<?, ?B/s]"
            ]
          },
          "metadata": {},
          "output_type": "display_data"
        },
        {
          "data": {
            "application/vnd.jupyter.widget-view+json": {
              "model_id": "2c6f11685a324f7c85f530c8bbf7c6c4",
              "version_major": 2,
              "version_minor": 0
            },
            "text/plain": [
              "model-00002-of-00003.safetensors:   0%|          | 0.00/5.00G [00:00<?, ?B/s]"
            ]
          },
          "metadata": {},
          "output_type": "display_data"
        },
        {
          "data": {
            "application/vnd.jupyter.widget-view+json": {
              "model_id": "8da70603ede74a5fa39878bc52cdc8e2",
              "version_major": 2,
              "version_minor": 0
            },
            "text/plain": [
              "model-00003-of-00003.safetensors:   0%|          | 0.00/4.55G [00:00<?, ?B/s]"
            ]
          },
          "metadata": {},
          "output_type": "display_data"
        },
        {
          "data": {
            "application/vnd.jupyter.widget-view+json": {
              "model_id": "8da85c45c13e4b07ad5f756b3b44cf85",
              "version_major": 2,
              "version_minor": 0
            },
            "text/plain": [
              "Loading checkpoint shards:   0%|          | 0/3 [00:00<?, ?it/s]"
            ]
          },
          "metadata": {},
          "output_type": "display_data"
        },
        {
          "data": {
            "application/vnd.jupyter.widget-view+json": {
              "model_id": "7d0103df727d4130889bc2ff59d0077a",
              "version_major": 2,
              "version_minor": 0
            },
            "text/plain": [
              "generation_config.json:   0%|          | 0.00/116 [00:00<?, ?B/s]"
            ]
          },
          "metadata": {},
          "output_type": "display_data"
        }
      ],
      "source": [
        "model_card = \"mistralai/Mistral-7B-Instruct-v0.3\"\n",
        "\n",
        "model_2, tokenizer_2= get_model(model_card)"
      ]
    },
    {
      "cell_type": "markdown",
      "id": "700ae9b8",
      "metadata": {
        "id": "700ae9b8",
        "papermill": {
          "duration": 0.093904,
          "end_time": "2025-01-03T22:36:11.764619",
          "exception": false,
          "start_time": "2025-01-03T22:36:11.670715",
          "status": "completed"
        },
        "tags": []
      },
      "source": [
        "### Zero-Shot"
      ]
    },
    {
      "cell_type": "code",
      "execution_count": null,
      "id": "a91270f0",
      "metadata": {
        "colab": {
          "referenced_widgets": [
            "3291395c05e843e6b7dc86154a5231a8"
          ]
        },
        "execution": {
          "iopub.execute_input": "2025-01-03T22:36:11.953377Z",
          "iopub.status.busy": "2025-01-03T22:36:11.953034Z",
          "iopub.status.idle": "2025-01-03T22:36:12.072441Z",
          "shell.execute_reply": "2025-01-03T22:36:12.071616Z"
        },
        "id": "a91270f0",
        "outputId": "f32dc93f-1c74-4704-fd73-cd7da31ba6d3",
        "papermill": {
          "duration": 0.217334,
          "end_time": "2025-01-03T22:36:12.075327",
          "exception": false,
          "start_time": "2025-01-03T22:36:11.857993",
          "status": "completed"
        },
        "tags": []
      },
      "outputs": [
        {
          "data": {
            "application/vnd.jupyter.widget-view+json": {
              "model_id": "3291395c05e843e6b7dc86154a5231a8",
              "version_major": 2,
              "version_minor": 0
            },
            "text/plain": [
              "Map:   0%|          | 0/300 [00:00<?, ? examples/s]"
            ]
          },
          "metadata": {},
          "output_type": "display_data"
        },
        {
          "name": "stdout",
          "output_type": "stream",
          "text": [
            "<s>[INST] You are an annotator for sexism detection.\n",
            "\n",
            "Your task is to classify input text as containing sexism or not. Respond only YES or NO.\n",
            "\n",
            "        TEXT:\n",
            "        The boys must be gaming because there goes the wifi.\n",
            "\n",
            "        ANSWER:\n",
            "        [/INST]\n"
          ]
        }
      ],
      "source": [
        "data_loader = prepare_prompts(test_data, zero_shot_prompt, tokenizer_2)"
      ]
    },
    {
      "cell_type": "code",
      "execution_count": null,
      "id": "55042c1c",
      "metadata": {
        "execution": {
          "iopub.execute_input": "2025-01-03T22:36:12.269508Z",
          "iopub.status.busy": "2025-01-03T22:36:12.269148Z",
          "iopub.status.idle": "2025-01-03T22:40:07.320871Z",
          "shell.execute_reply": "2025-01-03T22:40:07.319795Z"
        },
        "id": "55042c1c",
        "outputId": "35ad4811-cbaf-4f39-c6f8-08bd54f1e099",
        "papermill": {
          "duration": 235.150306,
          "end_time": "2025-01-03T22:40:07.322567",
          "exception": false,
          "start_time": "2025-01-03T22:36:12.172261",
          "status": "completed"
        },
        "tags": []
      },
      "outputs": [
        {
          "name": "stderr",
          "output_type": "stream",
          "text": [
            "Generating responses:   0%|          | 0/300 [00:00<?, ?it/s]Asking to truncate to max_length but no maximum length is provided and the model has no predefined maximum length. Default to no truncation.\n",
            "Generating responses: 100%|██████████| 300/300 [03:55<00:00,  1.28it/s]\n"
          ]
        }
      ],
      "source": [
        "mistral_pred_zs = generate_responses(model_2, data_loader)"
      ]
    },
    {
      "cell_type": "code",
      "execution_count": null,
      "id": "21c6d3d0",
      "metadata": {
        "execution": {
          "iopub.execute_input": "2025-01-03T22:40:07.544183Z",
          "iopub.status.busy": "2025-01-03T22:40:07.543341Z",
          "iopub.status.idle": "2025-01-03T22:40:07.584200Z",
          "shell.execute_reply": "2025-01-03T22:40:07.583490Z"
        },
        "id": "21c6d3d0",
        "papermill": {
          "duration": 0.153267,
          "end_time": "2025-01-03T22:40:07.585957",
          "exception": false,
          "start_time": "2025-01-03T22:40:07.432690",
          "status": "completed"
        },
        "tags": []
      },
      "outputs": [],
      "source": [
        "response = tokenizer_2.batch_decode(mistral_pred_zs, skip_special_tokens=True)\n",
        "raw_response = np.array([extract_response(item) for item in response])\n",
        "responses_df['mistral_zero_shot'] = raw_response"
      ]
    },
    {
      "cell_type": "code",
      "execution_count": null,
      "id": "aed92f47",
      "metadata": {
        "execution": {
          "iopub.execute_input": "2025-01-03T22:40:07.849080Z",
          "iopub.status.busy": "2025-01-03T22:40:07.848181Z",
          "iopub.status.idle": "2025-01-03T22:40:07.861778Z",
          "shell.execute_reply": "2025-01-03T22:40:07.860872Z"
        },
        "id": "aed92f47",
        "outputId": "5095947e-3719-4a7d-bf5f-c1ea5bb165a8",
        "papermill": {
          "duration": 0.124874,
          "end_time": "2025-01-03T22:40:07.863323",
          "exception": false,
          "start_time": "2025-01-03T22:40:07.738449",
          "status": "completed"
        },
        "tags": []
      },
      "outputs": [
        {
          "name": "stdout",
          "output_type": "stream",
          "text": [
            "fail_ratio: 0.0000,\n",
            "accuracy: 0.5900\n",
            "\n"
          ]
        }
      ],
      "source": [
        "metrics_mistral_zero_shot = compute_metrics(raw_response, ground_truth)\n",
        "metrics['mistral_zero_shot'] = metrics_mistral_zero_shot\n",
        "\n",
        "print(f\"\"\"fail_ratio: {metrics_mistral_zero_shot[\"fail_ratio\"]:.4f},\n",
        "accuracy: {metrics_mistral_zero_shot[\"accuracy_score\"]:.4f}\n",
        "\"\"\")"
      ]
    },
    {
      "cell_type": "markdown",
      "id": "bc1a27f7",
      "metadata": {
        "id": "bc1a27f7",
        "papermill": {
          "duration": 0.107202,
          "end_time": "2025-01-03T22:40:08.079599",
          "exception": false,
          "start_time": "2025-01-03T22:40:07.972397",
          "status": "completed"
        },
        "tags": []
      },
      "source": [
        "### Few-Shot"
      ]
    },
    {
      "cell_type": "code",
      "execution_count": null,
      "id": "a9608036",
      "metadata": {
        "colab": {
          "referenced_widgets": [
            "4a354e2d36494da3849fafad30a8ecb3"
          ]
        },
        "execution": {
          "iopub.execute_input": "2025-01-03T22:40:08.296704Z",
          "iopub.status.busy": "2025-01-03T22:40:08.296300Z",
          "iopub.status.idle": "2025-01-03T22:40:08.401855Z",
          "shell.execute_reply": "2025-01-03T22:40:08.401065Z"
        },
        "id": "a9608036",
        "outputId": "01d3741e-c4e7-4a63-ef5f-e7c51c14833c",
        "papermill": {
          "duration": 0.216792,
          "end_time": "2025-01-03T22:40:08.404889",
          "exception": false,
          "start_time": "2025-01-03T22:40:08.188097",
          "status": "completed"
        },
        "tags": []
      },
      "outputs": [
        {
          "data": {
            "application/vnd.jupyter.widget-view+json": {
              "model_id": "4a354e2d36494da3849fafad30a8ecb3",
              "version_major": 2,
              "version_minor": 0
            },
            "text/plain": [
              "Map:   0%|          | 0/300 [00:00<?, ? examples/s]"
            ]
          },
          "metadata": {},
          "output_type": "display_data"
        },
        {
          "name": "stdout",
          "output_type": "stream",
          "text": [
            "<s>[INST] You are an annotator for sexism detection.\n",
            "\n",
            "Your task is to classify input text as containing sexism or not. Respond only YES or NO.\n",
            "\n",
            "        EXAMPLES:\n",
            "        TEXT: nothing irks a left wing feminist worse than seeing a beautiful virtuous woman who is conservative they HATE her H-A-T-E so they try to suppress her next it will be illegal to be born beautiful they'll call it \"Hate Birth\"\n",
            "ANSWER: YES\n",
            "TEXT: Reposting this since all the mailboxes were full over the weekend. Please everybody call! #ReleaseTheMemo\n",
            "ANSWER: NO\n",
            "TEXT: It's not old. The women that are 35+ are far more mature, know what they want, and go for it. They don't play the same games and I appreciate them far more for it. Also, they fuck you so much better... no joke.\n",
            "ANSWER: YES\n",
            "TEXT: Greece, African and moslems first stop to the UK.\n",
            "ANSWER: NO\n",
            "\n",
            "        TEXT:\n",
            "        The boys must be gaming because there goes the wifi.\n",
            "\n",
            "        ANSWER:\n",
            "        [/INST]\n"
          ]
        }
      ],
      "source": [
        "data_loader_fs = prepare_prompts_few_shot(test_data, prompt_template= few_shot_prompt, tokenizer= tokenizer_2, demonstration_samples= demonstration_samples)"
      ]
    },
    {
      "cell_type": "code",
      "execution_count": null,
      "id": "9b347bc7",
      "metadata": {
        "execution": {
          "iopub.execute_input": "2025-01-03T22:40:08.626093Z",
          "iopub.status.busy": "2025-01-03T22:40:08.625730Z",
          "iopub.status.idle": "2025-01-03T22:47:12.240896Z",
          "shell.execute_reply": "2025-01-03T22:47:12.239989Z"
        },
        "id": "9b347bc7",
        "outputId": "6efd253b-a61e-40aa-bdc3-bd98a2c7134d",
        "papermill": {
          "duration": 423.727678,
          "end_time": "2025-01-03T22:47:12.242824",
          "exception": false,
          "start_time": "2025-01-03T22:40:08.515146",
          "status": "completed"
        },
        "tags": []
      },
      "outputs": [
        {
          "name": "stderr",
          "output_type": "stream",
          "text": [
            "Generating responses: 100%|██████████| 300/300 [07:03<00:00,  1.41s/it]\n"
          ]
        }
      ],
      "source": [
        "mistral_pred_fs = generate_responses(model_2, data_loader_fs)\n",
        "response = tokenizer_2.batch_decode(mistral_pred_fs, skip_special_tokens=True)\n",
        "raw_response = np.array([extract_response(item) for item in response])\n",
        "responses_df['mistral_few_shot'] = raw_response"
      ]
    },
    {
      "cell_type": "code",
      "execution_count": null,
      "id": "7dc521fe",
      "metadata": {
        "execution": {
          "iopub.execute_input": "2025-01-03T22:47:12.491779Z",
          "iopub.status.busy": "2025-01-03T22:47:12.491013Z",
          "iopub.status.idle": "2025-01-03T22:47:12.503616Z",
          "shell.execute_reply": "2025-01-03T22:47:12.502685Z"
        },
        "id": "7dc521fe",
        "outputId": "2b5068e1-a856-4269-be4e-ff869a5f78fd",
        "papermill": {
          "duration": 0.136636,
          "end_time": "2025-01-03T22:47:12.505233",
          "exception": false,
          "start_time": "2025-01-03T22:47:12.368597",
          "status": "completed"
        },
        "tags": []
      },
      "outputs": [
        {
          "name": "stdout",
          "output_type": "stream",
          "text": [
            "fail_ratio: 0.0000,\n",
            "accuracy: 0.6967\n",
            "\n"
          ]
        }
      ],
      "source": [
        "metrics_mistral_few_shot = compute_metrics(raw_response, ground_truth)\n",
        "metrics['mistral_few_shot'] = metrics_mistral_few_shot\n",
        "\n",
        "print(f\"\"\"fail_ratio: {metrics_mistral_few_shot[\"fail_ratio\"]:.4f},\n",
        "accuracy: {metrics_mistral_few_shot[\"accuracy_score\"]:.4f}\n",
        "\"\"\")"
      ]
    },
    {
      "cell_type": "markdown",
      "id": "aee6a604",
      "metadata": {
        "id": "aee6a604",
        "papermill": {
          "duration": 0.121444,
          "end_time": "2025-01-03T22:47:12.748959",
          "exception": false,
          "start_time": "2025-01-03T22:47:12.627515",
          "status": "completed"
        },
        "tags": []
      },
      "source": [
        "# [Task 6 - 1.0 points] Error Analysis\n",
        "\n",
        "\n",
        "\n",
        "\n",
        "\n",
        "\n",
        "\n",
        "We are now interested in evaluating model responses and comparing their performance.\n",
        "\n",
        "\n",
        "\n",
        "\n",
        "\n",
        "\n",
        "\n",
        "This analysis helps us in understanding\n",
        "\n",
        "\n",
        "\n",
        "\n",
        "\n",
        "\n",
        "\n",
        "- Classification task performance gap: are the models good at this task?\n",
        "\n",
        "\n",
        "\n",
        "- Generation quality: which kind of responses do models generate?\n",
        "\n",
        "\n",
        "\n",
        "- Errors: which kind of mistakes do models do?"
      ]
    },
    {
      "cell_type": "markdown",
      "id": "4f0fd7dd",
      "metadata": {
        "id": "4f0fd7dd",
        "papermill": {
          "duration": 0.120686,
          "end_time": "2025-01-03T22:47:12.990654",
          "exception": false,
          "start_time": "2025-01-03T22:47:12.869968",
          "status": "completed"
        },
        "tags": []
      },
      "source": [
        "### Instructions\n",
        "\n",
        "\n",
        "\n",
        "\n",
        "\n",
        "\n",
        "\n",
        "In order to get Task 6 points, we require you to:\n",
        "\n",
        "\n",
        "\n",
        "\n",
        "\n",
        "\n",
        "\n",
        "* Compare classification performance of selected LLMs in a Table.\n",
        "\n",
        "\n",
        "\n",
        "* Compute confusion matrices for selected LLMs.\n",
        "\n",
        "\n",
        "\n",
        "* Briefly summarize your observations on generated responses."
      ]
    },
    {
      "cell_type": "markdown",
      "id": "e0731f17",
      "metadata": {
        "id": "e0731f17",
        "papermill": {
          "duration": 0.121927,
          "end_time": "2025-01-03T22:47:13.235806",
          "exception": false,
          "start_time": "2025-01-03T22:47:13.113879",
          "status": "completed"
        },
        "tags": []
      },
      "source": [
        "## Model performances\n",
        "\n",
        "Let's explore the Confusion Matrix and Classification Reports of the models to analyse the errors."
      ]
    },
    {
      "cell_type": "code",
      "execution_count": null,
      "id": "bb0e1e36",
      "metadata": {
        "execution": {
          "iopub.execute_input": "2025-01-03T22:47:13.494201Z",
          "iopub.status.busy": "2025-01-03T22:47:13.493675Z",
          "iopub.status.idle": "2025-01-03T22:47:13.507522Z",
          "shell.execute_reply": "2025-01-03T22:47:13.506078Z"
        },
        "id": "bb0e1e36",
        "papermill": {
          "duration": 0.15173,
          "end_time": "2025-01-03T22:47:13.509425",
          "exception": false,
          "start_time": "2025-01-03T22:47:13.357695",
          "status": "completed"
        },
        "tags": []
      },
      "outputs": [],
      "source": [
        "def plot_results(model_name : str, metrics : dict) -> None:\n",
        "\n",
        "    \"\"\"\n",
        "    This function plots the confusion matrix and classification report of the desired model\n",
        "    for both the zero shot and few shot\n",
        "\n",
        "    Input\n",
        "    model_name: the name of the model to plot the metrics of\n",
        "    metrics: a dictionary containing the computed metrics\n",
        "    \"\"\"\n",
        "\n",
        "    fig, axs = plt.subplots(2,2, figsize=(10, 5))\n",
        "    keys = [key for key in metrics.keys() if model_name in key]\n",
        "\n",
        "    for idx, key in enumerate(keys):\n",
        "        cm = metrics[key]['cm']\n",
        "        disp = ConfusionMatrixDisplay(cm)\n",
        "        axs[0][idx].set_title(key)\n",
        "        disp.plot(ax=axs[0][idx], colorbar=False, cmap='Blues')\n",
        "\n",
        "        cr = metrics[key]['cr']\n",
        "\n",
        "        report_df = pd.DataFrame(cr).T\n",
        "        report_df.iloc[:, :-1] = report_df.iloc[:, :-1].round(2)\n",
        "        report_df.loc[\"accuracy\", [\"precision\", \"recall\"]] = None\n",
        "        report_df.loc[\"accuracy\", \"support\"] = 300\n",
        "\n",
        "        # Create a styled table\n",
        "        axs[1][idx].axis(\"off\")\n",
        "        table_data = report_df.reset_index()\n",
        "        table = axs[1][idx].table(cellText=table_data.values, colLabels=table_data.columns,\n",
        "                        cellLoc=\"center\", loc=\"center\", bbox=[0, 0, 1, 1])\n",
        "\n",
        "        # Style the table\n",
        "        table.auto_set_font_size(False)\n",
        "        table.set_fontsize(10)\n",
        "        table.auto_set_column_width(col=list(range(len(table_data.columns))))\n",
        "\n",
        "        # Apply styles to headers and rows\n",
        "        for (row, col), cell in table.get_celld().items():\n",
        "            cell.set_edgecolor(\"black\")\n",
        "            if row == 0:\n",
        "                cell.set_text_props(weight=\"bold\")\n",
        "                cell.set_facecolor(\"#f4f4f4\")\n",
        "            elif col == 0:\n",
        "                cell.set_text_props(weight=\"bold\")\n",
        "                cell.set_facecolor(\"#f4f4f4\")\n",
        "            else:\n",
        "                value = table_data.values[row - 1, col] if row > 0 else table_data.columns[col]  # Adjust index for header\n",
        "                if pd.isna(value):\n",
        "                    cell.get_text().set_text(\"\")\n",
        "                cell.set_facecolor(\"white\")\n",
        "                cell.set_alpha(0.9)\n",
        "\n",
        "        axs[1][idx].set_title(key, fontsize=14)\n",
        "\n",
        "    plt.tight_layout()\n",
        "    plt.show()"
      ]
    },
    {
      "cell_type": "markdown",
      "id": "e5cc860f",
      "metadata": {
        "id": "e5cc860f",
        "papermill": {
          "duration": 0.120377,
          "end_time": "2025-01-03T22:47:13.821709",
          "exception": false,
          "start_time": "2025-01-03T22:47:13.701332",
          "status": "completed"
        },
        "tags": []
      },
      "source": [
        "Observing **Phi3** confusion matrix and classification report we can note that:\n",
        "- the error are quite balanced in both the zero shot and few shot between the sexist and non sexist label; this is confirmed also by the classification report, indeed the precision and recall on zero shot are basically equal, this is positive since the models seems to not present strong imbalances.\n",
        "- from the accuracy score we can see that the perfomances slightly increase in the few shot, this was expected since providing demonstration should help the model to better classify sentences. Diving deeper we can notice that only 6 sentences more are correctly classified in few shot, with respect to zero shot and all of them are from the label 1. This lead to different values in precision and recall and it could imply that the demonstration sentences, taken randomly, only help the model to understand sexism."
      ]
    },
    {
      "cell_type": "code",
      "execution_count": null,
      "id": "becf8624",
      "metadata": {
        "execution": {
          "iopub.execute_input": "2025-01-03T22:47:14.064434Z",
          "iopub.status.busy": "2025-01-03T22:47:14.064095Z",
          "iopub.status.idle": "2025-01-03T22:47:15.023566Z",
          "shell.execute_reply": "2025-01-03T22:47:15.022698Z"
        },
        "id": "becf8624",
        "outputId": "30c05e78-7a2f-4ca4-8e33-242e4dba73a7",
        "papermill": {
          "duration": 1.083159,
          "end_time": "2025-01-03T22:47:15.025394",
          "exception": false,
          "start_time": "2025-01-03T22:47:13.942235",
          "status": "completed"
        },
        "tags": []
      },
      "outputs": [
        {
          "data": {
            "image/png": "[encoded data removed]",
            "text/plain": [
              "<Figure size 1000x500 with 4 Axes>"
            ]
          },
          "metadata": {},
          "output_type": "display_data"
        }
      ],
      "source": [
        "plot_results('phi', metrics)"
      ]
    },
    {
      "cell_type": "markdown",
      "id": "86ba2d8e",
      "metadata": {
        "id": "86ba2d8e",
        "papermill": {
          "duration": 0.122082,
          "end_time": "2025-01-03T22:47:15.270850",
          "exception": false,
          "start_time": "2025-01-03T22:47:15.148768",
          "status": "completed"
        },
        "tags": []
      },
      "source": [
        "Observing **Mistral v0.3** confusion matrix and classification report we can note that:\n",
        "- The errors are highly imbalanced in the zero shot, indeed the model almost predicts all the sentences as sexist. Precision and recall are completely different on label 0, highlighting the fact that almost all sentences have been wrongly classified. In fact, the accuracy is slightly better than the one of the random classifier (0.59).\n",
        "- In few-shot, the performance improves, reaching 0.7 accuracy. This improvement highlights, even more than Phi3, the importance of the examples provided. However, the model remains strongly imbalanced in its predictions, with 81 of the total errors made on label 1. Additionally, we observe a slight decrease in Mistral's performance on label 1 in few-shot, with the model misclassifying 7 more sentences compared to zero-shot"
      ]
    },
    {
      "cell_type": "code",
      "execution_count": null,
      "id": "7f2b5398",
      "metadata": {
        "execution": {
          "iopub.execute_input": "2025-01-03T22:47:15.516653Z",
          "iopub.status.busy": "2025-01-03T22:47:15.516286Z",
          "iopub.status.idle": "2025-01-03T22:47:16.096809Z",
          "shell.execute_reply": "2025-01-03T22:47:16.095383Z"
        },
        "id": "7f2b5398",
        "outputId": "fb6db786-c462-4757-f3ec-390ac13c5ff2",
        "papermill": {
          "duration": 0.70655,
          "end_time": "2025-01-03T22:47:16.100173",
          "exception": false,
          "start_time": "2025-01-03T22:47:15.393623",
          "status": "completed"
        },
        "tags": []
      },
      "outputs": [
        {
          "data": {
            "image/png": "[encoded data removed]",
            "text/plain": [
              "<Figure size 1000x500 with 4 Axes>"
            ]
          },
          "metadata": {},
          "output_type": "display_data"
        }
      ],
      "source": [
        "plot_results('mistral', metrics)"
      ]
    },
    {
      "cell_type": "markdown",
      "id": "6f3cf276",
      "metadata": {
        "id": "6f3cf276",
        "papermill": {
          "duration": 0.123996,
          "end_time": "2025-01-03T22:47:16.388367",
          "exception": false,
          "start_time": "2025-01-03T22:47:16.264371",
          "status": "completed"
        },
        "tags": []
      },
      "source": [
        "After analyzing the performance of each model individually, let's now compare them by focusing on the key metrics."
      ]
    },
    {
      "cell_type": "code",
      "execution_count": null,
      "id": "7130ee35",
      "metadata": {
        "execution": {
          "iopub.execute_input": "2025-01-03T22:47:16.633119Z",
          "iopub.status.busy": "2025-01-03T22:47:16.632377Z",
          "iopub.status.idle": "2025-01-03T22:47:16.639817Z",
          "shell.execute_reply": "2025-01-03T22:47:16.638979Z"
        },
        "id": "7130ee35",
        "papermill": {
          "duration": 0.131755,
          "end_time": "2025-01-03T22:47:16.641352",
          "exception": false,
          "start_time": "2025-01-03T22:47:16.509597",
          "status": "completed"
        },
        "tags": []
      },
      "outputs": [],
      "source": [
        "def show_performances_table(metrics : dict, save_file : bool = False, file_name : str = None) -> None:\n",
        "\n",
        "    \"\"\"\n",
        "    Shows in table format the metrics contained in the metrics_dict and saved them as a tex table whether required\n",
        "\n",
        "    Input\n",
        "    metrics: dictionary containing the metrics to show in table format\n",
        "    save_file: boolean attribute, specify whther the table will be saved in your local environment\n",
        "    file_name: the name of the file to be saved with\n",
        "    \"\"\"\n",
        "\n",
        "    if save_file and file_name is None:\n",
        "        raise ValueError(\"file_name must be specified if save_file is setted to True\")\n",
        "\n",
        "    performances = {'accuracy_score':[], 'fail_ratio':[], 'f1-score':[]}\n",
        "\n",
        "    for key in metrics.keys():\n",
        "      performances['accuracy_score'].append(metrics[key]['accuracy_score'])\n",
        "      performances['fail_ratio'].append(metrics[key]['fail_ratio'])\n",
        "      for k in metrics[key]['cr']['macro avg'].keys():\n",
        "        if k in performances:\n",
        "          performances[k].append(metrics[key]['cr']['weighted avg'][k])\n",
        "\n",
        "    df = pd.DataFrame.from_dict(performances, orient='index', columns=metrics.keys())\n",
        "    df = df.map(lambda x: f\"{x:.3f}\" if isinstance(x, (int, float)) else x)\n",
        "    df = df.T\n",
        "    print(tabulate(df, headers=df.columns, tablefmt=\"fancy_grid\"))\n",
        "\n",
        "    if save_file:\n",
        "      latex_table = tabulate(df, headers=df.columns, tablefmt=\"latex\")\n",
        "      with open(f\"{file_name}.tex\", \"w\") as f:\n",
        "        f.write(latex_table)"
      ]
    },
    {
      "cell_type": "code",
      "execution_count": null,
      "id": "a9fe3b4c",
      "metadata": {
        "execution": {
          "iopub.execute_input": "2025-01-03T22:47:16.927858Z",
          "iopub.status.busy": "2025-01-03T22:47:16.927164Z",
          "iopub.status.idle": "2025-01-03T22:47:16.936000Z",
          "shell.execute_reply": "2025-01-03T22:47:16.935080Z"
        },
        "id": "a9fe3b4c",
        "outputId": "f20affe8-e845-4675-eddc-95c35d7ad0ce",
        "papermill": {
          "duration": 0.133294,
          "end_time": "2025-01-03T22:47:16.937799",
          "exception": false,
          "start_time": "2025-01-03T22:47:16.804505",
          "status": "completed"
        },
        "tags": []
      },
      "outputs": [
        {
          "name": "stdout",
          "output_type": "stream",
          "text": [
            "╒═══════════════════╤══════════════════╤══════════════╤════════════╕\n",
            "│                   │   accuracy_score │   fail_ratio │   f1-score │\n",
            "╞═══════════════════╪══════════════════╪══════════════╪════════════╡\n",
            "│ phi3_zero_shot    │            0.643 │            0 │      0.642 │\n",
            "├───────────────────┼──────────────────┼──────────────┼────────────┤\n",
            "│ phi3_few_shot     │            0.67  │            0 │      0.668 │\n",
            "├───────────────────┼──────────────────┼──────────────┼────────────┤\n",
            "│ mistral_zero_shot │            0.59  │            0 │      0.516 │\n",
            "├───────────────────┼──────────────────┼──────────────┼────────────┤\n",
            "│ mistral_few_shot  │            0.697 │            0 │      0.679 │\n",
            "╘═══════════════════╧══════════════════╧══════════════╧════════════╛\n"
          ]
        }
      ],
      "source": [
        "show_performances_table(metrics, save_file= True, file_name= 'overall_results')"
      ]
    },
    {
      "cell_type": "markdown",
      "id": "084759e4",
      "metadata": {
        "id": "084759e4",
        "papermill": {
          "duration": 0.124201,
          "end_time": "2025-01-03T22:47:17.185413",
          "exception": false,
          "start_time": "2025-01-03T22:47:17.061212",
          "status": "completed"
        },
        "tags": []
      },
      "source": [
        "By presenting the main metrics of the models in a table, we observe that all of them achieve the maximum possible score in fail_ratio, as none of the models produce incorrect answers.\n",
        "\n",
        "Phi3 performs better in the zero-shot setting, but this may be due to the significant imbalance in Mistral's predictions, as previously discussed. However, in the few-shot setting, Mistral shows a significant improvement, surpassing Phi3. This improvement could be attributed to Mistral's larger size, with 7B parameters compared to 3.8B in Phi3. We hypothesize that the higher number of parameters helps Mistral better leverage the provided examples, resulting in improved few-shot performance."
      ]
    },
    {
      "cell_type": "markdown",
      "id": "9e9c4e14",
      "metadata": {
        "id": "9e9c4e14",
        "papermill": {
          "duration": 0.122691,
          "end_time": "2025-01-03T22:47:17.431386",
          "exception": false,
          "start_time": "2025-01-03T22:47:17.308695",
          "status": "completed"
        },
        "tags": []
      },
      "source": [
        "### Further analysis\n",
        "To better understand the factors that lead the model to make errors, we conduct two explorations:\n",
        "- Since we limit the model's token generation to 100 tokens and just one sentence, it is possible that some answers are followed by explanations. Including these explanations could provide a clearer understanding of the errors. We analyse whether such answers exist and identify which of them are misclassified.\n",
        "- We decide to plot all the words that appear more frequently in misclassified sentences. This is done to explore whether certain words are common across the models and whether they carry significant meaning for our task. Stop words are excluded to avoid misleading comparisons."
      ]
    },
    {
      "cell_type": "markdown",
      "id": "548e7829",
      "metadata": {
        "id": "548e7829",
        "papermill": {
          "duration": 0.123643,
          "end_time": "2025-01-03T22:47:17.676558",
          "exception": false,
          "start_time": "2025-01-03T22:47:17.552915",
          "status": "completed"
        },
        "tags": []
      },
      "source": [
        "### Wrong answers Exploration\n",
        "We decide to explore all those misclassified sentences whose answer is followed by an explanation.\n",
        "\n",
        "The output is structured in the following way:\n",
        "\n",
        "- first line: the sentence misclassified\n",
        "- second line: the ground truth label\n",
        "- third line: the answer of the model"
      ]
    },
    {
      "cell_type": "code",
      "execution_count": null,
      "id": "e986744a",
      "metadata": {
        "execution": {
          "iopub.execute_input": "2025-01-03T22:47:17.924397Z",
          "iopub.status.busy": "2025-01-03T22:47:17.923753Z",
          "iopub.status.idle": "2025-01-03T22:47:17.930582Z",
          "shell.execute_reply": "2025-01-03T22:47:17.929768Z"
        },
        "id": "e986744a",
        "papermill": {
          "duration": 0.131962,
          "end_time": "2025-01-03T22:47:17.932373",
          "exception": false,
          "start_time": "2025-01-03T22:47:17.800411",
          "status": "completed"
        },
        "tags": []
      },
      "outputs": [],
      "source": [
        "def display_sentence_explained(\n",
        "                    predictions_df : pd.DataFrame,\n",
        "                    model_name: str) -> None:\n",
        "    \"\"\"\n",
        "      Displays misclassified sentences with explanations.\n",
        "\n",
        "    Input:\n",
        "    predictions_df: a DataFrame containing the sentences, predictions and labels. (pd.DataFrame)\n",
        "    model_name: name of the model for the plot title (str)\n",
        "    \"\"\"\n",
        "\n",
        "    def map_response(value):\n",
        "        if value.startswith('YES'):\n",
        "            return 1\n",
        "        elif value.startswith('NO'):\n",
        "            return 0\n",
        "\n",
        "    predictions_df[f'{model_name}_mapped'] = predictions_df[model_name].apply(map_response)\n",
        "    predictions_df = predictions_df[~predictions_df[model_name].isin(['YES', 'NO'])]\n",
        "    predictions_df = predictions_df[predictions_df['label_sexist'] != predictions_df[f'{model_name}_mapped']].reset_index(drop=True)\n",
        "    if len(predictions_df) == 0:\n",
        "      print('No answer with explanation given')\n",
        "    for rows in predictions_df.iterrows():\n",
        "        true_label = 'YES' if rows[1][\"label_sexist\"] == 1 else 'NO'\n",
        "        print(f'{rows[1][\"text\"]} \\nground truth: {true_label} \\nmodel pred: {rows[1][model_name]}')\n",
        "        print('='*80)"
      ]
    },
    {
      "cell_type": "markdown",
      "id": "cccaa2d9",
      "metadata": {
        "id": "cccaa2d9",
        "papermill": {
          "duration": 0.122571,
          "end_time": "2025-01-03T22:47:18.180289",
          "exception": false,
          "start_time": "2025-01-03T22:47:18.057718",
          "status": "completed"
        },
        "tags": []
      },
      "source": [
        "### Phi3\n",
        "As we can see below, Phi3 model never gives an answer followed by an explanation, no analysis can be performed."
      ]
    },
    {
      "cell_type": "code",
      "execution_count": null,
      "id": "ca545b81",
      "metadata": {
        "execution": {
          "iopub.execute_input": "2025-01-03T22:47:18.464763Z",
          "iopub.status.busy": "2025-01-03T22:47:18.464007Z",
          "iopub.status.idle": "2025-01-03T22:47:18.475626Z",
          "shell.execute_reply": "2025-01-03T22:47:18.474680Z"
        },
        "id": "ca545b81",
        "outputId": "5da2fbfe-c202-4e88-ae66-f921f2189c90",
        "papermill": {
          "duration": 0.137717,
          "end_time": "2025-01-03T22:47:18.477213",
          "exception": false,
          "start_time": "2025-01-03T22:47:18.339496",
          "status": "completed"
        },
        "tags": []
      },
      "outputs": [
        {
          "name": "stdout",
          "output_type": "stream",
          "text": [
            "No answer with explanation given\n"
          ]
        }
      ],
      "source": [
        "display_sentence_explained(responses_df.copy(), model_name= 'phi3_zero_shot')"
      ]
    },
    {
      "cell_type": "code",
      "execution_count": null,
      "id": "be0b0c50",
      "metadata": {
        "execution": {
          "iopub.execute_input": "2025-01-03T22:47:18.727459Z",
          "iopub.status.busy": "2025-01-03T22:47:18.726655Z",
          "iopub.status.idle": "2025-01-03T22:47:18.734502Z",
          "shell.execute_reply": "2025-01-03T22:47:18.733688Z"
        },
        "id": "be0b0c50",
        "outputId": "8579a4a9-00c6-4f87-a691-ffda09a18741",
        "papermill": {
          "duration": 0.135914,
          "end_time": "2025-01-03T22:47:18.736008",
          "exception": false,
          "start_time": "2025-01-03T22:47:18.600094",
          "status": "completed"
        },
        "tags": []
      },
      "outputs": [
        {
          "name": "stdout",
          "output_type": "stream",
          "text": [
            "No answer with explanation given\n"
          ]
        }
      ],
      "source": [
        "display_sentence_explained(responses_df.copy(), model_name= 'phi3_few_shot')"
      ]
    },
    {
      "cell_type": "markdown",
      "id": "1ef5610e",
      "metadata": {
        "id": "1ef5610e",
        "papermill": {
          "duration": 0.122947,
          "end_time": "2025-01-03T22:47:18.980500",
          "exception": false,
          "start_time": "2025-01-03T22:47:18.857553",
          "status": "completed"
        },
        "tags": []
      },
      "source": [
        "### Mistral"
      ]
    },
    {
      "cell_type": "markdown",
      "id": "86117b02",
      "metadata": {
        "id": "86117b02",
        "papermill": {
          "duration": 0.123257,
          "end_time": "2025-01-03T22:47:19.226928",
          "exception": false,
          "start_time": "2025-01-03T22:47:19.103671",
          "status": "completed"
        },
        "tags": []
      },
      "source": [
        "Looking at the answers given by Mistral, and the queried sentences, we notice that all the sentences are quite difficult to understand even for a human. Indeed, the explanation given is not completly wrong, but it seems like the model is not able to catch up the undertone meaning of the sentences."
      ]
    },
    {
      "cell_type": "code",
      "execution_count": null,
      "id": "317b8c1e",
      "metadata": {
        "execution": {
          "iopub.execute_input": "2025-01-03T22:47:19.474719Z",
          "iopub.status.busy": "2025-01-03T22:47:19.474112Z",
          "iopub.status.idle": "2025-01-03T22:47:19.481787Z",
          "shell.execute_reply": "2025-01-03T22:47:19.480979Z"
        },
        "id": "317b8c1e",
        "outputId": "69b8e68e-5f93-462e-fa74-20e8cf0885f5",
        "papermill": {
          "duration": 0.132971,
          "end_time": "2025-01-03T22:47:19.483298",
          "exception": false,
          "start_time": "2025-01-03T22:47:19.350327",
          "status": "completed"
        },
        "tags": []
      },
      "outputs": [
        {
          "name": "stdout",
          "output_type": "stream",
          "text": [
            "Tell that to Weev you lying shitskin son of a bitch. \n",
            "ground truth: YES \n",
            "model pred: NO (The text does not contain sexism. It is an insulting and offensive language, but it does not specifically target a person based on their gender.)\n",
            "================================================================================\n"
          ]
        }
      ],
      "source": [
        "display_sentence_explained(responses_df.copy(), model_name= 'mistral_zero_shot')"
      ]
    },
    {
      "cell_type": "code",
      "execution_count": null,
      "id": "74d640d5",
      "metadata": {
        "execution": {
          "iopub.execute_input": "2025-01-03T22:47:19.733049Z",
          "iopub.status.busy": "2025-01-03T22:47:19.732163Z",
          "iopub.status.idle": "2025-01-03T22:47:19.741127Z",
          "shell.execute_reply": "2025-01-03T22:47:19.740113Z"
        },
        "id": "74d640d5",
        "outputId": "cbfb7479-c470-488a-f3d9-ec385b5ef667",
        "papermill": {
          "duration": 0.136673,
          "end_time": "2025-01-03T22:47:19.742835",
          "exception": false,
          "start_time": "2025-01-03T22:47:19.606162",
          "status": "completed"
        },
        "tags": []
      },
      "outputs": [
        {
          "name": "stdout",
          "output_type": "stream",
          "text": [
            "Good - the grid girls can finally get back into F1 \n",
            "ground truth: NO \n",
            "model pred: YES (This statement objectifies women and reduces them to their physical appearance, which is a form of sexism.)\n",
            "================================================================================\n",
            "The new Europeans are into all kinds of sex.... \n",
            "ground truth: NO \n",
            "model pred: YES (This statement seems to stereotype a group of people based on their nationality, which could be considered as a form of ethnic prejudice, not necessarily sexism, but it's important to note that ethnic prejudice can intersect with sexism.)\n",
            "================================================================================\n",
            "This is about false rape charges and how wives use the laws to torture and get money from the brides family.....highly recommend to watch full video ....its mind blowing \n",
            "ground truth: NO \n",
            "model pred: YES (The text seems to stereotype all wives, implying that they are prone to false rape charges and using the law to torture and extort money, which is a generalization and potentially harmful towards women.)\n",
            "================================================================================\n",
            "My state? I'm not Jewish. They literally won't stop until they destroy Israel and kill every Jewish person. Have you even read the Qur'an? It was created to give them a sanctuary if Nazi Germany type countries ever rose up again. \n",
            "ground truth: NO \n",
            "model pred: YES (The text contains a stereotype and generalization about a religious group, which can be considered as a form of prejudice, not necessarily sexism.)\n",
            "================================================================================\n",
            "[URL] Obviously written by an incel \n",
            "ground truth: NO \n",
            "model pred: YES (Assuming the URL leads to a text that contains sexist content)\n",
            "================================================================================\n",
            "Damn...this pisses me off to no end! These mother fuckers need to start gracing the halls of maximum security federal facilities! \n",
            "ground truth: NO \n",
            "model pred: YES (The text uses derogatory language and shows a generalized anger towards an unspecified group, which could be interpreted as a form of prejudice or discrimination, although not explicitly sexist.)\n",
            "================================================================================\n",
            "Karma's a bitch! \n",
            "ground truth: YES \n",
            "model pred: NO (The text does not contain sexism as it is a common idiomatic expression and does not target a specific gender.)\n",
            "================================================================================\n",
            "..oh Obama, dont even start with this kenyan hominid. I always pondered..His mother is a jew, he claims to be muslim....and fagg? yet jews claimed him as his own...oh about faggs...Obama put in risk lots of people with his \"Laws\" and \"freedom\". \n",
            "ground truth: NO \n",
            "model pred: YES (The text contains derogatory language towards multiple groups, including a racial slur and homophobic slur, which can be considered as hate speech.)\n",
            "================================================================================\n",
            "Full on crotch grab from Biden. Even the baby's mom isn't holding him that way. \n",
            "ground truth: NO \n",
            "model pred: YES (This statement implies a disrespectful and objectifying comment towards the woman, which can be considered sexist.)\n",
            "================================================================================\n",
            "I would love to suck her tits \n",
            "ground truth: NO \n",
            "model pred: YES (This statement objectifies a woman and is disrespectful, therefore it is sexist.)\n",
            "================================================================================\n",
            "I hate her. \n",
            "ground truth: NO \n",
            "model pred: YES (The text does not specify the gender of the person being hated, but the use of the generic \"her\" could be interpreted as sexist if it's used in a derogatory or disrespectful manner without a clear context)\n",
            "================================================================================\n",
            "Rrrrrr im going to fuck u in the ass for this \n",
            "ground truth: NO \n",
            "model pred: YES (This text contains sexist and violent language)\n",
            "================================================================================\n",
            "I try to act confident but girls dont even look at me \n",
            "ground truth: NO \n",
            "model pred: YES (This statement implies a generalization about all girls, which can be considered sexist.)\n",
            "================================================================================\n"
          ]
        }
      ],
      "source": [
        "display_sentence_explained(responses_df.copy(), model_name= 'mistral_few_shot')"
      ]
    },
    {
      "cell_type": "markdown",
      "id": "3fc0c2fa",
      "metadata": {
        "id": "3fc0c2fa",
        "papermill": {
          "duration": 0.123931,
          "end_time": "2025-01-03T22:47:19.999686",
          "exception": false,
          "start_time": "2025-01-03T22:47:19.875755",
          "status": "completed"
        },
        "tags": []
      },
      "source": [
        "## Word exploration"
      ]
    },
    {
      "cell_type": "markdown",
      "id": "c96f6dcc",
      "metadata": {
        "id": "c96f6dcc",
        "papermill": {
          "duration": 0.123331,
          "end_time": "2025-01-03T22:47:20.286103",
          "exception": false,
          "start_time": "2025-01-03T22:47:20.162772",
          "status": "completed"
        },
        "tags": []
      },
      "source": [
        "Let's explore whether any error patterns correlated with specific words emerge from the analysis."
      ]
    },
    {
      "cell_type": "code",
      "execution_count": null,
      "id": "590daf82",
      "metadata": {
        "execution": {
          "iopub.execute_input": "2025-01-03T22:47:20.535055Z",
          "iopub.status.busy": "2025-01-03T22:47:20.534323Z",
          "iopub.status.idle": "2025-01-03T22:47:20.544366Z",
          "shell.execute_reply": "2025-01-03T22:47:20.543551Z"
        },
        "id": "590daf82",
        "papermill": {
          "duration": 0.136501,
          "end_time": "2025-01-03T22:47:20.546037",
          "exception": false,
          "start_time": "2025-01-03T22:47:20.409536",
          "status": "completed"
        },
        "tags": []
      },
      "outputs": [],
      "source": [
        "def plot_wrong_word(predictions_df: pd.DataFrame,\n",
        "                    model_name: str,\n",
        "                    top_wrongest: int = 20) -> None:\n",
        "\n",
        "    \"\"\"\n",
        "    Shows the most frequent words in wrong classified sentences.\n",
        "\n",
        "    Input:\n",
        "    predictions_df: a DataFrame containing the sentences, predictions and labels. (pd.DataFrame)\n",
        "    model_name: name of the model for the plot title (str)\n",
        "    top_wrongest: number of words to show (int)\n",
        "    \"\"\"\n",
        "\n",
        "    def find_wrongest(df: pd.DataFrame, label: int, ax: matplotlib.axes.Axes) -> None:\n",
        "        df = df[df[\"label_sexist\"] == label]\n",
        "        all_words = Counter(\n",
        "            word for row in df[\"text\"] for word in row.split() if word not in stop_words\n",
        "        )\n",
        "        df_wrong = df[df['label_sexist'] != df[model_name]]\n",
        "        wrongest_words = Counter(\n",
        "            word for row in df_wrong[\"text\"] for word in row.split() if word not in stop_words\n",
        "        )\n",
        "\n",
        "        wr_words, wr_counts = zip(*wrongest_words.most_common(top_wrongest)[:0:-1])\n",
        "        ax.barh(wr_words, wr_counts, color=\"skyblue\", label='Wrong Sentences')\n",
        "        counts = [all_words[word] for word in wr_words]\n",
        "        ax.barh(wr_words, counts, color=\"skyblue\",alpha=0.4, label='All Sentences')\n",
        "        ax.set_title(f\"Wrongest words in label {label}\")\n",
        "        ax.xaxis.set_major_locator(MaxNLocator(integer=True))\n",
        "        ax.legend()\n",
        "\n",
        "    def map_response(value):\n",
        "        if value.startswith('YES'):\n",
        "            return 1\n",
        "        elif value.startswith('NO'):\n",
        "            return 0\n",
        "\n",
        "    predictions_df[f'{model_name}'] = predictions_df[model_name].apply(map_response)\n",
        "    stop_words = list(stopwords.words(\"english\"))\n",
        "\n",
        "    fig, axs = plt.subplots(1,2, figsize=(10,5))\n",
        "    fig.suptitle(f'{model_name} charts', weight=\"bold\")\n",
        "    find_wrongest(predictions_df, 0, axs[0])\n",
        "    find_wrongest(predictions_df, 1, axs[1])\n",
        "    plt.tight_layout()\n",
        "    plt.show()"
      ]
    },
    {
      "cell_type": "markdown",
      "id": "7f1149d0",
      "metadata": {
        "id": "7f1149d0",
        "papermill": {
          "duration": 0.122369,
          "end_time": "2025-01-03T22:47:21.052042",
          "exception": false,
          "start_time": "2025-01-03T22:47:20.929673",
          "status": "completed"
        },
        "tags": []
      },
      "source": [
        "### Phi3"
      ]
    },
    {
      "cell_type": "markdown",
      "id": "b511afb3",
      "metadata": {
        "id": "b511afb3",
        "papermill": {
          "duration": 0.12347,
          "end_time": "2025-01-03T22:47:21.299624",
          "exception": false,
          "start_time": "2025-01-03T22:47:21.176154",
          "status": "completed"
        },
        "tags": []
      },
      "source": [
        "In the zero-shot setting, the model appears to show a possible bias towards associating terms like \"**women**\" and \"**woman**\" with errors in label 0 (non-sexist)."
      ]
    },
    {
      "cell_type": "code",
      "execution_count": null,
      "id": "7dbf4778",
      "metadata": {
        "execution": {
          "iopub.execute_input": "2025-01-03T22:47:21.547222Z",
          "iopub.status.busy": "2025-01-03T22:47:21.546879Z",
          "iopub.status.idle": "2025-01-03T22:47:22.268570Z",
          "shell.execute_reply": "2025-01-03T22:47:22.267684Z"
        },
        "id": "7dbf4778",
        "outputId": "07295a38-5bfa-4c2b-dc4e-b2bc7d966db4",
        "papermill": {
          "duration": 0.847766,
          "end_time": "2025-01-03T22:47:22.270330",
          "exception": false,
          "start_time": "2025-01-03T22:47:21.422564",
          "status": "completed"
        },
        "tags": []
      },
      "outputs": [
        {
          "data": {
            "image/png": "[encoded data removed]",
            "text/plain": [
              "<Figure size 1000x500 with 2 Axes>"
            ]
          },
          "metadata": {},
          "output_type": "display_data"
        }
      ],
      "source": [
        "plot_wrong_word(responses_df.copy(), model_name= 'phi3_zero_shot')"
      ]
    },
    {
      "cell_type": "markdown",
      "id": "27959256",
      "metadata": {
        "id": "27959256",
        "papermill": {
          "duration": 0.130305,
          "end_time": "2025-01-03T22:47:22.564417",
          "exception": false,
          "start_time": "2025-01-03T22:47:22.434112",
          "status": "completed"
        },
        "tags": []
      },
      "source": [
        "In the few-shot setting certain patterns seem to persist, particularly for label 0 errors. This could indicate that the examples provided during few-shot prompting, although helpful, may not fully address the model's tendency to misclassify based on specific terms."
      ]
    },
    {
      "cell_type": "code",
      "execution_count": null,
      "id": "64a9d787",
      "metadata": {
        "execution": {
          "iopub.execute_input": "2025-01-03T22:47:22.815468Z",
          "iopub.status.busy": "2025-01-03T22:47:22.814672Z",
          "iopub.status.idle": "2025-01-03T22:47:23.537081Z",
          "shell.execute_reply": "2025-01-03T22:47:23.535889Z"
        },
        "id": "64a9d787",
        "outputId": "c62ff371-bb10-402b-e266-0b0a71d377ef",
        "papermill": {
          "duration": 0.851505,
          "end_time": "2025-01-03T22:47:23.539318",
          "exception": false,
          "start_time": "2025-01-03T22:47:22.687813",
          "status": "completed"
        },
        "tags": []
      },
      "outputs": [
        {
          "data": {
            "image/png": "[encoded data removed]",
            "text/plain": [
              "<Figure size 1000x500 with 2 Axes>"
            ]
          },
          "metadata": {},
          "output_type": "display_data"
        }
      ],
      "source": [
        "plot_wrong_word(responses_df.copy(), model_name= 'phi3_few_shot')"
      ]
    },
    {
      "cell_type": "markdown",
      "id": "29bd6c2d",
      "metadata": {
        "id": "29bd6c2d",
        "papermill": {
          "duration": 0.127579,
          "end_time": "2025-01-03T22:47:23.802711",
          "exception": false,
          "start_time": "2025-01-03T22:47:23.675132",
          "status": "completed"
        },
        "tags": []
      },
      "source": [
        "### Mistral"
      ]
    },
    {
      "cell_type": "markdown",
      "id": "bd9e0ec8",
      "metadata": {
        "id": "bd9e0ec8",
        "papermill": {
          "duration": 0.125781,
          "end_time": "2025-01-03T22:47:24.051697",
          "exception": false,
          "start_time": "2025-01-03T22:47:23.925916",
          "status": "completed"
        },
        "tags": []
      },
      "source": [
        "From Mistral zero shot word exploration we can see:\n",
        "- In label 0 all the **woman-related** occurrences (women, girls, woman, female) have almost a 100% wrong ratio. But, remembering the confusion matrix above, this result is not so meaningful, since almost all the sentences are wrongly classified. We can hypotesise that almost all the words have a 100% wrong ratio.\n",
        "- In label 1, the number of misclassified sentences is very low (only 3), which makes it difficult to draw meaningful conclusions or identify clear patterns for this category."
      ]
    },
    {
      "cell_type": "code",
      "execution_count": null,
      "id": "264462e0",
      "metadata": {
        "execution": {
          "iopub.execute_input": "2025-01-03T22:47:24.304556Z",
          "iopub.status.busy": "2025-01-03T22:47:24.304234Z",
          "iopub.status.idle": "2025-01-03T22:47:24.875070Z",
          "shell.execute_reply": "2025-01-03T22:47:24.874165Z"
        },
        "id": "264462e0",
        "outputId": "7abf1e05-ece6-4ff9-f041-4c7c96258c67",
        "papermill": {
          "duration": 0.699522,
          "end_time": "2025-01-03T22:47:24.876707",
          "exception": false,
          "start_time": "2025-01-03T22:47:24.177185",
          "status": "completed"
        },
        "tags": []
      },
      "outputs": [
        {
          "data": {
            "image/png": "[encoded data removed]",
            "text/plain": [
              "<Figure size 1000x500 with 2 Axes>"
            ]
          },
          "metadata": {},
          "output_type": "display_data"
        }
      ],
      "source": [
        "plot_wrong_word(responses_df.copy(), model_name= 'mistral_zero_shot')"
      ]
    },
    {
      "cell_type": "markdown",
      "id": "4db1a8f8",
      "metadata": {
        "id": "4db1a8f8",
        "papermill": {
          "duration": 0.125238,
          "end_time": "2025-01-03T22:47:25.130443",
          "exception": false,
          "start_time": "2025-01-03T22:47:25.005205",
          "status": "completed"
        },
        "tags": []
      },
      "source": [
        "From Mistral few shot word exploration we can see:\n",
        "- in label 0 the words that are most frequently misclassified include the woman-related ones (women, woman, girls, female). This could highlight some biases in the model that almost always associate a woman-related word to sexism. The presence of terms like \"**fat**\" and \"**white**\" also raises questions about the potential biases in the model, as these terms could be linked to specific stereotypes or contexts the model misinterprets.\n",
        "- in label 1 the diversity of terms could suggest a broader range of possible contexts or tasks where the model struggles, but thinking about the confusion matrix this could be probably related to the low number of errors (10)."
      ]
    },
    {
      "cell_type": "code",
      "execution_count": null,
      "id": "d4e71c72",
      "metadata": {
        "execution": {
          "iopub.execute_input": "2025-01-03T22:47:25.423629Z",
          "iopub.status.busy": "2025-01-03T22:47:25.423310Z",
          "iopub.status.idle": "2025-01-03T22:47:25.993837Z",
          "shell.execute_reply": "2025-01-03T22:47:25.992951Z"
        },
        "id": "d4e71c72",
        "outputId": "8e0d5af3-bb47-459f-b025-935d87e7fd52",
        "papermill": {
          "duration": 0.69994,
          "end_time": "2025-01-03T22:47:25.995442",
          "exception": false,
          "start_time": "2025-01-03T22:47:25.295502",
          "status": "completed"
        },
        "tags": []
      },
      "outputs": [
        {
          "data": {
            "image/png": "[encoded data removed]",
            "text/plain": [
              "<Figure size 1000x500 with 2 Axes>"
            ]
          },
          "metadata": {},
          "output_type": "display_data"
        }
      ],
      "source": [
        "plot_wrong_word(responses_df.copy(), model_name= 'mistral_few_shot')"
      ]
    },
    {
      "cell_type": "markdown",
      "id": "6ae92d42",
      "metadata": {
        "id": "6ae92d42",
        "papermill": {
          "duration": 0.127731,
          "end_time": "2025-01-03T22:47:26.252268",
          "exception": false,
          "start_time": "2025-01-03T22:47:26.124537",
          "status": "completed"
        },
        "tags": []
      },
      "source": [
        "## Few Shot Experiments"
      ]
    },
    {
      "cell_type": "markdown",
      "id": "2aa53efd",
      "metadata": {
        "id": "2aa53efd",
        "papermill": {
          "duration": 0.128208,
          "end_time": "2025-01-03T22:47:26.509482",
          "exception": false,
          "start_time": "2025-01-03T22:47:26.381274",
          "status": "completed"
        },
        "tags": []
      },
      "source": [
        "We would like to analyse how much the predictions of the models, and consequently their performances, were correlated with the examples injected through the model prompt."
      ]
    },
    {
      "cell_type": "code",
      "execution_count": null,
      "id": "f6e545d9",
      "metadata": {
        "execution": {
          "iopub.execute_input": "2025-01-03T22:47:26.768455Z",
          "iopub.status.busy": "2025-01-03T22:47:26.767729Z",
          "iopub.status.idle": "2025-01-03T22:47:26.781631Z",
          "shell.execute_reply": "2025-01-03T22:47:26.780852Z"
        },
        "id": "f6e545d9",
        "papermill": {
          "duration": 0.145667,
          "end_time": "2025-01-03T22:47:26.783213",
          "exception": false,
          "start_time": "2025-01-03T22:47:26.637546",
          "status": "completed"
        },
        "tags": []
      },
      "outputs": [],
      "source": [
        "def plot_variability(mode : str, demonstration_list : list = [], num_per_class : list = [], to_save : bool = True ) -> None:\n",
        "\n",
        "    \"\"\"\n",
        "    Computes the metrics with different examples per classes.\n",
        "\n",
        "    Input:\n",
        "    mode: whether we are computing the quality or quantity variability\n",
        "    demonstration_list: the list containting the demonstrations to be used\n",
        "    num_per_class: a list containing the number of elements per class to use in the few shot prompting, to use whether demonstration_list is empty\n",
        "    to_save: boolean attribute, specify whther the table will be saved in your local environment\n",
        "    \"\"\"\n",
        "    if demonstration_list == [] and num_per_class == []:\n",
        "      assert ValueError('At least one between demonstration_list and num_per_class should be not default')\n",
        "\n",
        "    n_experiments = len(demonstration_list) if demonstration_list != [] else len(num_per_class)\n",
        "\n",
        "    def compute_metric_list(model, tokenizer, ax, model_name):\n",
        "\n",
        "        metric_list = {'fail_ratio' : [], 'accuracy' : [], 'examples' : []}\n",
        "\n",
        "        for n_example in tqdm(range(n_experiments), desc=\"Generating responses\"):\n",
        "\n",
        "            with capture_output():\n",
        "                if demonstration_list != []:\n",
        "                  data_loader = prepare_prompts_few_shot(test_data, prompt_template= few_shot_prompt,\n",
        "                                                         tokenizer= tokenizer, demonstration_samples= demonstration_list[n_example])\n",
        "                  metric_list['examples'].append(demonstration_list[n_example])\n",
        "                else:\n",
        "                  data_loader = prepare_prompts_few_shot(test_data, prompt_template= few_shot_prompt,\n",
        "                                                         tokenizer= tokenizer, num_per_class = num_per_class[n_example])\n",
        "                y_pred = generate_responses(model, data_loader)\n",
        "\n",
        "            response = tokenizer.batch_decode(y_pred, skip_special_tokens=True)\n",
        "            raw_response = np.array([extract_response(item) for item in response])\n",
        "\n",
        "            metrics = compute_metrics(raw_response, ground_truth)\n",
        "            metric_list['accuracy'].append(metrics[\"accuracy_score\"])\n",
        "            metric_list['fail_ratio'].append(metrics[\"fail_ratio\"])\n",
        "\n",
        "\n",
        "            #json files checkpoints\n",
        "            if to_save:\n",
        "              if model == model_1:\n",
        "                  if mode == 'quality':\n",
        "                      with open(f\"metric_list_quality_phi_{n_example}.json\", \"w\") as json_file:\n",
        "                          json.dump(metric_list, json_file, indent=4)\n",
        "                  else:\n",
        "                      with open(f\"metric_list_quantity_phi_{n_example}.json\", \"w\") as json_file:\n",
        "                          json.dump(metric_list, json_file, indent=4)\n",
        "              else:\n",
        "                  if mode == 'quality':\n",
        "                      with open(f\"metric_list_quality_mistral_{n_example}.json\", \"w\") as json_file:\n",
        "                          json.dump(metric_list, json_file, indent=4)\n",
        "                  else:\n",
        "                      with open(f\"metric_list_quantity_mistral_{n_example}.json\", \"w\") as json_file:\n",
        "                          json.dump(metric_list, json_file, indent=4)\n",
        "\n",
        "\n",
        "        bars = ax.bar(range(1, n_experiments+1), metric_list['accuracy'])\n",
        "        x = np.arange(1, len(metric_list['accuracy']) + 1)\n",
        "        for bar in bars:\n",
        "            yval = bar.get_height()\n",
        "            ax.text(bar.get_x() + bar.get_width()/2, yval, f'{yval:.2f}', ha='center', va='bottom')\n",
        "        if mode == 'quality':\n",
        "            ax.set_xticks([])\n",
        "            ax.set_xlabel('Experiments')\n",
        "        else:\n",
        "            ax.set_xticks(np.arange(1, n_experiments+1, 1))\n",
        "            ax.set_xlabel('Number of examples')\n",
        "        ax.set_yticks(np.arange(0, 1.1, 0.1))\n",
        "        ax.set_ylabel('Accuracy score')\n",
        "        ax.set_title(f'{model_name}')\n",
        "\n",
        "    fig, axs = plt.subplots(1, 2, figsize= (12, 5))\n",
        "\n",
        "    if mode == 'quality':\n",
        "        plt.suptitle(f'Accuracy variability choosing 2 different examples per class')\n",
        "    else:\n",
        "        plt.suptitle(f'Accuracy variability increasing the number of examples per class')\n",
        "\n",
        "    compute_metric_list(model_1, tokenizer_1, axs[0], 'Phi3')\n",
        "    compute_metric_list(model_2, tokenizer_2, axs[1], 'Mistral')\n",
        "\n",
        "    plt.show()"
      ]
    },
    {
      "cell_type": "markdown",
      "id": "3ddd8c1f",
      "metadata": {
        "id": "3ddd8c1f",
        "papermill": {
          "duration": 0.125498,
          "end_time": "2025-01-03T22:47:27.034964",
          "exception": false,
          "start_time": "2025-01-03T22:47:26.909466",
          "status": "completed"
        },
        "tags": []
      },
      "source": [
        "### Qualitative Analysis"
      ]
    },
    {
      "cell_type": "markdown",
      "id": "53adaeb8",
      "metadata": {
        "id": "53adaeb8",
        "papermill": {
          "duration": 0.125885,
          "end_time": "2025-01-03T22:47:27.287705",
          "exception": false,
          "start_time": "2025-01-03T22:47:27.161820",
          "status": "completed"
        },
        "tags": []
      },
      "source": [
        "The first analysis investigates how the model's performance is influenced by the examples provided in the few-shot setup. In this experiment, the model generates predictions ten times, using a different set of examples in the prompt for each run. In each case, two examples per class are randomly selected and remain consistent throughout that specific run. This approach allows us to observe how the choice of examples impacts the model's output.\n",
        "\n",
        "From the plot below, we can observe that for both models, their performance fluctuates significantly depending on the examples given as input. This suggests that the choice of few-shot examples can heavily influence the model's predictions, highlighting the sensitivity of the few-shot approach to input selection.\n",
        "\n",
        "Such variability underscores the importance of carefully curating examples for few-shot learning tasks to ensure robust and consistent performance."
      ]
    },
    {
      "cell_type": "code",
      "execution_count": null,
      "id": "03b0fc10",
      "metadata": {
        "execution": {
          "iopub.execute_input": "2025-01-03T22:47:27.546453Z",
          "iopub.status.busy": "2025-01-03T22:47:27.545529Z",
          "iopub.status.idle": "2025-01-04T00:33:45.706659Z",
          "shell.execute_reply": "2025-01-04T00:33:45.705663Z"
        },
        "id": "03b0fc10",
        "outputId": "5a20b3a3-9e22-4c9f-8293-ad7dd940ad60",
        "papermill": {
          "duration": 6378.292201,
          "end_time": "2025-01-04T00:33:45.708652",
          "exception": false,
          "start_time": "2025-01-03T22:47:27.416451",
          "status": "completed"
        },
        "tags": []
      },
      "outputs": [
        {
          "name": "stderr",
          "output_type": "stream",
          "text": [
            "Generating responses: 100%|██████████| 10/10 [34:03<00:00, 204.31s/it]\n",
            "Generating responses: 100%|██████████| 10/10 [1:12:14<00:00, 433.48s/it]\n"
          ]
        },
        {
          "data": {
            "image/png": "[encoded data removed]",
            "text/plain": [
              "<Figure size 1200x500 with 2 Axes>"
            ]
          },
          "metadata": {},
          "output_type": "display_data"
        }
      ],
      "source": [
        "n_experiments = 10\n",
        "demonstration_quality_var = [build_few_shot_demonstrations(demonstrations, num_per_class= 2) for idx in range(n_experiments)]\n",
        "\n",
        "plot_variability(mode= 'quality', demonstration_list= demonstration_quality_var)"
      ]
    },
    {
      "cell_type": "markdown",
      "id": "48b4d091",
      "metadata": {
        "id": "48b4d091",
        "papermill": {
          "duration": 0.13667,
          "end_time": "2025-01-04T00:33:45.975578",
          "exception": false,
          "start_time": "2025-01-04T00:33:45.838908",
          "status": "completed"
        },
        "tags": []
      },
      "source": [
        "To address this issue, we decide to modify the examples provided in each prompt by randomly selecting them during each run. This approach ensures that within a single run, each of the 300 prompts contains a different set of examples, resulting in a total of 1,200 unique examples sampled from the demonstration dataset. By introducing this variability, we aim to reduce the model's sensitivity to specific fixed examples.\n",
        "We conduct 10 separate experiments to maintain consistency with the previous analysis. This experimental setup allows us to make more robust comparisons and avoid drawing false conclusions based on isolated runs.\n",
        "\n",
        "From the plots below, it is evident that, although some degree of variability in performance persists, the fluctuations are significantly reduced compared to when using a fixed set of examples across all prompts. This indicates that varying the examples contributes to a more stable model performance and reduces its sensitivity to specific demonstrations.\n",
        "\n",
        "Furthermore, it is important to note that none of the trials achieve peak performance. This observation suggests that the choice of examples is central in few-shot prompting, as the examples directly influence the model's ability to generalize and adapt to the task. To achieve the best possible results, examples should be carefully selected.\n",
        "\n",
        "Based on these findings, we decide to consistently adopt the strategy of varying the examples in subsequent experiments."
      ]
    },
    {
      "cell_type": "code",
      "execution_count": null,
      "id": "f5929d8e",
      "metadata": {
        "execution": {
          "iopub.execute_input": "2025-01-04T00:33:46.247390Z",
          "iopub.status.busy": "2025-01-04T00:33:46.246780Z",
          "iopub.status.idle": "2025-01-04T02:21:24.093310Z",
          "shell.execute_reply": "2025-01-04T02:21:24.092387Z"
        },
        "id": "f5929d8e",
        "outputId": "f84c1cf5-b235-4656-e67f-210fc459b47b",
        "papermill": {
          "duration": 6457.981553,
          "end_time": "2025-01-04T02:21:24.095099",
          "exception": false,
          "start_time": "2025-01-04T00:33:46.113546",
          "status": "completed"
        },
        "tags": []
      },
      "outputs": [
        {
          "name": "stderr",
          "output_type": "stream",
          "text": [
            "Generating responses: 100%|██████████| 10/10 [34:57<00:00, 209.75s/it]\n",
            "Generating responses: 100%|██████████| 10/10 [1:12:39<00:00, 436.00s/it]\n"
          ]
        },
        {
          "data": {
            "image/png": "[encoded data removed]",
            "text/plain": [
              "<Figure size 1200x500 with 2 Axes>"
            ]
          },
          "metadata": {},
          "output_type": "display_data"
        }
      ],
      "source": [
        "n_experiments= 10\n",
        "\n",
        "plot_variability(mode= 'quality', num_per_class= [2]*n_experiments, to_save = False)"
      ]
    },
    {
      "cell_type": "markdown",
      "id": "df5a6278",
      "metadata": {
        "id": "df5a6278",
        "papermill": {
          "duration": 0.169559,
          "end_time": "2025-01-04T02:21:24.395647",
          "exception": false,
          "start_time": "2025-01-04T02:21:24.226088",
          "status": "completed"
        },
        "tags": []
      },
      "source": [
        "### Quantitative Analysis"
      ]
    },
    {
      "cell_type": "markdown",
      "id": "b7cd572c",
      "metadata": {
        "id": "b7cd572c",
        "papermill": {
          "duration": 0.131611,
          "end_time": "2025-01-04T02:21:24.656736",
          "exception": false,
          "start_time": "2025-01-04T02:21:24.525125",
          "status": "completed"
        },
        "tags": []
      },
      "source": [
        "We also conducted experiments to investigate the impact of varying the number of examples per class on model performance. By testing a range spanning from 1 to 5 examples per class, we observed that there was no clear correlation between the number of examples and the overall accuracy. Interestingly, the results suggest that using two or three examples per class tends to yield the most stable and optimal performance.\n",
        "\n",
        "This finding indicates that beyond a certain point, increasing the number of examples may not significantly enhance accuracy and could even introduce diminishing returns in performance. Therefore, selecting two or three examples per class appears to strike the right balance between providing sufficient context and avoiding unnecessary complexity in the prompt."
      ]
    },
    {
      "cell_type": "code",
      "execution_count": null,
      "id": "237ca885",
      "metadata": {
        "execution": {
          "iopub.execute_input": "2025-01-04T02:21:24.917379Z",
          "iopub.status.busy": "2025-01-04T02:21:24.916571Z",
          "iopub.status.idle": "2025-01-04T03:21:27.054689Z",
          "shell.execute_reply": "2025-01-04T03:21:27.053683Z"
        },
        "id": "237ca885",
        "outputId": "18eb0469-04fe-449e-ddbb-24d8721d9ab2",
        "papermill": {
          "duration": 3602.269541,
          "end_time": "2025-01-04T03:21:27.056375",
          "exception": false,
          "start_time": "2025-01-04T02:21:24.786834",
          "status": "completed"
        },
        "tags": []
      },
      "outputs": [
        {
          "name": "stderr",
          "output_type": "stream",
          "text": [
            "Generating responses: 100%|██████████| 5/5 [20:04<00:00, 240.92s/it]\n",
            "Generating responses: 100%|██████████| 5/5 [39:57<00:00, 479.44s/it]\n"
          ]
        },
        {
          "data": {
            "image/png": "[encoded data removed]",
            "text/plain": [
              "<Figure size 1200x500 with 2 Axes>"
            ]
          },
          "metadata": {},
          "output_type": "display_data"
        }
      ],
      "source": [
        "n_experiments = 5\n",
        "num_per_class_list= list(range(1, n_experiments+1))\n",
        "\n",
        "plot_variability(mode= 'quantity', num_per_class= num_per_class_list)"
      ]
    },
    {
      "cell_type": "markdown",
      "id": "1d3f0771",
      "metadata": {
        "id": "1d3f0771",
        "papermill": {
          "duration": 0.130606,
          "end_time": "2025-01-04T03:21:27.321566",
          "exception": false,
          "start_time": "2025-01-04T03:21:27.190960",
          "status": "completed"
        },
        "tags": []
      },
      "source": [
        "# Experiments"
      ]
    },
    {
      "cell_type": "markdown",
      "id": "f6ca6745",
      "metadata": {
        "id": "f6ca6745",
        "papermill": {
          "duration": 0.132648,
          "end_time": "2025-01-04T03:21:27.587317",
          "exception": false,
          "start_time": "2025-01-04T03:21:27.454669",
          "status": "completed"
        },
        "tags": []
      },
      "source": [
        "## CoT\n",
        "We decide to explore the Chain of Thought technique. Our objective is to guide the model reasoning trying to increase its performances.\n",
        "We try this technique for both Phi3 and Mistral v3."
      ]
    },
    {
      "cell_type": "markdown",
      "id": "b2c406b5",
      "metadata": {
        "id": "b2c406b5",
        "papermill": {
          "duration": 0.131875,
          "end_time": "2025-01-04T03:21:27.854226",
          "exception": false,
          "start_time": "2025-01-04T03:21:27.722351",
          "status": "completed"
        },
        "tags": []
      },
      "source": [
        "We add some instruction in the prompt template, giving some general reasoning tools to classify the sentences. Due to the high variability related to the examples found out in the previous section, we decide to not give the model specific examples with explanation, but just some general rules."
      ]
    },
    {
      "cell_type": "code",
      "execution_count": null,
      "id": "f219bc06",
      "metadata": {
        "execution": {
          "iopub.execute_input": "2025-01-04T03:21:28.114321Z",
          "iopub.status.busy": "2025-01-04T03:21:28.113995Z",
          "iopub.status.idle": "2025-01-04T03:21:28.118615Z",
          "shell.execute_reply": "2025-01-04T03:21:28.117777Z"
        },
        "id": "f219bc06",
        "papermill": {
          "duration": 0.136684,
          "end_time": "2025-01-04T03:21:28.120200",
          "exception": false,
          "start_time": "2025-01-04T03:21:27.983516",
          "status": "completed"
        },
        "tags": []
      },
      "outputs": [],
      "source": [
        "prompt_cot = [\n",
        "    {\n",
        "        'role': 'system',\n",
        "        'content': 'You are an annotator for sexism detection.'\n",
        "    },\n",
        "    {\n",
        "        'role': 'user',\n",
        "        'content': \"\"\"Your task is to classify input text as containing sexism or not. Respond only YES or NO.\n",
        "        Think step by step. A sentence is more likely to contain sexism when:\n",
        "        A woman is associated to an object; a person is discriminated on the basis of its sex; a person, especially a woman, is denigrated due to sexual\n",
        "        comments.\n",
        "        TEXT:\n",
        "        {text}\n",
        "\n",
        "        ANSWER:\n",
        "        \"\"\"\n",
        "    }\n",
        "]"
      ]
    },
    {
      "cell_type": "markdown",
      "id": "8c5c03d1",
      "metadata": {
        "id": "8c5c03d1",
        "papermill": {
          "duration": 0.133775,
          "end_time": "2025-01-04T03:21:28.386501",
          "exception": false,
          "start_time": "2025-01-04T03:21:28.252726",
          "status": "completed"
        },
        "tags": []
      },
      "source": [
        " In the following sections we introduce the `full_pipeline` function which avoids multiple repetitions of the same code."
      ]
    },
    {
      "cell_type": "code",
      "execution_count": null,
      "id": "bb2c3074",
      "metadata": {
        "execution": {
          "iopub.execute_input": "2025-01-04T03:21:28.654602Z",
          "iopub.status.busy": "2025-01-04T03:21:28.653911Z",
          "iopub.status.idle": "2025-01-04T03:21:28.660021Z",
          "shell.execute_reply": "2025-01-04T03:21:28.659205Z"
        },
        "id": "bb2c3074",
        "papermill": {
          "duration": 0.142152,
          "end_time": "2025-01-04T03:21:28.661575",
          "exception": false,
          "start_time": "2025-01-04T03:21:28.519423",
          "status": "completed"
        },
        "tags": []
      },
      "outputs": [],
      "source": [
        "def full_pipeline(prompt : str, prompting_technique_name : str, performances : dict) -> dict:\n",
        "\n",
        "    \"\"\"\n",
        "    Implements the full pipeline from the preparation of the prompts to the metrics saving.\n",
        "\n",
        "    Input:\n",
        "    prompt: the type of prompt\n",
        "    prompting_technique_name: the name of the prompting technique\n",
        "    performances: dictionary in which store the computed metrics\n",
        "    \"\"\"\n",
        "    for model, tokenizer in zip((model_1, model_2), (tokenizer_1, tokenizer_2)):\n",
        "\n",
        "        model_name = 'Phi3' if model == model_1 else 'Mistral'\n",
        "\n",
        "        if prompting_technique_name == 'few_shot':\n",
        "            data_loader = prepare_prompts_few_shot(test_data, prompt, tokenizer, num_per_class = 2)\n",
        "        else:\n",
        "            data_loader = prepare_prompts(test_data, prompt, tokenizer)\n",
        "\n",
        "        model_response = generate_responses(model, data_loader)\n",
        "        model_response = tokenizer.batch_decode(model_response, skip_special_tokens=True)\n",
        "        model_response = [extract_response(item) for item in model_response]\n",
        "\n",
        "        performances[f'{model_name}_{prompting_technique_name}'] = compute_metrics(model_response, ground_truth)\n",
        "\n",
        "    return performances"
      ]
    },
    {
      "cell_type": "code",
      "execution_count": null,
      "id": "d66c8fca",
      "metadata": {
        "colab": {
          "referenced_widgets": [
            "3f15afe03e4a4c7ba03a2513a783a574",
            "65ddd0a495c6436d9791298bdce304a1"
          ]
        },
        "execution": {
          "iopub.execute_input": "2025-01-04T03:21:28.960828Z",
          "iopub.status.busy": "2025-01-04T03:21:28.960126Z",
          "iopub.status.idle": "2025-01-04T03:28:34.819201Z",
          "shell.execute_reply": "2025-01-04T03:28:34.818166Z"
        },
        "id": "d66c8fca",
        "outputId": "b6e38b41-83ed-45ac-c4dc-fdd982567c70",
        "papermill": {
          "duration": 425.992581,
          "end_time": "2025-01-04T03:28:34.820924",
          "exception": false,
          "start_time": "2025-01-04T03:21:28.828343",
          "status": "completed"
        },
        "tags": []
      },
      "outputs": [
        {
          "data": {
            "application/vnd.jupyter.widget-view+json": {
              "model_id": "3f15afe03e4a4c7ba03a2513a783a574",
              "version_major": 2,
              "version_minor": 0
            },
            "text/plain": [
              "Map:   0%|          | 0/300 [00:00<?, ? examples/s]"
            ]
          },
          "metadata": {},
          "output_type": "display_data"
        },
        {
          "name": "stdout",
          "output_type": "stream",
          "text": [
            "<|system|>\n",
            "You are an annotator for sexism detection.<|end|>\n",
            "<|user|>\n",
            "Your task is to classify input text as containing sexism or not. Respond only YES or NO.\n",
            "        Think step by step. A sentence is more likely to contain sexism when:\n",
            "        A woman is associated to an object; a person is discriminated on the basis of its sex; a person, especially a woman, is denigrated due to sexual\n",
            "        comments.\n",
            "        TEXT:\n",
            "        The boys must be gaming because there goes the wifi.\n",
            "\n",
            "        ANSWER:\n",
            "        <|end|>\n",
            "<|assistant|>\n",
            "\n"
          ]
        },
        {
          "name": "stderr",
          "output_type": "stream",
          "text": [
            "Generating responses: 100%|██████████| 300/300 [02:32<00:00,  1.97it/s]\n"
          ]
        },
        {
          "data": {
            "application/vnd.jupyter.widget-view+json": {
              "model_id": "65ddd0a495c6436d9791298bdce304a1",
              "version_major": 2,
              "version_minor": 0
            },
            "text/plain": [
              "Map:   0%|          | 0/300 [00:00<?, ? examples/s]"
            ]
          },
          "metadata": {},
          "output_type": "display_data"
        },
        {
          "name": "stdout",
          "output_type": "stream",
          "text": [
            "<s>[INST] You are an annotator for sexism detection.\n",
            "\n",
            "Your task is to classify input text as containing sexism or not. Respond only YES or NO.\n",
            "        Think step by step. A sentence is more likely to contain sexism when:\n",
            "        A woman is associated to an object; a person is discriminated on the basis of its sex; a person, especially a woman, is denigrated due to sexual\n",
            "        comments.\n",
            "        TEXT:\n",
            "        The boys must be gaming because there goes the wifi.\n",
            "\n",
            "        ANSWER:\n",
            "        [/INST]\n"
          ]
        },
        {
          "name": "stderr",
          "output_type": "stream",
          "text": [
            "Generating responses: 100%|██████████| 300/300 [04:33<00:00,  1.10it/s]\n"
          ]
        }
      ],
      "source": [
        "performances = full_pipeline(prompt_cot, 'CoT', {})"
      ]
    },
    {
      "cell_type": "code",
      "execution_count": null,
      "id": "219f15cb",
      "metadata": {
        "execution": {
          "iopub.execute_input": "2025-01-04T03:28:35.156492Z",
          "iopub.status.busy": "2025-01-04T03:28:35.155775Z",
          "iopub.status.idle": "2025-01-04T03:28:35.162996Z",
          "shell.execute_reply": "2025-01-04T03:28:35.162129Z"
        },
        "id": "219f15cb",
        "outputId": "c0be08f4-237e-4fe8-b477-d3ea8d7816a1",
        "papermill": {
          "duration": 0.182007,
          "end_time": "2025-01-04T03:28:35.164677",
          "exception": false,
          "start_time": "2025-01-04T03:28:34.982670",
          "status": "completed"
        },
        "tags": []
      },
      "outputs": [
        {
          "name": "stdout",
          "output_type": "stream",
          "text": [
            "╒═════════════╤══════════════════╤══════════════╤════════════╕\n",
            "│             │   accuracy_score │   fail_ratio │   f1-score │\n",
            "╞═════════════╪══════════════════╪══════════════╪════════════╡\n",
            "│ Phi3_CoT    │            0.73  │            0 │      0.723 │\n",
            "├─────────────┼──────────────────┼──────────────┼────────────┤\n",
            "│ Mistral_CoT │            0.647 │            0 │      0.608 │\n",
            "╘═════════════╧══════════════════╧══════════════╧════════════╛\n"
          ]
        }
      ],
      "source": [
        "show_performances_table(performances, save_file= True, file_name= 'CoT_results')"
      ]
    },
    {
      "cell_type": "markdown",
      "id": "92c2dae2",
      "metadata": {
        "id": "92c2dae2",
        "papermill": {
          "duration": 0.160578,
          "end_time": "2025-01-04T03:28:35.484439",
          "exception": false,
          "start_time": "2025-01-04T03:28:35.323861",
          "status": "completed"
        },
        "tags": []
      },
      "source": [
        "Phi3 exhibits a more substantial performance boost with this technique, achieving results that even surpass its few-shot performance. In contrast, Mistral does not exhibit similar improvements, as its performance remains lower than that of its few-shot implementation. Specifically, when randomly selecting different examples per class in the few-shot setup, Mistral achieves an average accuracy of 0.7, which it fails to exceed with the current approach."
      ]
    },
    {
      "cell_type": "markdown",
      "id": "f2444bb9",
      "metadata": {
        "id": "f2444bb9",
        "papermill": {
          "duration": 0.156269,
          "end_time": "2025-01-04T03:28:35.841797",
          "exception": false,
          "start_time": "2025-01-04T03:28:35.685528",
          "status": "completed"
        },
        "tags": []
      },
      "source": [
        "## A1 dataset"
      ]
    },
    {
      "cell_type": "markdown",
      "id": "7ab04808",
      "metadata": {
        "id": "7ab04808",
        "papermill": {
          "duration": 0.159209,
          "end_time": "2025-01-04T03:28:36.155195",
          "exception": false,
          "start_time": "2025-01-04T03:28:35.995986",
          "status": "completed"
        },
        "tags": []
      },
      "source": [
        "In this subsection, our goal is to evaluate the two models using the dataset provided in Assignment 1. To achieve this, we use the test set to query the models while utilizing the training set as the demonstration set for few-shot prompting. The models are evaluated using the three prompting techniques discussed earlier."
      ]
    },
    {
      "cell_type": "code",
      "execution_count": null,
      "id": "ac02a877",
      "metadata": {
        "execution": {
          "iopub.execute_input": "2025-01-04T03:28:36.476480Z",
          "iopub.status.busy": "2025-01-04T03:28:36.475782Z",
          "iopub.status.idle": "2025-01-04T03:28:38.692980Z",
          "shell.execute_reply": "2025-01-04T03:28:38.692283Z"
        },
        "id": "ac02a877",
        "papermill": {
          "duration": 2.380354,
          "end_time": "2025-01-04T03:28:38.694957",
          "exception": false,
          "start_time": "2025-01-04T03:28:36.314603",
          "status": "completed"
        },
        "tags": []
      },
      "outputs": [],
      "source": [
        "url = 'https://raw.githubusercontent.com/nlp-unibo/nlp-course-material/main/2024-2025/Assignment%201/data/'\n",
        "\n",
        "test_df = pd.read_json(url + 'test.json').T\n",
        "train_df = pd.read_json(url + 'training.json').T"
      ]
    },
    {
      "cell_type": "markdown",
      "id": "be31d118",
      "metadata": {
        "id": "be31d118",
        "papermill": {
          "duration": 0.155471,
          "end_time": "2025-01-04T03:28:39.011852",
          "exception": false,
          "start_time": "2025-01-04T03:28:38.856381",
          "status": "completed"
        },
        "tags": []
      },
      "source": [
        "We preprocess the dataset as follows:\n",
        "- we keep only the english tweets\n",
        "- we remove the emoticons, urls, users mentions and special charcaters"
      ]
    },
    {
      "cell_type": "code",
      "execution_count": null,
      "id": "b5cc3e74",
      "metadata": {
        "execution": {
          "iopub.execute_input": "2025-01-04T03:28:39.375703Z",
          "iopub.status.busy": "2025-01-04T03:28:39.374961Z",
          "iopub.status.idle": "2025-01-04T03:28:39.456133Z",
          "shell.execute_reply": "2025-01-04T03:28:39.455444Z"
        },
        "id": "b5cc3e74",
        "papermill": {
          "duration": 0.29213,
          "end_time": "2025-01-04T03:28:39.458127",
          "exception": false,
          "start_time": "2025-01-04T03:28:39.165997",
          "status": "completed"
        },
        "tags": []
      },
      "outputs": [],
      "source": [
        "def determine_label(row: pd.Series) -> str:\n",
        "\n",
        "    \"\"\"\n",
        "    Converts soft labels into hard labels (strings).\n",
        "\n",
        "    :param row: row of the dataset to convert (pd.Series)\n",
        "\n",
        "    :return\n",
        "        - string representing the hard label\n",
        "    \"\"\"\n",
        "\n",
        "    num_yes = row[\"labels_task1\"].count(\"YES\")\n",
        "    num_no = row[\"labels_task1\"].count(\"NO\")\n",
        "    if num_yes == num_no:\n",
        "        return None\n",
        "    return \"YES\" if num_yes > num_no else \"NO\"\n",
        "\n",
        "def corpus(df: pd.DataFrame, multilingual:bool = False) -> pd.DataFrame:\n",
        "\n",
        "    \"\"\"\n",
        "    Converts soft labels into hard labels (int) and drops irrelevant rows/columns.\n",
        "\n",
        "    Input:\n",
        "    df: dataset split to convert (pd.DataFrame)\n",
        "    multilingual: whether to keep spanish tweets (bool)\n",
        "\n",
        "    Output:\n",
        "        - refined dataset\n",
        "    \"\"\"\n",
        "\n",
        "    df[\"hard_label_task1\"] = df.apply(determine_label, axis=1)\n",
        "    df = df.dropna(subset=[\"hard_label_task1\"])\n",
        "    if not multilingual:\n",
        "      df = df[df[\"lang\"] != \"es\"]\n",
        "    df = df[[\"id_EXIST\", \"lang\", \"tweet\", \"hard_label_task1\"]]\n",
        "    df.loc[df[\"hard_label_task1\"] == \"YES\", \"hard_label_task1\"] = 1\n",
        "    df.loc[df[\"hard_label_task1\"] == \"NO\", \"hard_label_task1\"] = 0\n",
        "    df.reset_index(drop=True, inplace=True)\n",
        "    return df\n",
        "\n",
        "test_df = corpus(test_df)\n",
        "train_df = corpus(train_df)"
      ]
    },
    {
      "cell_type": "code",
      "execution_count": null,
      "id": "cc2d7a29",
      "metadata": {
        "execution": {
          "iopub.execute_input": "2025-01-04T03:28:39.779706Z",
          "iopub.status.busy": "2025-01-04T03:28:39.779349Z",
          "iopub.status.idle": "2025-01-04T03:28:40.074101Z",
          "shell.execute_reply": "2025-01-04T03:28:40.073090Z"
        },
        "id": "cc2d7a29",
        "papermill": {
          "duration": 0.458095,
          "end_time": "2025-01-04T03:28:40.076103",
          "exception": false,
          "start_time": "2025-01-04T03:28:39.618008",
          "status": "completed"
        },
        "tags": []
      },
      "outputs": [],
      "source": [
        "url = 'https://raw.githubusercontent.com/muan/unicode-emoji-json/main/data-by-emoji.json'\n",
        "response = requests.get(url)\n",
        "json_data = response.json()\n",
        "\n",
        "\n",
        "emoji_list = list(json_data.keys())\n",
        "regex_pattern = \"|\".join(re.escape(word) for word in emoji_list)\n",
        "regex = re.compile(regex_pattern)"
      ]
    },
    {
      "cell_type": "code",
      "execution_count": null,
      "id": "7cdf8e8d",
      "metadata": {
        "execution": {
          "iopub.execute_input": "2025-01-04T03:28:40.399676Z",
          "iopub.status.busy": "2025-01-04T03:28:40.399273Z",
          "iopub.status.idle": "2025-01-04T03:28:41.697970Z",
          "shell.execute_reply": "2025-01-04T03:28:41.697260Z"
        },
        "id": "7cdf8e8d",
        "papermill": {
          "duration": 1.463138,
          "end_time": "2025-01-04T03:28:41.699885",
          "exception": false,
          "start_time": "2025-01-04T03:28:40.236747",
          "status": "completed"
        },
        "tags": []
      },
      "outputs": [],
      "source": [
        "def data_cleaning(tweet: str) -> str:\n",
        "    tweet = re.sub(regex.pattern,' ',tweet)\n",
        "    tweet = re.sub(r'\\B\\@(\\w)+',' ',tweet)\n",
        "    #tweet = re.sub(r'\\B\\#(\\w)+',' ',tweet)\n",
        "    tweet = re.sub(r'https?://\\S*', ' ', tweet)\n",
        "    tweet = re.sub(r\"[^a-zA-Z]\", ' ', tweet)\n",
        "    tweet = tweet.lower()\n",
        "    return tweet\n",
        "\n",
        "test_df['tweet'] = test_df['tweet'].apply(data_cleaning)\n",
        "train_df['tweet'] = train_df['tweet'].apply(data_cleaning)"
      ]
    },
    {
      "cell_type": "code",
      "execution_count": null,
      "id": "3b1d40a1",
      "metadata": {
        "execution": {
          "iopub.execute_input": "2025-01-04T03:28:42.022008Z",
          "iopub.status.busy": "2025-01-04T03:28:42.021660Z",
          "iopub.status.idle": "2025-01-04T03:28:42.034042Z",
          "shell.execute_reply": "2025-01-04T03:28:42.033222Z"
        },
        "id": "3b1d40a1",
        "outputId": "f57e9a43-ad76-4a4f-834a-c7b673f0af51",
        "papermill": {
          "duration": 0.174976,
          "end_time": "2025-01-04T03:28:42.035875",
          "exception": false,
          "start_time": "2025-01-04T03:28:41.860899",
          "status": "completed"
        },
        "tags": []
      },
      "outputs": [
        {
          "data": {
            "text/html": [
              "<div>\n",
              "<style scoped>\n",
              "    .dataframe tbody tr th:only-of-type {\n",
              "        vertical-align: middle;\n",
              "    }\n",
              "\n",
              "    .dataframe tbody tr th {\n",
              "        vertical-align: top;\n",
              "    }\n",
              "\n",
              "    .dataframe thead th {\n",
              "        text-align: right;\n",
              "    }\n",
              "</style>\n",
              "<table border=\"1\" class=\"dataframe\">\n",
              "  <thead>\n",
              "    <tr style=\"text-align: right;\">\n",
              "      <th></th>\n",
              "      <th>id_EXIST</th>\n",
              "      <th>lang</th>\n",
              "      <th>text</th>\n",
              "      <th>label_sexist</th>\n",
              "    </tr>\n",
              "  </thead>\n",
              "  <tbody>\n",
              "    <tr>\n",
              "      <th>0</th>\n",
              "      <td>400178</td>\n",
              "      <td>en</td>\n",
              "      <td>st day at the pool on a beautiful sunday in n...</td>\n",
              "      <td>0</td>\n",
              "    </tr>\n",
              "    <tr>\n",
              "      <th>1</th>\n",
              "      <td>400179</td>\n",
              "      <td>en</td>\n",
              "      <td>i like your outfit too except when i dress up...</td>\n",
              "      <td>1</td>\n",
              "    </tr>\n",
              "    <tr>\n",
              "      <th>2</th>\n",
              "      <td>400180</td>\n",
              "      <td>en</td>\n",
              "      <td>same  though    the angst just comes and ...</td>\n",
              "      <td>0</td>\n",
              "    </tr>\n",
              "    <tr>\n",
              "      <th>3</th>\n",
              "      <td>400181</td>\n",
              "      <td>en</td>\n",
              "      <td>fuck that cunt  tried to vote her out mult...</td>\n",
              "      <td>1</td>\n",
              "    </tr>\n",
              "    <tr>\n",
              "      <th>4</th>\n",
              "      <td>400182</td>\n",
              "      <td>en</td>\n",
              "      <td>u gotta say some shit like  i ll fuck that c...</td>\n",
              "      <td>1</td>\n",
              "    </tr>\n",
              "  </tbody>\n",
              "</table>\n",
              "</div>"
            ],
            "text/plain": [
              "  id_EXIST lang                                               text  \\\n",
              "0   400178   en   st day at the pool on a beautiful sunday in n...   \n",
              "1   400179   en   i like your outfit too except when i dress up...   \n",
              "2   400180   en       same  though    the angst just comes and ...   \n",
              "3   400181   en      fuck that cunt  tried to vote her out mult...   \n",
              "4   400182   en    u gotta say some shit like  i ll fuck that c...   \n",
              "\n",
              "  label_sexist  \n",
              "0            0  \n",
              "1            1  \n",
              "2            0  \n",
              "3            1  \n",
              "4            1  "
            ]
          },
          "execution_count": 75,
          "metadata": {},
          "output_type": "execute_result"
        }
      ],
      "source": [
        "test_df = test_df.rename(columns={'tweet' : 'text', 'hard_label_task1' : 'label_sexist'})\n",
        "train_df = train_df.rename(columns={'tweet' : 'text', 'hard_label_task1' : 'label_sexist'})\n",
        "test_df.head()"
      ]
    },
    {
      "cell_type": "code",
      "execution_count": null,
      "id": "e81beab8",
      "metadata": {
        "execution": {
          "iopub.execute_input": "2025-01-04T03:28:42.353383Z",
          "iopub.status.busy": "2025-01-04T03:28:42.353051Z",
          "iopub.status.idle": "2025-01-04T03:28:42.358319Z",
          "shell.execute_reply": "2025-01-04T03:28:42.357628Z"
        },
        "id": "e81beab8",
        "papermill": {
          "duration": 0.163382,
          "end_time": "2025-01-04T03:28:42.359914",
          "exception": false,
          "start_time": "2025-01-04T03:28:42.196532",
          "status": "completed"
        },
        "tags": []
      },
      "outputs": [],
      "source": [
        "train_df['label_sexist'] = train_df['label_sexist'].map(lambda x : 'YES' if x == 1 else 'NO')"
      ]
    },
    {
      "cell_type": "code",
      "execution_count": null,
      "id": "3a4bfce5",
      "metadata": {
        "execution": {
          "iopub.execute_input": "2025-01-04T03:28:42.721204Z",
          "iopub.status.busy": "2025-01-04T03:28:42.720501Z",
          "iopub.status.idle": "2025-01-04T03:28:42.732487Z",
          "shell.execute_reply": "2025-01-04T03:28:42.731681Z"
        },
        "id": "3a4bfce5",
        "papermill": {
          "duration": 0.176291,
          "end_time": "2025-01-04T03:28:42.734058",
          "exception": false,
          "start_time": "2025-01-04T03:28:42.557767",
          "status": "completed"
        },
        "tags": []
      },
      "outputs": [],
      "source": [
        "test_data = Dataset.from_pandas(test_df)\n",
        "ground_truth = np.array(test_data['label_sexist'])\n",
        "metrics = {'zero_shot' : [], 'few_shot' : [], 'CoT' : []}"
      ]
    },
    {
      "cell_type": "markdown",
      "id": "f118951a",
      "metadata": {
        "id": "f118951a",
        "papermill": {
          "duration": 0.156587,
          "end_time": "2025-01-04T03:28:43.050868",
          "exception": false,
          "start_time": "2025-01-04T03:28:42.894281",
          "status": "completed"
        },
        "tags": []
      },
      "source": [
        "### Zero shot prompting"
      ]
    },
    {
      "cell_type": "code",
      "execution_count": null,
      "id": "499756bb",
      "metadata": {
        "colab": {
          "referenced_widgets": [
            "72a8037a033d420d8ec7e7d2f7821cb9",
            "d4c2a68dc69a4dc99c2ec0c74d6069b5"
          ]
        },
        "execution": {
          "iopub.execute_input": "2025-01-04T03:28:43.372767Z",
          "iopub.status.busy": "2025-01-04T03:28:43.372392Z",
          "iopub.status.idle": "2025-01-04T03:34:31.402584Z",
          "shell.execute_reply": "2025-01-04T03:34:31.401601Z"
        },
        "id": "499756bb",
        "outputId": "2a2de9bb-a9a9-4b4e-a0cb-f5b5903b3eb8",
        "papermill": {
          "duration": 348.197532,
          "end_time": "2025-01-04T03:34:31.404353",
          "exception": false,
          "start_time": "2025-01-04T03:28:43.206821",
          "status": "completed"
        },
        "tags": []
      },
      "outputs": [
        {
          "data": {
            "application/vnd.jupyter.widget-view+json": {
              "model_id": "72a8037a033d420d8ec7e7d2f7821cb9",
              "version_major": 2,
              "version_minor": 0
            },
            "text/plain": [
              "Map:   0%|          | 0/286 [00:00<?, ? examples/s]"
            ]
          },
          "metadata": {},
          "output_type": "display_data"
        },
        {
          "name": "stdout",
          "output_type": "stream",
          "text": [
            "<|system|>\n",
            "You are an annotator for sexism detection.<|end|>\n",
            "<|user|>\n",
            "Your task is to classify input text as containing sexism or not. Respond only YES or NO.\n",
            "\n",
            "        TEXT:\n",
            "         st day at the pool on a beautiful sunday in ny  too bad few dared to go in due to the frigid water temp  we lasted    min and figured we proved our point     \n",
            "\n",
            "        ANSWER:\n",
            "        <|end|>\n",
            "<|assistant|>\n",
            "\n"
          ]
        },
        {
          "name": "stderr",
          "output_type": "stream",
          "text": [
            "Generating responses: 100%|██████████| 286/286 [02:11<00:00,  2.18it/s]\n"
          ]
        },
        {
          "data": {
            "application/vnd.jupyter.widget-view+json": {
              "model_id": "d4c2a68dc69a4dc99c2ec0c74d6069b5",
              "version_major": 2,
              "version_minor": 0
            },
            "text/plain": [
              "Map:   0%|          | 0/286 [00:00<?, ? examples/s]"
            ]
          },
          "metadata": {},
          "output_type": "display_data"
        },
        {
          "name": "stdout",
          "output_type": "stream",
          "text": [
            "<s>[INST] You are an annotator for sexism detection.\n",
            "\n",
            "Your task is to classify input text as containing sexism or not. Respond only YES or NO.\n",
            "\n",
            "        TEXT:\n",
            "         st day at the pool on a beautiful sunday in ny  too bad few dared to go in due to the frigid water temp  we lasted    min and figured we proved our point     \n",
            "\n",
            "        ANSWER:\n",
            "        [/INST]\n"
          ]
        },
        {
          "name": "stderr",
          "output_type": "stream",
          "text": [
            "Generating responses: 100%|██████████| 286/286 [03:36<00:00,  1.32it/s]\n"
          ]
        }
      ],
      "source": [
        "performances = full_pipeline(zero_shot_prompt, 'zero_shot', {})"
      ]
    },
    {
      "cell_type": "markdown",
      "id": "71d63089",
      "metadata": {
        "id": "71d63089",
        "papermill": {
          "duration": 0.184634,
          "end_time": "2025-01-04T03:34:31.822252",
          "exception": false,
          "start_time": "2025-01-04T03:34:31.637618",
          "status": "completed"
        },
        "tags": []
      },
      "source": [
        "### Few Shot prompting"
      ]
    },
    {
      "cell_type": "code",
      "execution_count": null,
      "id": "2ba4a32c",
      "metadata": {
        "colab": {
          "referenced_widgets": [
            "3131205d9c7442298e18adeb7388136d",
            "fb38bf70a76847da94c0698a06c00bfa"
          ]
        },
        "execution": {
          "iopub.execute_input": "2025-01-04T03:34:32.184611Z",
          "iopub.status.busy": "2025-01-04T03:34:32.184275Z",
          "iopub.status.idle": "2025-01-04T03:44:29.599160Z",
          "shell.execute_reply": "2025-01-04T03:44:29.598291Z"
        },
        "id": "2ba4a32c",
        "outputId": "841e0459-bd3e-43e4-c7c6-6f54c2079da9",
        "papermill": {
          "duration": 597.598026,
          "end_time": "2025-01-04T03:44:29.600986",
          "exception": false,
          "start_time": "2025-01-04T03:34:32.002960",
          "status": "completed"
        },
        "tags": []
      },
      "outputs": [
        {
          "data": {
            "application/vnd.jupyter.widget-view+json": {
              "model_id": "3131205d9c7442298e18adeb7388136d",
              "version_major": 2,
              "version_minor": 0
            },
            "text/plain": [
              "Map:   0%|          | 0/286 [00:00<?, ? examples/s]"
            ]
          },
          "metadata": {},
          "output_type": "display_data"
        },
        {
          "name": "stdout",
          "output_type": "stream",
          "text": [
            "<|system|>\n",
            "You are an annotator for sexism detection.<|end|>\n",
            "<|user|>\n",
            "Your task is to classify input text as containing sexism or not. Respond only YES or NO.\n",
            "\n",
            "        EXAMPLES:\n",
            "        TEXT: So you are mainly attracted to Asian women who have white fever and 10 ex white boyfriends?\n",
            "ANSWER: YES\n",
            "TEXT: Now dat rubber rounds are badass they will mame dat shithead for life possibly make him / her disabled\n",
            "ANSWER: NO\n",
            "TEXT: No way that dumb bitch could put a sentence like that together... Someone else wrote it, she memorized it...\n",
            "ANSWER: YES\n",
            "TEXT: Yep, in modern America when you molest little boys, you get a more lenient sentence (none) than stating verifiable facts about the holocaust in most of Europe. This is so something to celebrate. 👏. 👏. 👏.\n",
            "ANSWER: NO\n",
            "\n",
            "        TEXT:\n",
            "         st day at the pool on a beautiful sunday in ny  too bad few dared to go in due to the frigid water temp  we lasted    min and figured we proved our point     \n",
            "\n",
            "        ANSWER:\n",
            "        <|end|>\n",
            "<|assistant|>\n",
            "\n"
          ]
        },
        {
          "name": "stderr",
          "output_type": "stream",
          "text": [
            "Generating responses: 100%|██████████| 286/286 [03:18<00:00,  1.44it/s]\n"
          ]
        },
        {
          "data": {
            "application/vnd.jupyter.widget-view+json": {
              "model_id": "fb38bf70a76847da94c0698a06c00bfa",
              "version_major": 2,
              "version_minor": 0
            },
            "text/plain": [
              "Map:   0%|          | 0/286 [00:00<?, ? examples/s]"
            ]
          },
          "metadata": {},
          "output_type": "display_data"
        },
        {
          "name": "stdout",
          "output_type": "stream",
          "text": [
            "<s>[INST] You are an annotator for sexism detection.\n",
            "\n",
            "Your task is to classify input text as containing sexism or not. Respond only YES or NO.\n",
            "\n",
            "        EXAMPLES:\n",
            "        TEXT: The SMF Social media female. Everything this type of female does is for her social media.\n",
            "ANSWER: YES\n",
            "TEXT: ROFLMAO.... She's a little thing so ducking to her level is ill advised\n",
            "ANSWER: NO\n",
            "TEXT: Yeah with Mgtow Day approaching (Feb 14) I already women being childish, it'll create a surge for sure.\n",
            "ANSWER: YES\n",
            "TEXT: Don't mess with granny!\n",
            "ANSWER: NO\n",
            "\n",
            "        TEXT:\n",
            "         st day at the pool on a beautiful sunday in ny  too bad few dared to go in due to the frigid water temp  we lasted    min and figured we proved our point     \n",
            "\n",
            "        ANSWER:\n",
            "        [/INST]\n"
          ]
        },
        {
          "name": "stderr",
          "output_type": "stream",
          "text": [
            "Generating responses: 100%|██████████| 286/286 [06:37<00:00,  1.39s/it]\n"
          ]
        }
      ],
      "source": [
        "performances = full_pipeline(few_shot_prompt, 'few_shot', performances)"
      ]
    },
    {
      "cell_type": "markdown",
      "id": "c1df9b83",
      "metadata": {
        "id": "c1df9b83",
        "papermill": {
          "duration": 0.216082,
          "end_time": "2025-01-04T03:44:30.036987",
          "exception": false,
          "start_time": "2025-01-04T03:44:29.820905",
          "status": "completed"
        },
        "tags": []
      },
      "source": [
        "### Chain of Thought prompting"
      ]
    },
    {
      "cell_type": "code",
      "execution_count": null,
      "id": "b5d10143",
      "metadata": {
        "colab": {
          "referenced_widgets": [
            "cbbe024fe7714e4795240cf3cadbda32",
            "6b12a7a6386b4326b49b64286da67246"
          ]
        },
        "execution": {
          "iopub.execute_input": "2025-01-04T03:44:30.515850Z",
          "iopub.status.busy": "2025-01-04T03:44:30.515497Z",
          "iopub.status.idle": "2025-01-04T03:51:05.770076Z",
          "shell.execute_reply": "2025-01-04T03:51:05.769042Z"
        },
        "id": "b5d10143",
        "outputId": "ec376664-2dc5-43f0-f29a-fe2442ac3914",
        "papermill": {
          "duration": 395.478431,
          "end_time": "2025-01-04T03:51:05.771656",
          "exception": false,
          "start_time": "2025-01-04T03:44:30.293225",
          "status": "completed"
        },
        "tags": []
      },
      "outputs": [
        {
          "data": {
            "application/vnd.jupyter.widget-view+json": {
              "model_id": "cbbe024fe7714e4795240cf3cadbda32",
              "version_major": 2,
              "version_minor": 0
            },
            "text/plain": [
              "Map:   0%|          | 0/286 [00:00<?, ? examples/s]"
            ]
          },
          "metadata": {},
          "output_type": "display_data"
        },
        {
          "name": "stdout",
          "output_type": "stream",
          "text": [
            "<|system|>\n",
            "You are an annotator for sexism detection.<|end|>\n",
            "<|user|>\n",
            "Your task is to classify input text as containing sexism or not. Respond only YES or NO.\n",
            "        Think step by step. A sentence is more likely to contain sexism when:\n",
            "        A woman is associated to an object; a person is discriminated on the basis of its sex; a person, especially a woman, is denigrated due to sexual\n",
            "        comments.\n",
            "        TEXT:\n",
            "         st day at the pool on a beautiful sunday in ny  too bad few dared to go in due to the frigid water temp  we lasted    min and figured we proved our point     \n",
            "\n",
            "        ANSWER:\n",
            "        <|end|>\n",
            "<|assistant|>\n",
            "\n"
          ]
        },
        {
          "name": "stderr",
          "output_type": "stream",
          "text": [
            "Generating responses: 100%|██████████| 286/286 [02:25<00:00,  1.96it/s]\n"
          ]
        },
        {
          "data": {
            "application/vnd.jupyter.widget-view+json": {
              "model_id": "6b12a7a6386b4326b49b64286da67246",
              "version_major": 2,
              "version_minor": 0
            },
            "text/plain": [
              "Map:   0%|          | 0/286 [00:00<?, ? examples/s]"
            ]
          },
          "metadata": {},
          "output_type": "display_data"
        },
        {
          "name": "stdout",
          "output_type": "stream",
          "text": [
            "<s>[INST] You are an annotator for sexism detection.\n",
            "\n",
            "Your task is to classify input text as containing sexism or not. Respond only YES or NO.\n",
            "        Think step by step. A sentence is more likely to contain sexism when:\n",
            "        A woman is associated to an object; a person is discriminated on the basis of its sex; a person, especially a woman, is denigrated due to sexual\n",
            "        comments.\n",
            "        TEXT:\n",
            "         st day at the pool on a beautiful sunday in ny  too bad few dared to go in due to the frigid water temp  we lasted    min and figured we proved our point     \n",
            "\n",
            "        ANSWER:\n",
            "        [/INST]\n"
          ]
        },
        {
          "name": "stderr",
          "output_type": "stream",
          "text": [
            "Generating responses: 100%|██████████| 286/286 [04:08<00:00,  1.15it/s]\n"
          ]
        }
      ],
      "source": [
        "performances = full_pipeline(prompt_cot, 'CoT', performances)"
      ]
    },
    {
      "cell_type": "markdown",
      "id": "37bec1a3",
      "metadata": {
        "id": "37bec1a3",
        "papermill": {
          "duration": 0.248531,
          "end_time": "2025-01-04T03:51:06.262305",
          "exception": false,
          "start_time": "2025-01-04T03:51:06.013774",
          "status": "completed"
        },
        "tags": []
      },
      "source": [
        "### Results"
      ]
    },
    {
      "cell_type": "code",
      "execution_count": null,
      "id": "d4d39bfc",
      "metadata": {
        "execution": {
          "iopub.execute_input": "2025-01-04T03:51:06.789349Z",
          "iopub.status.busy": "2025-01-04T03:51:06.788357Z",
          "iopub.status.idle": "2025-01-04T03:51:06.796487Z",
          "shell.execute_reply": "2025-01-04T03:51:06.795684Z"
        },
        "id": "d4d39bfc",
        "outputId": "240e0ffc-cba5-4fe0-ed5f-788342ba4e6e",
        "papermill": {
          "duration": 0.290987,
          "end_time": "2025-01-04T03:51:06.798117",
          "exception": false,
          "start_time": "2025-01-04T03:51:06.507130",
          "status": "completed"
        },
        "tags": []
      },
      "outputs": [
        {
          "name": "stdout",
          "output_type": "stream",
          "text": [
            "╒═══════════════════╤══════════════════╤══════════════╤════════════╕\n",
            "│                   │   accuracy_score │   fail_ratio │   f1-score │\n",
            "╞═══════════════════╪══════════════════╪══════════════╪════════════╡\n",
            "│ Phi3_zero_shot    │            0.72  │            0 │      0.721 │\n",
            "├───────────────────┼──────────────────┼──────────────┼────────────┤\n",
            "│ Mistral_zero_shot │            0.759 │            0 │      0.757 │\n",
            "├───────────────────┼──────────────────┼──────────────┼────────────┤\n",
            "│ Phi3_few_shot     │            0.699 │            0 │      0.684 │\n",
            "├───────────────────┼──────────────────┼──────────────┼────────────┤\n",
            "│ Mistral_few_shot  │            0.801 │            0 │      0.799 │\n",
            "├───────────────────┼──────────────────┼──────────────┼────────────┤\n",
            "│ Phi3_CoT          │            0.766 │            0 │      0.765 │\n",
            "├───────────────────┼──────────────────┼──────────────┼────────────┤\n",
            "│ Mistral_CoT       │            0.79  │            0 │      0.791 │\n",
            "╘═══════════════════╧══════════════════╧══════════════╧════════════╛\n"
          ]
        }
      ],
      "source": [
        "show_performances_table(performances, save_file= True, file_name= 'Results_A1_assignment')"
      ]
    },
    {
      "cell_type": "markdown",
      "id": "312d9fb0",
      "metadata": {
        "id": "312d9fb0",
        "papermill": {
          "duration": 0.247223,
          "end_time": "2025-01-04T03:51:07.292051",
          "exception": false,
          "start_time": "2025-01-04T03:51:07.044828",
          "status": "completed"
        },
        "tags": []
      },
      "source": [
        "The **Mistral_few_shot** model achieves the highest accuracy at 0.801, outperforming all other models.\n",
        "The Phi3_few_shot model has the lowest accuracy at 0.699, suggesting that it may be less effective for the task when compared to Mistral-based models.\n",
        "Models that involve zero-shot or CoT techniques (e.g., Phi3_zero_shot and Mistral_CoT) show accuracy in the mid-range, with Mistral-based models generally outperforming Phi3-based ones.\n",
        "\n",
        "All models report a fail ratio of 0, meaning no model experienced failure during the task. This is an important indicator that the models are stable and did not encounter issues like errors or incomplete predictions during evaluation.\n",
        "\n",
        "The Mistral-based models (both zero_shot, few_shot, and CoT) tend to outperform the Phi3-based models across all three metrics (accuracy, fail ratio, f1-score).\n",
        "Few-shot learning appears to provide the best performance across the board, suggesting that the few-shot approach is particularly effective for these tasks."
      ]
    },
    {
      "cell_type": "markdown",
      "id": "3bf45fbd",
      "metadata": {
        "id": "3bf45fbd",
        "papermill": {
          "duration": 0.246742,
          "end_time": "2025-01-04T03:51:07.780997",
          "exception": false,
          "start_time": "2025-01-04T03:51:07.534255",
          "status": "completed"
        },
        "tags": []
      },
      "source": [
        "# [Task 7 - 1.0 points] Report\n",
        "\n",
        "\n",
        "\n",
        "\n",
        "\n",
        "\n",
        "\n",
        "Wrap up your experiment in a short report (up to 2 pages)."
      ]
    },
    {
      "cell_type": "markdown",
      "id": "b8fe95f6",
      "metadata": {
        "id": "b8fe95f6",
        "papermill": {
          "duration": 0.242712,
          "end_time": "2025-01-04T03:51:08.316275",
          "exception": false,
          "start_time": "2025-01-04T03:51:08.073563",
          "status": "completed"
        },
        "tags": []
      },
      "source": [
        "### Instructions\n",
        "\n",
        "\n",
        "\n",
        "\n",
        "\n",
        "\n",
        "\n",
        "* Use the NLP course report template.\n",
        "\n",
        "\n",
        "\n",
        "* Summarize each task in the report following the provided template."
      ]
    },
    {
      "cell_type": "markdown",
      "id": "0c9c7c51",
      "metadata": {
        "id": "0c9c7c51",
        "papermill": {
          "duration": 0.248249,
          "end_time": "2025-01-04T03:51:08.810803",
          "exception": false,
          "start_time": "2025-01-04T03:51:08.562554",
          "status": "completed"
        },
        "tags": []
      },
      "source": [
        "### Recommendations\n",
        "\n",
        "\n",
        "\n",
        "\n",
        "\n",
        "\n",
        "\n",
        "The report is not a copy-paste of graphs, tables, and command outputs.\n",
        "\n",
        "\n",
        "\n",
        "\n",
        "\n",
        "\n",
        "\n",
        "* Summarize classification performance in Table format.\n",
        "\n",
        "\n",
        "\n",
        "* **Do not** report command outputs or screenshots.\n",
        "\n",
        "\n",
        "\n",
        "* Report learning curves in Figure format.\n",
        "\n",
        "\n",
        "\n",
        "* The error analysis section should summarize your findings."
      ]
    },
    {
      "cell_type": "markdown",
      "id": "e9662e1f",
      "metadata": {
        "id": "e9662e1f",
        "papermill": {
          "duration": 0.245172,
          "end_time": "2025-01-04T03:51:09.299501",
          "exception": false,
          "start_time": "2025-01-04T03:51:09.054329",
          "status": "completed"
        },
        "tags": []
      },
      "source": [
        "# Submission\n",
        "\n",
        "\n",
        "\n",
        "\n",
        "\n",
        "\n",
        "\n",
        "* **Submit** your report in PDF format.\n",
        "\n",
        "\n",
        "\n",
        "* **Submit** your python notebook.\n",
        "\n",
        "\n",
        "\n",
        "* Make sure your notebook is **well organized**, with no temporary code, commented sections, tests, etc..."
      ]
    },
    {
      "cell_type": "markdown",
      "id": "4cbc6c46",
      "metadata": {
        "id": "4cbc6c46",
        "papermill": {
          "duration": 0.242087,
          "end_time": "2025-01-04T03:51:09.830743",
          "exception": false,
          "start_time": "2025-01-04T03:51:09.588656",
          "status": "completed"
        },
        "tags": []
      },
      "source": [
        "# FAQ\n",
        "\n",
        "\n",
        "\n",
        "\n",
        "\n",
        "\n",
        "\n",
        "Please check this frequently asked questions before contacting us."
      ]
    },
    {
      "cell_type": "markdown",
      "id": "d02bebab",
      "metadata": {
        "id": "d02bebab",
        "papermill": {
          "duration": 0.250932,
          "end_time": "2025-01-04T03:51:10.322012",
          "exception": false,
          "start_time": "2025-01-04T03:51:10.071080",
          "status": "completed"
        },
        "tags": []
      },
      "source": [
        "### Model cards\n",
        "\n",
        "\n",
        "\n",
        "\n",
        "\n",
        "\n",
        "\n",
        "You can pick any open-source model card you like.\n",
        "\n",
        "\n",
        "\n",
        "\n",
        "\n",
        "\n",
        "\n",
        "We recommend starting from those reported in this assignment."
      ]
    },
    {
      "cell_type": "markdown",
      "id": "74b33777",
      "metadata": {
        "id": "74b33777",
        "papermill": {
          "duration": 0.242105,
          "end_time": "2025-01-04T03:51:10.857503",
          "exception": false,
          "start_time": "2025-01-04T03:51:10.615398",
          "status": "completed"
        },
        "tags": []
      },
      "source": [
        "### Implementation\n",
        "\n",
        "\n",
        "\n",
        "\n",
        "\n",
        "\n",
        "\n",
        "Everything can be done via ``transformers`` APIs.\n",
        "\n",
        "\n",
        "\n",
        "\n",
        "\n",
        "\n",
        "\n",
        "However, you are free to test frameworks, such as [LangChain](https://www.langchain.com/), [LlamaIndex](https://www.llamaindex.ai/) [LitParrot](https://github.com/awesome-software/lit-parrot), provided that you correctly address task instructions."
      ]
    },
    {
      "cell_type": "markdown",
      "id": "242c9431",
      "metadata": {
        "id": "242c9431",
        "papermill": {
          "duration": 0.249663,
          "end_time": "2025-01-04T03:51:11.359002",
          "exception": false,
          "start_time": "2025-01-04T03:51:11.109339",
          "status": "completed"
        },
        "tags": []
      },
      "source": [
        "### Bonus Points\n",
        "\n",
        "\n",
        "\n",
        "\n",
        "\n",
        "\n",
        "\n",
        "0.5 bonus points are arbitrarily assigned based on significant contributions such as:\n",
        "\n",
        "\n",
        "\n",
        "\n",
        "\n",
        "\n",
        "\n",
        "- Outstanding error analysis\n",
        "\n",
        "\n",
        "\n",
        "- Masterclass code organization\n",
        "\n",
        "\n",
        "\n",
        "- Suitable extensions\n",
        "\n",
        "\n",
        "\n",
        "- Evaluate A1 dataset and perform comparison\n",
        "\n",
        "\n",
        "\n",
        "\n",
        "\n",
        "\n",
        "\n",
        "Note that bonus points are only assigned if all task points are attributed (i.e., 6/6)."
      ]
    },
    {
      "cell_type": "markdown",
      "id": "544b0a41",
      "metadata": {
        "id": "544b0a41",
        "papermill": {
          "duration": 0.292936,
          "end_time": "2025-01-04T03:51:11.893780",
          "exception": false,
          "start_time": "2025-01-04T03:51:11.600844",
          "status": "completed"
        },
        "tags": []
      },
      "source": [
        "### Prompt Template\n",
        "\n",
        "\n",
        "\n",
        "\n",
        "\n",
        "\n",
        "\n",
        "Do not change the provided prompt template.\n",
        "\n",
        "\n",
        "\n",
        "\n",
        "\n",
        "\n",
        "\n",
        "You are only allowed to change it in case of a possible extension."
      ]
    },
    {
      "cell_type": "markdown",
      "id": "9cfe9bac",
      "metadata": {
        "id": "9cfe9bac",
        "papermill": {
          "duration": 0.245262,
          "end_time": "2025-01-04T03:51:12.384449",
          "exception": false,
          "start_time": "2025-01-04T03:51:12.139187",
          "status": "completed"
        },
        "tags": []
      },
      "source": [
        "### Optimizations\n",
        "\n",
        "\n",
        "\n",
        "\n",
        "\n",
        "\n",
        "\n",
        "Any kind of code optimization (e.g., speedup model inference or reduce computational cost) is more than welcome!"
      ]
    },
    {
      "cell_type": "markdown",
      "id": "082c9ed0",
      "metadata": {
        "id": "082c9ed0",
        "papermill": {
          "duration": 0.246156,
          "end_time": "2025-01-04T03:51:12.879503",
          "exception": false,
          "start_time": "2025-01-04T03:51:12.633347",
          "status": "completed"
        },
        "tags": []
      },
      "source": [
        "# The End"
      ]
    }
  ],
  "metadata": {
    "accelerator": "GPU",
    "celltoolbar": "Slideshow",
    "colab": {
      "gpuType": "T4",
      "provenance": []
    },
    "kaggle": {
      "accelerator": "gpu",
      "dataSources": [
        {
          "datasetId": 6392562,
          "sourceId": 10324667,
          "sourceType": "datasetVersion"
        }
      ],
      "dockerImageVersionId": 30805,
      "isGpuEnabled": true,
      "isInternetEnabled": true,
      "language": "python",
      "sourceType": "notebook"
    },
    "kernelspec": {
      "display_name": "Python 3",
      "language": "python",
      "name": "python3"
    },
    "language_info": {
      "codemirror_mode": {
        "name": "ipython",
        "version": 3
      },
      "file_extension": ".py",
      "mimetype": "text/x-python",
      "name": "python",
      "nbconvert_exporter": "python",
      "pygments_lexer": "ipython3",
      "version": "3.10.14"
    },
    "papermill": {
      "default_parameters": {},
      "duration": 19920.046144,
      "end_time": "2025-01-04T03:51:16.121528",
      "environment_variables": {},
      "exception": null,
      "input_path": "__notebook__.ipynb",
      "output_path": "__notebook__.ipynb",
      "parameters": {},
      "start_time": "2025-01-03T22:19:16.075384",
      "version": "2.6.0"
    },
    "widgets": {
      "application/vnd.jupyter.widget-state+json": {}
    }
  },
  "nbformat": 4,
  "nbformat_minor": 5
}
